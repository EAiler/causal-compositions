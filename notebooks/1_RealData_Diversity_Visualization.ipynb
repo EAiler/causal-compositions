{
 "cells": [
  {
   "cell_type": "markdown",
   "metadata": {},
   "source": [
    "# Real Data Diversity Estimation\n"
   ]
  },
  {
   "cell_type": "code",
   "execution_count": 1,
   "metadata": {
    "scrolled": true
   },
   "outputs": [],
   "source": [
    "# standard libraries\n",
    "import sys\n",
    "import os\n",
    "sys.path.append(os.path.join(os.getcwd(), \"../src\"))\n",
    "import pandas as pd\n",
    "import statsmodels.api as sm\n",
    "from statsmodels.sandbox.regression.gmm import IV2SLS\n",
    "import plotly.graph_objects as go\n",
    "from skbio.diversity import alpha_diversity\n",
    "\n",
    "\n",
    "# paper relevant function files\n",
    "from helper_fct import *\n",
    "import boundiv\n",
    "import kiv\n",
    "from plot_fct import colours, update_layout, plot_diversity_methods\n",
    "#from run_methods_confidence import run_diversity_estimation_methods"
   ]
  },
  {
   "cell_type": "code",
   "execution_count": 2,
   "metadata": {},
   "outputs": [],
   "source": [
    "%load_ext autoreload\n",
    "%autoreload 2"
   ]
  },
  {
   "cell_type": "markdown",
   "metadata": {},
   "source": [
    "# Data Analysis"
   ]
  },
  {
   "cell_type": "markdown",
   "metadata": {},
   "source": [
    "##  Read in data\n",
    "\n",
    "<div class=\"alert alert-block alert-info\">\n",
    "<b>Note:</b>    \n",
    "    \n",
    "The data and the pre-processing steps can be found in the folder `input`.\n",
    "</div>\n"
   ]
  },
  {
   "cell_type": "code",
   "execution_count": 3,
   "metadata": {},
   "outputs": [],
   "source": [
    "save_path = \"/Users/elisabeth.ailer/Projects/P1_Microbiom/Code/Figures/RealData/Diversity\""
   ]
  },
  {
   "cell_type": "code",
   "execution_count": 4,
   "metadata": {},
   "outputs": [
    {
     "name": "stderr",
     "output_type": "stream",
     "text": [
      "INFO:jax._src.xla_bridge:Unable to initialize backend 'cuda': module 'jaxlib.xla_extension' has no attribute 'GpuAllocatorConfig'\n",
      "INFO:jax._src.xla_bridge:Unable to initialize backend 'rocm': module 'jaxlib.xla_extension' has no attribute 'GpuAllocatorConfig'\n",
      "INFO:jax._src.xla_bridge:Unable to initialize backend 'tpu': module 'jaxlib.xla_extension' has no attribute 'get_tpu_client'\n"
     ]
    }
   ],
   "source": [
    "agg_level = \"Family\"\n",
    "filter = \"no_filter\"\n",
    "\n",
    "res_path = agg_level + \"_\" + filter + \"_diversity_estimation.npy\"\n",
    "res = np.load(os.path.join(save_path, res_path), allow_pickle=True).item()"
   ]
  },
  {
   "cell_type": "markdown",
   "metadata": {},
   "source": [
    "# Visualization"
   ]
  },
  {
   "cell_type": "code",
   "execution_count": 59,
   "metadata": {},
   "outputs": [
    {
     "data": {
      "application/vnd.plotly.v1+json": {
       "config": {
        "plotlyServerURL": "https://plot.ly"
       },
       "data": [
        {
         "line": {
          "width": 4
         },
         "marker": {
          "color": "black",
          "line": {
           "width": 2
          },
          "size": 5,
          "symbol": "x-thin"
         },
         "mode": "markers",
         "name": "Data",
         "type": "scatter",
         "x": [
          -0.7848301091690786,
          0.7628608208005636,
          -0.35715997926872534,
          0.03135770273132839,
          -0.4365733034534654,
          0.08137327244448571,
          -1.3076233113385776,
          1.4398680091518707,
          -0.9541523474650729,
          -1.0629060819067737,
          0.803550975393601,
          -0.3620539902092652,
          -0.69280744609714,
          0.18350446856680194,
          -0.11725259046224615,
          -0.049674495716047734,
          0.017078522672343107,
          -1.2701066682047166,
          0.9019050562004468,
          -0.45898132469974956,
          0.9365488928745954,
          0.21616096314408487,
          0.2610337308152527,
          -0.2957385640961525,
          1.0014254411140986,
          -0.44193452907040875,
          -0.21270703595435664,
          -0.2984530801338347,
          -1.384311043022523,
          1.7391833935847514,
          0.5723621902180667,
          0.12153745636702752,
          0.8643436671322755,
          1.6812964301861022,
          1.865012929820615,
          -1.0462717527468353,
          -1.1083853506036765,
          -1.275397454978017,
          -1.4058159460941353,
          -0.40094194976785497,
          -1.4273208491657474,
          -0.48909396936793614,
          -0.6848357746932354,
          2.155804186335386,
          0.8239255880710149,
          1.3685520126633979,
          2.780963265671577,
          1.0920905744383034,
          -0.882422177351208,
          -1.0305780763929615,
          -0.1357978132649116,
          -0.1806087720536081,
          0.10776019421673666,
          0.14743107450078988,
          0.7604252025823653,
          -1.3653836847241996,
          -0.7972365502254304
         ],
         "y": [
          0.7205298751600169,
          1.150906252688231,
          0.1671888183380292,
          -0.6935639367183977,
          0.44385934674902305,
          0.9357180639241245,
          -0.10948171007296573,
          0.5360828562193547,
          0.04422413904425332,
          0.2286711579849166,
          -1.1546814840700548,
          0.41311817692557884,
          0.5668240260427979,
          1.027941573394455,
          -0.10948171007296573,
          0.25941232780835977,
          1.3353532716288932,
          0.9972004035710119,
          -1.8617283900092627,
          -1.9846930693030376,
          -0.10948171007296573,
          -1.6465402012451562,
          -1.6465402012451562,
          -0.5705992574246229,
          -2.5072929563015833,
          -0.9702344651293926,
          -1.9846930693030376,
          -0.1402228798964089,
          0.44385934674902305,
          -1.7080225408920435,
          0.07496530886769756,
          -0.41689340830740385,
          -0.23244638936674053,
          0.6283063656896863,
          -0.07874054024952148,
          0.6283063656896863,
          0.9972004035710119,
          0.6283063656896863,
          0.6897887053365738,
          0.3823770071021357,
          1.1201650828647867,
          1.2123885923351183,
          1.3968356112757816,
          -0.878010955659061,
          0.32089466745524825,
          0.9664592337475676,
          0.8127533846303485,
          0.8434945544537928,
          0.7205298751600169,
          0.874235724277236,
          0.5360828562193547,
          1.0586827432178993,
          -1.7387637107154879,
          -0.4783757479542912,
          -0.7243051065418419,
          -1.2776461633638307,
          -0.1402228798964089
         ]
        },
        {
         "line": {
          "color": "#EF553B",
          "dash": "dot",
          "width": 4
         },
         "marker": {
          "line": {
           "width": 2
          },
          "size": 5
         },
         "mode": "lines",
         "name": "OLS",
         "type": "scatter",
         "x": [
          -1.4273208379745483,
          -1.2822076082229614,
          -1.1370943784713745,
          -0.9919811487197876,
          -0.8468678593635559,
          -0.701754629611969,
          -0.5566413998603821,
          -0.4115281403064728,
          -0.2664148509502411,
          -0.12130166590213776,
          0.023811614140868187,
          0.16892483830451965,
          0.3140380084514618,
          0.4591512978076935,
          0.6042645573616028,
          0.7493777871131897,
          0.8944910168647766,
          1.0396043062210083,
          1.1847175359725952,
          1.3298307657241821,
          1.4749441146850586,
          1.620057225227356,
          1.7651704549789429,
          1.9102836847305298,
          2.0553970336914062,
          2.200510263442993,
          2.34562349319458,
          2.490736722946167,
          2.635849952697754,
          2.780963182449341
         ],
         "y": [
          0.31821614503860474,
          0.2858636677265167,
          0.2535111904144287,
          0.2211586982011795,
          0.1888062059879303,
          0.15645372867584229,
          0.12410124391317368,
          0.09174875169992447,
          0.059396252036094666,
          0.0270437803119421,
          -0.0053087156265974045,
          -0.037661198526620865,
          -0.07001367211341858,
          -0.10236616432666779,
          -0.134718656539917,
          -0.167071133852005,
          -0.1994236260652542,
          -0.23177611827850342,
          -0.26412859559059143,
          -0.29648110270500183,
          -0.32883360981941223,
          -0.36118605732917786,
          -0.39353853464126587,
          -0.4258910119533539,
          -0.4582435190677643,
          -0.4905960261821747,
          -0.5229485034942627,
          -0.5553010106086731,
          -0.5876534581184387,
          -0.6200059652328491
         ]
        },
        {
         "line": {
          "color": "#00CC96",
          "dash": "dash",
          "width": 4
         },
         "marker": {
          "line": {
           "width": 2
          },
          "size": 5
         },
         "mode": "lines",
         "name": "2SLS",
         "type": "scatter",
         "x": [
          -1.4273208379745483,
          -1.2822076082229614,
          -1.1370943784713745,
          -0.9919811487197876,
          -0.8468678593635559,
          -0.701754629611969,
          -0.5566413998603821,
          -0.4115281403064728,
          -0.2664148509502411,
          -0.12130166590213776,
          0.023811614140868187,
          0.16892483830451965,
          0.3140380084514618,
          0.4591512978076935,
          0.6042645573616028,
          0.7493777871131897,
          0.8944910168647766,
          1.0396043062210083,
          1.1847175359725952,
          1.3298307657241821,
          1.4749441146850586,
          1.620057225227356,
          1.7651704549789429,
          1.9102836847305298,
          2.0553970336914062,
          2.200510263442993,
          2.34562349319458,
          2.490736722946167,
          2.635849952697754,
          2.780963182449341
         ],
         "y": [
          2.0001864433288574,
          1.7968310117721558,
          1.5934754610061646,
          1.390120029449463,
          1.1867644786834717,
          0.9834089875221252,
          0.7800534963607788,
          0.5766979455947876,
          0.3733423948287964,
          0.16998697817325592,
          -0.03336858004331589,
          -0.23672404885292053,
          -0.4400794506072998,
          -0.643435001373291,
          -0.8467905521392822,
          -1.0501459836959839,
          -1.253501534461975,
          -1.4568570852279663,
          -1.660212516784668,
          -1.8635680675506592,
          -2.0669236183166504,
          -2.2702789306640625,
          -2.4736344814300537,
          -2.676990032196045,
          -2.880345582962036,
          -3.0837011337280273,
          -3.2870566844940186,
          -3.4904119968414307,
          -3.693767547607422,
          -3.897123098373413
         ]
        },
        {
         "line": {
          "color": "#AB63FA",
          "dash": "dashdot",
          "width": 4
         },
         "marker": {
          "line": {
           "width": 2
          },
          "size": 5
         },
         "mode": "lines",
         "name": "KIV",
         "type": "scatter",
         "x": [
          -1.4273208379745483,
          -1.2822076082229614,
          -1.1370943784713745,
          -0.9919811487197876,
          -0.8468678593635559,
          -0.701754629611969,
          -0.5566413998603821,
          -0.4115281403064728,
          -0.2664148509502411,
          -0.12130166590213776,
          0.023811614140868187,
          0.16892483830451965,
          0.3140380084514618,
          0.4591512978076935,
          0.6042645573616028,
          0.7493777871131897,
          0.8944910168647766,
          1.0396043062210083,
          1.1847175359725952,
          1.3298307657241821,
          1.4749441146850586,
          1.620057225227356,
          1.7651704549789429,
          1.9102836847305298,
          2.0553970336914062,
          2.200510263442993,
          2.34562349319458,
          2.490736722946167,
          2.635849952697754,
          2.780963182449341
         ],
         "y": [
          0.4015028853347832,
          0.4406543659279812,
          0.4734122072647812,
          0.49686778811675475,
          0.5082734898483768,
          0.5053103494014906,
          0.4863518940698046,
          0.4506916511065332,
          0.3987021500361888,
          0.33189962508512133,
          0.252897482447382,
          0.16524701073867362,
          0.07317626702521024,
          -0.018745214329704666,
          -0.1059800747242543,
          -0.18439226784552273,
          -0.25057044840606546,
          -0.3020703163967876,
          -0.33755221017168435,
          -0.3568051667326909,
          -0.36066288896559634,
          -0.3508298215081282,
          -0.3296457503483061,
          -0.29982099568697923,
          -0.264174210365654,
          -0.22540067561410768,
          -0.18588985412254888,
          -0.14760357324319967,
          -0.11201589233955235,
          -0.08010877668628037
         ]
        },
        {
         "line": {
          "color": "#FFA15A",
          "width": 4
         },
         "marker": {
          "color": "#FFA15A",
          "line": {
           "color": "#FFA15A",
           "width": 2
          },
          "size": 5
         },
         "name": "GB lower",
         "type": "scatter",
         "x": [
          -1.2722229957580566,
          -0.604897677898407,
          0.062427639961242676,
          0.7297528982162476,
          1.397078275680542
         ],
         "y": [
          -0.806594967842102,
          -0.723931074142456,
          -0.7763870358467102,
          -1.6085186004638672,
          -2.8285560607910156
         ]
        },
        {
         "line": {
          "color": "#19D3F3",
          "width": 4
         },
         "marker": {
          "color": "#19D3F3",
          "line": {
           "color": "#19D3F3",
           "width": 2
          },
          "size": 5
         },
         "name": "GB upper",
         "type": "scatter",
         "x": [
          -1.2722229957580566,
          -0.604897677898407,
          0.062427639961242676,
          0.7297528982162476,
          1.397078275680542
         ],
         "y": [
          2.2593061923980713,
          1.1503639221191406,
          0.5444724559783936,
          0.6627150177955627,
          0.8698546290397644
         ]
        }
       ],
       "layout": {
        "font": {
         "family": "serif",
         "size": 32
        },
        "height": 450,
        "margin": {
         "b": 0,
         "l": 0,
         "r": 0,
         "t": 0
        },
        "plot_bgcolor": "rgba(0, 0, 0, 0)",
        "showlegend": false,
        "template": {
         "data": {
          "bar": [
           {
            "error_x": {
             "color": "#2a3f5f"
            },
            "error_y": {
             "color": "#2a3f5f"
            },
            "marker": {
             "line": {
              "color": "#E5ECF6",
              "width": 0.5
             },
             "pattern": {
              "fillmode": "overlay",
              "size": 10,
              "solidity": 0.2
             }
            },
            "type": "bar"
           }
          ],
          "barpolar": [
           {
            "marker": {
             "line": {
              "color": "#E5ECF6",
              "width": 0.5
             },
             "pattern": {
              "fillmode": "overlay",
              "size": 10,
              "solidity": 0.2
             }
            },
            "type": "barpolar"
           }
          ],
          "carpet": [
           {
            "aaxis": {
             "endlinecolor": "#2a3f5f",
             "gridcolor": "white",
             "linecolor": "white",
             "minorgridcolor": "white",
             "startlinecolor": "#2a3f5f"
            },
            "baxis": {
             "endlinecolor": "#2a3f5f",
             "gridcolor": "white",
             "linecolor": "white",
             "minorgridcolor": "white",
             "startlinecolor": "#2a3f5f"
            },
            "type": "carpet"
           }
          ],
          "choropleth": [
           {
            "colorbar": {
             "outlinewidth": 0,
             "ticks": ""
            },
            "type": "choropleth"
           }
          ],
          "contour": [
           {
            "colorbar": {
             "outlinewidth": 0,
             "ticks": ""
            },
            "colorscale": [
             [
              0,
              "#0d0887"
             ],
             [
              0.1111111111111111,
              "#46039f"
             ],
             [
              0.2222222222222222,
              "#7201a8"
             ],
             [
              0.3333333333333333,
              "#9c179e"
             ],
             [
              0.4444444444444444,
              "#bd3786"
             ],
             [
              0.5555555555555556,
              "#d8576b"
             ],
             [
              0.6666666666666666,
              "#ed7953"
             ],
             [
              0.7777777777777778,
              "#fb9f3a"
             ],
             [
              0.8888888888888888,
              "#fdca26"
             ],
             [
              1,
              "#f0f921"
             ]
            ],
            "type": "contour"
           }
          ],
          "contourcarpet": [
           {
            "colorbar": {
             "outlinewidth": 0,
             "ticks": ""
            },
            "type": "contourcarpet"
           }
          ],
          "heatmap": [
           {
            "colorbar": {
             "outlinewidth": 0,
             "ticks": ""
            },
            "colorscale": [
             [
              0,
              "#0d0887"
             ],
             [
              0.1111111111111111,
              "#46039f"
             ],
             [
              0.2222222222222222,
              "#7201a8"
             ],
             [
              0.3333333333333333,
              "#9c179e"
             ],
             [
              0.4444444444444444,
              "#bd3786"
             ],
             [
              0.5555555555555556,
              "#d8576b"
             ],
             [
              0.6666666666666666,
              "#ed7953"
             ],
             [
              0.7777777777777778,
              "#fb9f3a"
             ],
             [
              0.8888888888888888,
              "#fdca26"
             ],
             [
              1,
              "#f0f921"
             ]
            ],
            "type": "heatmap"
           }
          ],
          "heatmapgl": [
           {
            "colorbar": {
             "outlinewidth": 0,
             "ticks": ""
            },
            "colorscale": [
             [
              0,
              "#0d0887"
             ],
             [
              0.1111111111111111,
              "#46039f"
             ],
             [
              0.2222222222222222,
              "#7201a8"
             ],
             [
              0.3333333333333333,
              "#9c179e"
             ],
             [
              0.4444444444444444,
              "#bd3786"
             ],
             [
              0.5555555555555556,
              "#d8576b"
             ],
             [
              0.6666666666666666,
              "#ed7953"
             ],
             [
              0.7777777777777778,
              "#fb9f3a"
             ],
             [
              0.8888888888888888,
              "#fdca26"
             ],
             [
              1,
              "#f0f921"
             ]
            ],
            "type": "heatmapgl"
           }
          ],
          "histogram": [
           {
            "marker": {
             "pattern": {
              "fillmode": "overlay",
              "size": 10,
              "solidity": 0.2
             }
            },
            "type": "histogram"
           }
          ],
          "histogram2d": [
           {
            "colorbar": {
             "outlinewidth": 0,
             "ticks": ""
            },
            "colorscale": [
             [
              0,
              "#0d0887"
             ],
             [
              0.1111111111111111,
              "#46039f"
             ],
             [
              0.2222222222222222,
              "#7201a8"
             ],
             [
              0.3333333333333333,
              "#9c179e"
             ],
             [
              0.4444444444444444,
              "#bd3786"
             ],
             [
              0.5555555555555556,
              "#d8576b"
             ],
             [
              0.6666666666666666,
              "#ed7953"
             ],
             [
              0.7777777777777778,
              "#fb9f3a"
             ],
             [
              0.8888888888888888,
              "#fdca26"
             ],
             [
              1,
              "#f0f921"
             ]
            ],
            "type": "histogram2d"
           }
          ],
          "histogram2dcontour": [
           {
            "colorbar": {
             "outlinewidth": 0,
             "ticks": ""
            },
            "colorscale": [
             [
              0,
              "#0d0887"
             ],
             [
              0.1111111111111111,
              "#46039f"
             ],
             [
              0.2222222222222222,
              "#7201a8"
             ],
             [
              0.3333333333333333,
              "#9c179e"
             ],
             [
              0.4444444444444444,
              "#bd3786"
             ],
             [
              0.5555555555555556,
              "#d8576b"
             ],
             [
              0.6666666666666666,
              "#ed7953"
             ],
             [
              0.7777777777777778,
              "#fb9f3a"
             ],
             [
              0.8888888888888888,
              "#fdca26"
             ],
             [
              1,
              "#f0f921"
             ]
            ],
            "type": "histogram2dcontour"
           }
          ],
          "mesh3d": [
           {
            "colorbar": {
             "outlinewidth": 0,
             "ticks": ""
            },
            "type": "mesh3d"
           }
          ],
          "parcoords": [
           {
            "line": {
             "colorbar": {
              "outlinewidth": 0,
              "ticks": ""
             }
            },
            "type": "parcoords"
           }
          ],
          "pie": [
           {
            "automargin": true,
            "type": "pie"
           }
          ],
          "scatter": [
           {
            "fillpattern": {
             "fillmode": "overlay",
             "size": 10,
             "solidity": 0.2
            },
            "type": "scatter"
           }
          ],
          "scatter3d": [
           {
            "line": {
             "colorbar": {
              "outlinewidth": 0,
              "ticks": ""
             }
            },
            "marker": {
             "colorbar": {
              "outlinewidth": 0,
              "ticks": ""
             }
            },
            "type": "scatter3d"
           }
          ],
          "scattercarpet": [
           {
            "marker": {
             "colorbar": {
              "outlinewidth": 0,
              "ticks": ""
             }
            },
            "type": "scattercarpet"
           }
          ],
          "scattergeo": [
           {
            "marker": {
             "colorbar": {
              "outlinewidth": 0,
              "ticks": ""
             }
            },
            "type": "scattergeo"
           }
          ],
          "scattergl": [
           {
            "marker": {
             "colorbar": {
              "outlinewidth": 0,
              "ticks": ""
             }
            },
            "type": "scattergl"
           }
          ],
          "scattermapbox": [
           {
            "marker": {
             "colorbar": {
              "outlinewidth": 0,
              "ticks": ""
             }
            },
            "type": "scattermapbox"
           }
          ],
          "scatterpolar": [
           {
            "marker": {
             "colorbar": {
              "outlinewidth": 0,
              "ticks": ""
             }
            },
            "type": "scatterpolar"
           }
          ],
          "scatterpolargl": [
           {
            "marker": {
             "colorbar": {
              "outlinewidth": 0,
              "ticks": ""
             }
            },
            "type": "scatterpolargl"
           }
          ],
          "scatterternary": [
           {
            "marker": {
             "colorbar": {
              "outlinewidth": 0,
              "ticks": ""
             }
            },
            "type": "scatterternary"
           }
          ],
          "surface": [
           {
            "colorbar": {
             "outlinewidth": 0,
             "ticks": ""
            },
            "colorscale": [
             [
              0,
              "#0d0887"
             ],
             [
              0.1111111111111111,
              "#46039f"
             ],
             [
              0.2222222222222222,
              "#7201a8"
             ],
             [
              0.3333333333333333,
              "#9c179e"
             ],
             [
              0.4444444444444444,
              "#bd3786"
             ],
             [
              0.5555555555555556,
              "#d8576b"
             ],
             [
              0.6666666666666666,
              "#ed7953"
             ],
             [
              0.7777777777777778,
              "#fb9f3a"
             ],
             [
              0.8888888888888888,
              "#fdca26"
             ],
             [
              1,
              "#f0f921"
             ]
            ],
            "type": "surface"
           }
          ],
          "table": [
           {
            "cells": {
             "fill": {
              "color": "#EBF0F8"
             },
             "line": {
              "color": "white"
             }
            },
            "header": {
             "fill": {
              "color": "#C8D4E3"
             },
             "line": {
              "color": "white"
             }
            },
            "type": "table"
           }
          ]
         },
         "layout": {
          "annotationdefaults": {
           "arrowcolor": "#2a3f5f",
           "arrowhead": 0,
           "arrowwidth": 1
          },
          "autotypenumbers": "strict",
          "coloraxis": {
           "colorbar": {
            "outlinewidth": 0,
            "ticks": ""
           }
          },
          "colorscale": {
           "diverging": [
            [
             0,
             "#8e0152"
            ],
            [
             0.1,
             "#c51b7d"
            ],
            [
             0.2,
             "#de77ae"
            ],
            [
             0.3,
             "#f1b6da"
            ],
            [
             0.4,
             "#fde0ef"
            ],
            [
             0.5,
             "#f7f7f7"
            ],
            [
             0.6,
             "#e6f5d0"
            ],
            [
             0.7,
             "#b8e186"
            ],
            [
             0.8,
             "#7fbc41"
            ],
            [
             0.9,
             "#4d9221"
            ],
            [
             1,
             "#276419"
            ]
           ],
           "sequential": [
            [
             0,
             "#0d0887"
            ],
            [
             0.1111111111111111,
             "#46039f"
            ],
            [
             0.2222222222222222,
             "#7201a8"
            ],
            [
             0.3333333333333333,
             "#9c179e"
            ],
            [
             0.4444444444444444,
             "#bd3786"
            ],
            [
             0.5555555555555556,
             "#d8576b"
            ],
            [
             0.6666666666666666,
             "#ed7953"
            ],
            [
             0.7777777777777778,
             "#fb9f3a"
            ],
            [
             0.8888888888888888,
             "#fdca26"
            ],
            [
             1,
             "#f0f921"
            ]
           ],
           "sequentialminus": [
            [
             0,
             "#0d0887"
            ],
            [
             0.1111111111111111,
             "#46039f"
            ],
            [
             0.2222222222222222,
             "#7201a8"
            ],
            [
             0.3333333333333333,
             "#9c179e"
            ],
            [
             0.4444444444444444,
             "#bd3786"
            ],
            [
             0.5555555555555556,
             "#d8576b"
            ],
            [
             0.6666666666666666,
             "#ed7953"
            ],
            [
             0.7777777777777778,
             "#fb9f3a"
            ],
            [
             0.8888888888888888,
             "#fdca26"
            ],
            [
             1,
             "#f0f921"
            ]
           ]
          },
          "colorway": [
           "#636efa",
           "#EF553B",
           "#00cc96",
           "#ab63fa",
           "#FFA15A",
           "#19d3f3",
           "#FF6692",
           "#B6E880",
           "#FF97FF",
           "#FECB52"
          ],
          "font": {
           "color": "#2a3f5f"
          },
          "geo": {
           "bgcolor": "white",
           "lakecolor": "white",
           "landcolor": "#E5ECF6",
           "showlakes": true,
           "showland": true,
           "subunitcolor": "white"
          },
          "hoverlabel": {
           "align": "left"
          },
          "hovermode": "closest",
          "mapbox": {
           "style": "light"
          },
          "paper_bgcolor": "white",
          "plot_bgcolor": "#E5ECF6",
          "polar": {
           "angularaxis": {
            "gridcolor": "white",
            "linecolor": "white",
            "ticks": ""
           },
           "bgcolor": "#E5ECF6",
           "radialaxis": {
            "gridcolor": "white",
            "linecolor": "white",
            "ticks": ""
           }
          },
          "scene": {
           "xaxis": {
            "backgroundcolor": "#E5ECF6",
            "gridcolor": "white",
            "gridwidth": 2,
            "linecolor": "white",
            "showbackground": true,
            "ticks": "",
            "zerolinecolor": "white"
           },
           "yaxis": {
            "backgroundcolor": "#E5ECF6",
            "gridcolor": "white",
            "gridwidth": 2,
            "linecolor": "white",
            "showbackground": true,
            "ticks": "",
            "zerolinecolor": "white"
           },
           "zaxis": {
            "backgroundcolor": "#E5ECF6",
            "gridcolor": "white",
            "gridwidth": 2,
            "linecolor": "white",
            "showbackground": true,
            "ticks": "",
            "zerolinecolor": "white"
           }
          },
          "shapedefaults": {
           "line": {
            "color": "#2a3f5f"
           }
          },
          "ternary": {
           "aaxis": {
            "gridcolor": "white",
            "linecolor": "white",
            "ticks": ""
           },
           "baxis": {
            "gridcolor": "white",
            "linecolor": "white",
            "ticks": ""
           },
           "bgcolor": "#E5ECF6",
           "caxis": {
            "gridcolor": "white",
            "linecolor": "white",
            "ticks": ""
           }
          },
          "title": {
           "x": 0.05
          },
          "xaxis": {
           "automargin": true,
           "gridcolor": "white",
           "linecolor": "white",
           "ticks": "",
           "title": {
            "standoff": 15
           },
           "zerolinecolor": "white",
           "zerolinewidth": 2
          },
          "yaxis": {
           "automargin": true,
           "gridcolor": "white",
           "linecolor": "white",
           "ticks": "",
           "title": {
            "standoff": 15
           },
           "zerolinecolor": "white",
           "zerolinewidth": 2
          }
         }
        },
        "width": 1000,
        "xaxis": {
         "linecolor": "black",
         "linewidth": 2,
         "range": [
          -2.2,
          2.2
         ],
         "showline": true,
         "title": {
          "text": "Diversity (standardized)"
         },
         "type": "linear"
        },
        "yaxis": {
         "linecolor": "black",
         "linewidth": 2,
         "range": [
          -2.2,
          2.2
         ],
         "showline": true,
         "title": {
          "text": "Weight (standardized)"
         },
         "type": "linear"
        }
       }
      },
      "image/png": "[encoded data removed]",
      "text/html": [
       "<div>                            <div id=\"6f2cc291-741a-4548-bac6-007b1b62eb0c\" class=\"plotly-graph-div\" style=\"height:450px; width:1000px;\"></div>            <script type=\"text/javascript\">                require([\"plotly\"], function(Plotly) {                    window.PLOTLYENV=window.PLOTLYENV || {};                                    if (document.getElementById(\"6f2cc291-741a-4548-bac6-007b1b62eb0c\")) {                    Plotly.newPlot(                        \"6f2cc291-741a-4548-bac6-007b1b62eb0c\",                        [{\"marker\":{\"color\":\"black\",\"symbol\":\"x-thin\",\"line\":{\"width\":2},\"size\":5},\"mode\":\"markers\",\"name\":\"Data\",\"x\":[-0.7848301091690786,0.7628608208005636,-0.35715997926872534,0.03135770273132839,-0.4365733034534654,0.08137327244448571,-1.3076233113385776,1.4398680091518707,-0.9541523474650729,-1.0629060819067737,0.803550975393601,-0.3620539902092652,-0.69280744609714,0.18350446856680194,-0.11725259046224615,-0.049674495716047734,0.017078522672343107,-1.2701066682047166,0.9019050562004468,-0.45898132469974956,0.9365488928745954,0.21616096314408487,0.2610337308152527,-0.2957385640961525,1.0014254411140986,-0.44193452907040875,-0.21270703595435664,-0.2984530801338347,-1.384311043022523,1.7391833935847514,0.5723621902180667,0.12153745636702752,0.8643436671322755,1.6812964301861022,1.865012929820615,-1.0462717527468353,-1.1083853506036765,-1.275397454978017,-1.4058159460941353,-0.40094194976785497,-1.4273208491657474,-0.48909396936793614,-0.6848357746932354,2.155804186335386,0.8239255880710149,1.3685520126633979,2.780963265671577,1.0920905744383034,-0.882422177351208,-1.0305780763929615,-0.1357978132649116,-0.1806087720536081,0.10776019421673666,0.14743107450078988,0.7604252025823653,-1.3653836847241996,-0.7972365502254304],\"y\":[0.7205298751600169,1.150906252688231,0.1671888183380292,-0.6935639367183977,0.44385934674902305,0.9357180639241245,-0.10948171007296573,0.5360828562193547,0.04422413904425332,0.2286711579849166,-1.1546814840700548,0.41311817692557884,0.5668240260427979,1.027941573394455,-0.10948171007296573,0.25941232780835977,1.3353532716288932,0.9972004035710119,-1.8617283900092627,-1.9846930693030376,-0.10948171007296573,-1.6465402012451562,-1.6465402012451562,-0.5705992574246229,-2.5072929563015833,-0.9702344651293926,-1.9846930693030376,-0.1402228798964089,0.44385934674902305,-1.7080225408920435,0.07496530886769756,-0.41689340830740385,-0.23244638936674053,0.6283063656896863,-0.07874054024952148,0.6283063656896863,0.9972004035710119,0.6283063656896863,0.6897887053365738,0.3823770071021357,1.1201650828647867,1.2123885923351183,1.3968356112757816,-0.878010955659061,0.32089466745524825,0.9664592337475676,0.8127533846303485,0.8434945544537928,0.7205298751600169,0.874235724277236,0.5360828562193547,1.0586827432178993,-1.7387637107154879,-0.4783757479542912,-0.7243051065418419,-1.2776461633638307,-0.1402228798964089],\"type\":\"scatter\",\"line\":{\"width\":4}},{\"line\":{\"color\":\"#EF553B\",\"dash\":\"dot\",\"width\":4},\"mode\":\"lines\",\"name\":\"OLS\",\"x\":[-1.4273208379745483,-1.2822076082229614,-1.1370943784713745,-0.9919811487197876,-0.8468678593635559,-0.701754629611969,-0.5566413998603821,-0.4115281403064728,-0.2664148509502411,-0.12130166590213776,0.023811614140868187,0.16892483830451965,0.3140380084514618,0.4591512978076935,0.6042645573616028,0.7493777871131897,0.8944910168647766,1.0396043062210083,1.1847175359725952,1.3298307657241821,1.4749441146850586,1.620057225227356,1.7651704549789429,1.9102836847305298,2.0553970336914062,2.200510263442993,2.34562349319458,2.490736722946167,2.635849952697754,2.780963182449341],\"y\":[0.31821614503860474,0.2858636677265167,0.2535111904144287,0.2211586982011795,0.1888062059879303,0.15645372867584229,0.12410124391317368,0.09174875169992447,0.059396252036094666,0.0270437803119421,-0.0053087156265974045,-0.037661198526620865,-0.07001367211341858,-0.10236616432666779,-0.134718656539917,-0.167071133852005,-0.1994236260652542,-0.23177611827850342,-0.26412859559059143,-0.29648110270500183,-0.32883360981941223,-0.36118605732917786,-0.39353853464126587,-0.4258910119533539,-0.4582435190677643,-0.4905960261821747,-0.5229485034942627,-0.5553010106086731,-0.5876534581184387,-0.6200059652328491],\"type\":\"scatter\",\"marker\":{\"line\":{\"width\":2},\"size\":5}},{\"line\":{\"color\":\"#00CC96\",\"dash\":\"dash\",\"width\":4},\"mode\":\"lines\",\"name\":\"2SLS\",\"x\":[-1.4273208379745483,-1.2822076082229614,-1.1370943784713745,-0.9919811487197876,-0.8468678593635559,-0.701754629611969,-0.5566413998603821,-0.4115281403064728,-0.2664148509502411,-0.12130166590213776,0.023811614140868187,0.16892483830451965,0.3140380084514618,0.4591512978076935,0.6042645573616028,0.7493777871131897,0.8944910168647766,1.0396043062210083,1.1847175359725952,1.3298307657241821,1.4749441146850586,1.620057225227356,1.7651704549789429,1.9102836847305298,2.0553970336914062,2.200510263442993,2.34562349319458,2.490736722946167,2.635849952697754,2.780963182449341],\"y\":[2.0001864433288574,1.7968310117721558,1.5934754610061646,1.390120029449463,1.1867644786834717,0.9834089875221252,0.7800534963607788,0.5766979455947876,0.3733423948287964,0.16998697817325592,-0.03336858004331589,-0.23672404885292053,-0.4400794506072998,-0.643435001373291,-0.8467905521392822,-1.0501459836959839,-1.253501534461975,-1.4568570852279663,-1.660212516784668,-1.8635680675506592,-2.0669236183166504,-2.2702789306640625,-2.4736344814300537,-2.676990032196045,-2.880345582962036,-3.0837011337280273,-3.2870566844940186,-3.4904119968414307,-3.693767547607422,-3.897123098373413],\"type\":\"scatter\",\"marker\":{\"line\":{\"width\":2},\"size\":5}},{\"line\":{\"color\":\"#AB63FA\",\"dash\":\"dashdot\",\"width\":4},\"mode\":\"lines\",\"name\":\"KIV\",\"x\":[-1.4273208379745483,-1.2822076082229614,-1.1370943784713745,-0.9919811487197876,-0.8468678593635559,-0.701754629611969,-0.5566413998603821,-0.4115281403064728,-0.2664148509502411,-0.12130166590213776,0.023811614140868187,0.16892483830451965,0.3140380084514618,0.4591512978076935,0.6042645573616028,0.7493777871131897,0.8944910168647766,1.0396043062210083,1.1847175359725952,1.3298307657241821,1.4749441146850586,1.620057225227356,1.7651704549789429,1.9102836847305298,2.0553970336914062,2.200510263442993,2.34562349319458,2.490736722946167,2.635849952697754,2.780963182449341],\"y\":[0.4015028853347832,0.4406543659279812,0.4734122072647812,0.49686778811675475,0.5082734898483768,0.5053103494014906,0.4863518940698046,0.4506916511065332,0.3987021500361888,0.33189962508512133,0.252897482447382,0.16524701073867362,0.07317626702521024,-0.018745214329704666,-0.1059800747242543,-0.18439226784552273,-0.25057044840606546,-0.3020703163967876,-0.33755221017168435,-0.3568051667326909,-0.36066288896559634,-0.3508298215081282,-0.3296457503483061,-0.29982099568697923,-0.264174210365654,-0.22540067561410768,-0.18588985412254888,-0.14760357324319967,-0.11201589233955235,-0.08010877668628037],\"type\":\"scatter\",\"marker\":{\"line\":{\"width\":2},\"size\":5}},{\"line\":{\"color\":\"#FFA15A\",\"width\":4},\"marker\":{\"color\":\"#FFA15A\",\"line\":{\"color\":\"#FFA15A\",\"width\":2},\"size\":5},\"name\":\"GB lower\",\"x\":[-1.2722229957580566,-0.604897677898407,0.062427639961242676,0.7297528982162476,1.397078275680542],\"y\":[-0.806594967842102,-0.723931074142456,-0.7763870358467102,-1.6085186004638672,-2.8285560607910156],\"type\":\"scatter\"},{\"line\":{\"color\":\"#19D3F3\",\"width\":4},\"marker\":{\"color\":\"#19D3F3\",\"line\":{\"color\":\"#19D3F3\",\"width\":2},\"size\":5},\"name\":\"GB upper\",\"x\":[-1.2722229957580566,-0.604897677898407,0.062427639961242676,0.7297528982162476,1.397078275680542],\"y\":[2.2593061923980713,1.1503639221191406,0.5444724559783936,0.6627150177955627,0.8698546290397644],\"type\":\"scatter\"}],                        {\"template\":{\"data\":{\"histogram2dcontour\":[{\"type\":\"histogram2dcontour\",\"colorbar\":{\"outlinewidth\":0,\"ticks\":\"\"},\"colorscale\":[[0.0,\"#0d0887\"],[0.1111111111111111,\"#46039f\"],[0.2222222222222222,\"#7201a8\"],[0.3333333333333333,\"#9c179e\"],[0.4444444444444444,\"#bd3786\"],[0.5555555555555556,\"#d8576b\"],[0.6666666666666666,\"#ed7953\"],[0.7777777777777778,\"#fb9f3a\"],[0.8888888888888888,\"#fdca26\"],[1.0,\"#f0f921\"]]}],\"choropleth\":[{\"type\":\"choropleth\",\"colorbar\":{\"outlinewidth\":0,\"ticks\":\"\"}}],\"histogram2d\":[{\"type\":\"histogram2d\",\"colorbar\":{\"outlinewidth\":0,\"ticks\":\"\"},\"colorscale\":[[0.0,\"#0d0887\"],[0.1111111111111111,\"#46039f\"],[0.2222222222222222,\"#7201a8\"],[0.3333333333333333,\"#9c179e\"],[0.4444444444444444,\"#bd3786\"],[0.5555555555555556,\"#d8576b\"],[0.6666666666666666,\"#ed7953\"],[0.7777777777777778,\"#fb9f3a\"],[0.8888888888888888,\"#fdca26\"],[1.0,\"#f0f921\"]]}],\"heatmap\":[{\"type\":\"heatmap\",\"colorbar\":{\"outlinewidth\":0,\"ticks\":\"\"},\"colorscale\":[[0.0,\"#0d0887\"],[0.1111111111111111,\"#46039f\"],[0.2222222222222222,\"#7201a8\"],[0.3333333333333333,\"#9c179e\"],[0.4444444444444444,\"#bd3786\"],[0.5555555555555556,\"#d8576b\"],[0.6666666666666666,\"#ed7953\"],[0.7777777777777778,\"#fb9f3a\"],[0.8888888888888888,\"#fdca26\"],[1.0,\"#f0f921\"]]}],\"heatmapgl\":[{\"type\":\"heatmapgl\",\"colorbar\":{\"outlinewidth\":0,\"ticks\":\"\"},\"colorscale\":[[0.0,\"#0d0887\"],[0.1111111111111111,\"#46039f\"],[0.2222222222222222,\"#7201a8\"],[0.3333333333333333,\"#9c179e\"],[0.4444444444444444,\"#bd3786\"],[0.5555555555555556,\"#d8576b\"],[0.6666666666666666,\"#ed7953\"],[0.7777777777777778,\"#fb9f3a\"],[0.8888888888888888,\"#fdca26\"],[1.0,\"#f0f921\"]]}],\"contourcarpet\":[{\"type\":\"contourcarpet\",\"colorbar\":{\"outlinewidth\":0,\"ticks\":\"\"}}],\"contour\":[{\"type\":\"contour\",\"colorbar\":{\"outlinewidth\":0,\"ticks\":\"\"},\"colorscale\":[[0.0,\"#0d0887\"],[0.1111111111111111,\"#46039f\"],[0.2222222222222222,\"#7201a8\"],[0.3333333333333333,\"#9c179e\"],[0.4444444444444444,\"#bd3786\"],[0.5555555555555556,\"#d8576b\"],[0.6666666666666666,\"#ed7953\"],[0.7777777777777778,\"#fb9f3a\"],[0.8888888888888888,\"#fdca26\"],[1.0,\"#f0f921\"]]}],\"surface\":[{\"type\":\"surface\",\"colorbar\":{\"outlinewidth\":0,\"ticks\":\"\"},\"colorscale\":[[0.0,\"#0d0887\"],[0.1111111111111111,\"#46039f\"],[0.2222222222222222,\"#7201a8\"],[0.3333333333333333,\"#9c179e\"],[0.4444444444444444,\"#bd3786\"],[0.5555555555555556,\"#d8576b\"],[0.6666666666666666,\"#ed7953\"],[0.7777777777777778,\"#fb9f3a\"],[0.8888888888888888,\"#fdca26\"],[1.0,\"#f0f921\"]]}],\"mesh3d\":[{\"type\":\"mesh3d\",\"colorbar\":{\"outlinewidth\":0,\"ticks\":\"\"}}],\"scatter\":[{\"fillpattern\":{\"fillmode\":\"overlay\",\"size\":10,\"solidity\":0.2},\"type\":\"scatter\"}],\"parcoords\":[{\"type\":\"parcoords\",\"line\":{\"colorbar\":{\"outlinewidth\":0,\"ticks\":\"\"}}}],\"scatterpolargl\":[{\"type\":\"scatterpolargl\",\"marker\":{\"colorbar\":{\"outlinewidth\":0,\"ticks\":\"\"}}}],\"bar\":[{\"error_x\":{\"color\":\"#2a3f5f\"},\"error_y\":{\"color\":\"#2a3f5f\"},\"marker\":{\"line\":{\"color\":\"#E5ECF6\",\"width\":0.5},\"pattern\":{\"fillmode\":\"overlay\",\"size\":10,\"solidity\":0.2}},\"type\":\"bar\"}],\"scattergeo\":[{\"type\":\"scattergeo\",\"marker\":{\"colorbar\":{\"outlinewidth\":0,\"ticks\":\"\"}}}],\"scatterpolar\":[{\"type\":\"scatterpolar\",\"marker\":{\"colorbar\":{\"outlinewidth\":0,\"ticks\":\"\"}}}],\"histogram\":[{\"marker\":{\"pattern\":{\"fillmode\":\"overlay\",\"size\":10,\"solidity\":0.2}},\"type\":\"histogram\"}],\"scattergl\":[{\"type\":\"scattergl\",\"marker\":{\"colorbar\":{\"outlinewidth\":0,\"ticks\":\"\"}}}],\"scatter3d\":[{\"type\":\"scatter3d\",\"line\":{\"colorbar\":{\"outlinewidth\":0,\"ticks\":\"\"}},\"marker\":{\"colorbar\":{\"outlinewidth\":0,\"ticks\":\"\"}}}],\"scattermapbox\":[{\"type\":\"scattermapbox\",\"marker\":{\"colorbar\":{\"outlinewidth\":0,\"ticks\":\"\"}}}],\"scatterternary\":[{\"type\":\"scatterternary\",\"marker\":{\"colorbar\":{\"outlinewidth\":0,\"ticks\":\"\"}}}],\"scattercarpet\":[{\"type\":\"scattercarpet\",\"marker\":{\"colorbar\":{\"outlinewidth\":0,\"ticks\":\"\"}}}],\"carpet\":[{\"aaxis\":{\"endlinecolor\":\"#2a3f5f\",\"gridcolor\":\"white\",\"linecolor\":\"white\",\"minorgridcolor\":\"white\",\"startlinecolor\":\"#2a3f5f\"},\"baxis\":{\"endlinecolor\":\"#2a3f5f\",\"gridcolor\":\"white\",\"linecolor\":\"white\",\"minorgridcolor\":\"white\",\"startlinecolor\":\"#2a3f5f\"},\"type\":\"carpet\"}],\"table\":[{\"cells\":{\"fill\":{\"color\":\"#EBF0F8\"},\"line\":{\"color\":\"white\"}},\"header\":{\"fill\":{\"color\":\"#C8D4E3\"},\"line\":{\"color\":\"white\"}},\"type\":\"table\"}],\"barpolar\":[{\"marker\":{\"line\":{\"color\":\"#E5ECF6\",\"width\":0.5},\"pattern\":{\"fillmode\":\"overlay\",\"size\":10,\"solidity\":0.2}},\"type\":\"barpolar\"}],\"pie\":[{\"automargin\":true,\"type\":\"pie\"}]},\"layout\":{\"autotypenumbers\":\"strict\",\"colorway\":[\"#636efa\",\"#EF553B\",\"#00cc96\",\"#ab63fa\",\"#FFA15A\",\"#19d3f3\",\"#FF6692\",\"#B6E880\",\"#FF97FF\",\"#FECB52\"],\"font\":{\"color\":\"#2a3f5f\"},\"hovermode\":\"closest\",\"hoverlabel\":{\"align\":\"left\"},\"paper_bgcolor\":\"white\",\"plot_bgcolor\":\"#E5ECF6\",\"polar\":{\"bgcolor\":\"#E5ECF6\",\"angularaxis\":{\"gridcolor\":\"white\",\"linecolor\":\"white\",\"ticks\":\"\"},\"radialaxis\":{\"gridcolor\":\"white\",\"linecolor\":\"white\",\"ticks\":\"\"}},\"ternary\":{\"bgcolor\":\"#E5ECF6\",\"aaxis\":{\"gridcolor\":\"white\",\"linecolor\":\"white\",\"ticks\":\"\"},\"baxis\":{\"gridcolor\":\"white\",\"linecolor\":\"white\",\"ticks\":\"\"},\"caxis\":{\"gridcolor\":\"white\",\"linecolor\":\"white\",\"ticks\":\"\"}},\"coloraxis\":{\"colorbar\":{\"outlinewidth\":0,\"ticks\":\"\"}},\"colorscale\":{\"sequential\":[[0.0,\"#0d0887\"],[0.1111111111111111,\"#46039f\"],[0.2222222222222222,\"#7201a8\"],[0.3333333333333333,\"#9c179e\"],[0.4444444444444444,\"#bd3786\"],[0.5555555555555556,\"#d8576b\"],[0.6666666666666666,\"#ed7953\"],[0.7777777777777778,\"#fb9f3a\"],[0.8888888888888888,\"#fdca26\"],[1.0,\"#f0f921\"]],\"sequentialminus\":[[0.0,\"#0d0887\"],[0.1111111111111111,\"#46039f\"],[0.2222222222222222,\"#7201a8\"],[0.3333333333333333,\"#9c179e\"],[0.4444444444444444,\"#bd3786\"],[0.5555555555555556,\"#d8576b\"],[0.6666666666666666,\"#ed7953\"],[0.7777777777777778,\"#fb9f3a\"],[0.8888888888888888,\"#fdca26\"],[1.0,\"#f0f921\"]],\"diverging\":[[0,\"#8e0152\"],[0.1,\"#c51b7d\"],[0.2,\"#de77ae\"],[0.3,\"#f1b6da\"],[0.4,\"#fde0ef\"],[0.5,\"#f7f7f7\"],[0.6,\"#e6f5d0\"],[0.7,\"#b8e186\"],[0.8,\"#7fbc41\"],[0.9,\"#4d9221\"],[1,\"#276419\"]]},\"xaxis\":{\"gridcolor\":\"white\",\"linecolor\":\"white\",\"ticks\":\"\",\"title\":{\"standoff\":15},\"zerolinecolor\":\"white\",\"automargin\":true,\"zerolinewidth\":2},\"yaxis\":{\"gridcolor\":\"white\",\"linecolor\":\"white\",\"ticks\":\"\",\"title\":{\"standoff\":15},\"zerolinecolor\":\"white\",\"automargin\":true,\"zerolinewidth\":2},\"scene\":{\"xaxis\":{\"backgroundcolor\":\"#E5ECF6\",\"gridcolor\":\"white\",\"linecolor\":\"white\",\"showbackground\":true,\"ticks\":\"\",\"zerolinecolor\":\"white\",\"gridwidth\":2},\"yaxis\":{\"backgroundcolor\":\"#E5ECF6\",\"gridcolor\":\"white\",\"linecolor\":\"white\",\"showbackground\":true,\"ticks\":\"\",\"zerolinecolor\":\"white\",\"gridwidth\":2},\"zaxis\":{\"backgroundcolor\":\"#E5ECF6\",\"gridcolor\":\"white\",\"linecolor\":\"white\",\"showbackground\":true,\"ticks\":\"\",\"zerolinecolor\":\"white\",\"gridwidth\":2}},\"shapedefaults\":{\"line\":{\"color\":\"#2a3f5f\"}},\"annotationdefaults\":{\"arrowcolor\":\"#2a3f5f\",\"arrowhead\":0,\"arrowwidth\":1},\"geo\":{\"bgcolor\":\"white\",\"landcolor\":\"#E5ECF6\",\"subunitcolor\":\"white\",\"showland\":true,\"showlakes\":true,\"lakecolor\":\"white\"},\"title\":{\"x\":0.05},\"mapbox\":{\"style\":\"light\"}}},\"yaxis\":{\"title\":{\"text\":\"Weight (standardized)\"},\"linecolor\":\"black\",\"linewidth\":2,\"showline\":true,\"range\":[-2.2,2.2]},\"xaxis\":{\"title\":{\"text\":\"Diversity (standardized)\"},\"linecolor\":\"black\",\"linewidth\":2,\"showline\":true,\"range\":[-2.2,2.2]},\"font\":{\"family\":\"serif\",\"size\":32},\"margin\":{\"b\":0,\"l\":0,\"r\":0,\"t\":0},\"plot_bgcolor\":\"rgba(0,0,0,0)\",\"width\":1000,\"height\":450,\"showlegend\":false},                        {\"responsive\": true}                    ).then(function(){\n",
       "                            \n",
       "var gd = document.getElementById('6f2cc291-741a-4548-bac6-007b1b62eb0c');\n",
       "var x = new MutationObserver(function (mutations, observer) {{\n",
       "        var display = window.getComputedStyle(gd).display;\n",
       "        if (!display || display === 'none') {{\n",
       "            console.log([gd, 'removed!']);\n",
       "            Plotly.purge(gd);\n",
       "            observer.disconnect();\n",
       "        }}\n",
       "}});\n",
       "\n",
       "// Listen for the removal of the full notebook cells\n",
       "var notebookContainer = gd.closest('#notebook-container');\n",
       "if (notebookContainer) {{\n",
       "    x.observe(notebookContainer, {childList: true});\n",
       "}}\n",
       "\n",
       "// Listen for the clearing of the current output cell\n",
       "var outputEl = gd.closest('.output');\n",
       "if (outputEl) {{\n",
       "    x.observe(outputEl, {childList: true});\n",
       "}}\n",
       "\n",
       "                        })                };                });            </script>        </div>"
      ]
     },
     "metadata": {},
     "output_type": "display_data"
    }
   ],
   "source": [
    "# CHAO\n",
    "\n",
    "plot = res[\"chao\"]\n",
    "fig = plot_diversity_methods(plot[\"x\"], plot[\"y\"], plot[\"xstar\"], plot[\"xstar_bound\"], plot[\"ystar_ols\"], \n",
    "                             plot[\"ystar_2sls\"], plot[\"ystar_kiv\"], plot[\"results\"])\n",
    "fig.update_xaxes(range=[-2.2, 2.2])\n",
    "fig.update_yaxes(range=[-2.2, 2.2])\n",
    "fig.update_layout(width=1000, height=450, showlegend=False)\n",
    "fig.write_image(os.path.join(save_path, agg_level + \"_\" + filter + \"_chao.pdf\"))\n",
    "fig.show()"
   ]
  },
  {
   "cell_type": "code",
   "execution_count": 60,
   "metadata": {},
   "outputs": [
    {
     "data": {
      "application/vnd.plotly.v1+json": {
       "config": {
        "plotlyServerURL": "https://plot.ly"
       },
       "data": [
        {
         "line": {
          "width": 4
         },
         "marker": {
          "color": "black",
          "line": {
           "width": 2
          },
          "size": 5,
          "symbol": "x-thin"
         },
         "mode": "markers",
         "name": "Data",
         "type": "scatter",
         "x": [
          0.6290639406779998,
          1.3594114392411687,
          -0.6279465908647315,
          0.6745836118257993,
          -0.31649464803071553,
          -0.14423929566232238,
          -1.7151289249697894,
          1.5653310187081932,
          -0.9874539047061393,
          -1.0323113161319752,
          0.5421344796690107,
          0.06659500094725573,
          -0.47402909427563966,
          0.3982128361537129,
          -0.3328704573291416,
          -0.06471446646878952,
          0.3643543773115962,
          -1.624456955648346,
          1.1689185314373096,
          -0.2778193759579705,
          0.38219767027555474,
          0.01738193225733072,
          -0.3425191973198992,
          -0.3807752013132517,
          0.6066011372796498,
          0.013265077866644406,
          0.10598796597253268,
          0.7820007069557998,
          -1.9559800002288974,
          1.325051909204542,
          0.7500115298415847,
          0.19991179025854855,
          0.6755429941065777,
          0.965591965333681,
          1.7380535871326295,
          -0.41390335771631115,
          -0.6991820440827935,
          -2.361949236187187,
          -1.3446976109657183,
          -0.4845854395220616,
          -2.4764915613436638,
          -0.5818986873106466,
          -0.7642852183838466,
          1.1544796520024088,
          1.026862063598163,
          1.510445418558231,
          1.8291313687396455,
          1.160189103819448,
          -0.1481373295663671,
          -0.26797503204699946,
          0.022964085036261166,
          0.3890228787733651,
          -0.10351462242790142,
          -0.1463189077753056,
          0.7511624137813475,
          -1.596891345682175,
          -0.5078906648474154
         ],
         "y": [
          0.7205298751600169,
          1.150906252688231,
          0.1671888183380292,
          -0.6935639367183977,
          0.44385934674902305,
          0.9357180639241245,
          -0.10948171007296573,
          0.5360828562193547,
          0.04422413904425332,
          0.2286711579849166,
          -1.1546814840700548,
          0.41311817692557884,
          0.5668240260427979,
          1.027941573394455,
          -0.10948171007296573,
          0.25941232780835977,
          1.3353532716288932,
          0.9972004035710119,
          -1.8617283900092627,
          -1.9846930693030376,
          -0.10948171007296573,
          -1.6465402012451562,
          -1.6465402012451562,
          -0.5705992574246229,
          -2.5072929563015833,
          -0.9702344651293926,
          -1.9846930693030376,
          -0.1402228798964089,
          0.44385934674902305,
          -1.7080225408920435,
          0.07496530886769756,
          -0.41689340830740385,
          -0.23244638936674053,
          0.6283063656896863,
          -0.07874054024952148,
          0.6283063656896863,
          0.9972004035710119,
          0.6283063656896863,
          0.6897887053365738,
          0.3823770071021357,
          1.1201650828647867,
          1.2123885923351183,
          1.3968356112757816,
          -0.878010955659061,
          0.32089466745524825,
          0.9664592337475676,
          0.8127533846303485,
          0.8434945544537928,
          0.7205298751600169,
          0.874235724277236,
          0.5360828562193547,
          1.0586827432178993,
          -1.7387637107154879,
          -0.4783757479542912,
          -0.7243051065418419,
          -1.2776461633638307,
          -0.1402228798964089
         ]
        },
        {
         "line": {
          "color": "#EF553B",
          "dash": "dot",
          "width": 4
         },
         "marker": {
          "line": {
           "width": 2
          },
          "size": 5
         },
         "mode": "lines",
         "name": "OLS",
         "type": "scatter",
         "x": [
          -2.4764914512634277,
          -2.328021764755249,
          -2.1795520782470703,
          -2.0310821533203125,
          -1.8826124668121338,
          -1.734142780303955,
          -1.5856729745864868,
          -1.4372031688690186,
          -1.2887333631515503,
          -1.1402636766433716,
          -0.9917939305305481,
          -0.8433241248130798,
          -0.6948544383049011,
          -0.5463846921920776,
          -0.3979148864746094,
          -0.24944519996643066,
          -0.10097544640302658,
          0.04749429598450661,
          0.19596411287784576,
          0.3444337546825409,
          0.49290356040000916,
          0.6413732767105103,
          0.7898430228233337,
          0.938312828540802,
          1.0867825746536255,
          1.2352522611618042,
          1.3837220668792725,
          1.5321917533874512,
          1.6806615591049194,
          1.8291313648223877
         ],
         "y": [
          0.36387899518013,
          0.342063844203949,
          0.32024872303009033,
          0.2984335422515869,
          0.27661842107772827,
          0.25480327010154724,
          0.2329881191253662,
          0.21117296814918518,
          0.18935781717300415,
          0.16754266619682312,
          0.14572753012180328,
          0.12391237169504166,
          0.10209723562002182,
          0.08028209209442139,
          0.05846693739295006,
          0.03665180131793022,
          0.014836653135716915,
          -0.0069784922525286674,
          -0.02879364788532257,
          -0.05060878023505211,
          -0.07242393493652344,
          -0.09423907101154327,
          -0.1160542219877243,
          -0.13786937296390533,
          -0.15968452394008636,
          -0.1814996600151062,
          -0.20331481099128723,
          -0.22512994706630707,
          -0.2469450980424881,
          -0.2687602639198303
         ]
        },
        {
         "line": {
          "color": "#00CC96",
          "dash": "dash",
          "width": 4
         },
         "marker": {
          "line": {
           "width": 2
          },
          "size": 5
         },
         "mode": "lines",
         "name": "2SLS",
         "type": "scatter",
         "x": [
          -2.4764914512634277,
          -2.328021764755249,
          -2.1795520782470703,
          -2.0310821533203125,
          -1.8826124668121338,
          -1.734142780303955,
          -1.5856729745864868,
          -1.4372031688690186,
          -1.2887333631515503,
          -1.1402636766433716,
          -0.9917939305305481,
          -0.8433241248130798,
          -0.6948544383049011,
          -0.5463846921920776,
          -0.3979148864746094,
          -0.24944519996643066,
          -0.10097544640302658,
          0.04749429598450661,
          0.19596411287784576,
          0.3444337546825409,
          0.49290356040000916,
          0.6413732767105103,
          0.7898430228233337,
          0.938312828540802,
          1.0867825746536255,
          1.2352522611618042,
          1.3837220668792725,
          1.5321917533874512,
          1.6806615591049194,
          1.8291313648223877
         ],
         "y": [
          4.690805912017822,
          4.4095845222473145,
          4.128363132476807,
          3.8471410274505615,
          3.5659196376800537,
          3.284698247909546,
          3.003476619720459,
          2.722254991531372,
          2.441033363342285,
          2.1598117351531982,
          1.8785903453826904,
          1.597368597984314,
          1.3161472082138062,
          1.0349256992340088,
          0.7537040114402771,
          0.4724825620651245,
          0.19126099348068237,
          -0.08996054530143738,
          -0.37118223309516907,
          -0.6524035930633545,
          -0.9336252212524414,
          -1.2148467302322388,
          -1.4960682392120361,
          -1.7772899866104126,
          -2.05851149559021,
          -2.3397328853607178,
          -2.6209545135498047,
          -2.9021759033203125,
          -3.1833977699279785,
          -3.4646193981170654
         ]
        },
        {
         "line": {
          "color": "#AB63FA",
          "dash": "dashdot",
          "width": 4
         },
         "marker": {
          "line": {
           "width": 2
          },
          "size": 5
         },
         "mode": "lines",
         "name": "KIV",
         "type": "scatter",
         "x": [
          -2.4764914512634277,
          -2.328021764755249,
          -2.1795520782470703,
          -2.0310821533203125,
          -1.8826124668121338,
          -1.734142780303955,
          -1.5856729745864868,
          -1.4372031688690186,
          -1.2887333631515503,
          -1.1402636766433716,
          -0.9917939305305481,
          -0.8433241248130798,
          -0.6948544383049011,
          -0.5463846921920776,
          -0.3979148864746094,
          -0.24944519996643066,
          -0.10097544640302658,
          0.04749429598450661,
          0.19596411287784576,
          0.3444337546825409,
          0.49290356040000916,
          0.6413732767105103,
          0.7898430228233337,
          0.938312828540802,
          1.0867825746536255,
          1.2352522611618042,
          1.3837220668792725,
          1.5321917533874512,
          1.6806615591049194,
          1.8291313648223877
         ],
         "y": [
          1.1446318602974342e-05,
          1.179338206425032e-05,
          1.2192857297883719e-05,
          1.2643658298427284e-05,
          1.3142149249454833e-05,
          1.3681871708676193e-05,
          1.4253409714853282e-05,
          1.4844437410315222e-05,
          1.5439978651160784e-05,
          1.6022883237116633e-05,
          1.6574525765598824e-05,
          1.707569576432407e-05,
          1.7507635313381957e-05,
          1.7853159409823266e-05,
          1.809776603453858e-05,
          1.8230643011918037e-05,
          1.8245476074607822e-05,
          1.814096550666604e-05,
          1.7920994885840097e-05,
          1.759442120454474e-05,
          1.7174494698766176e-05,
          1.6677968167217512e-05,
          1.6123971280999708e-05,
          1.553276591281775e-05,
          1.4924500361348759e-05,
          1.431806823730824e-05,
          1.3730169292847308e-05,
          1.3174631510357126e-05,
          1.2662017524012957e-05,
          1.2199519254501851e-05
         ]
        },
        {
         "line": {
          "color": "#FFA15A",
          "width": 4
         },
         "marker": {
          "color": "#FFA15A",
          "line": {
           "color": "#FFA15A",
           "width": 2
          },
          "size": 5
         },
         "name": "GB lower",
         "type": "scatter",
         "x": [
          -1.4455751180648804,
          -0.7763384580612183,
          -0.10710179805755615,
          0.562134861946106,
          1.231371521949768
         ],
         "y": [
          -1.628676176071167,
          -1.168984055519104,
          -0.7458212971687317,
          -1.032953143119812,
          -1.8155659437179565
         ]
        },
        {
         "line": {
          "color": "#19D3F3",
          "width": 4
         },
         "marker": {
          "color": "#19D3F3",
          "line": {
           "color": "#19D3F3",
           "width": 2
          },
          "size": 5
         },
         "name": "GB upper",
         "type": "scatter",
         "x": [
          -1.4455751180648804,
          -0.7763384580612183,
          -0.10710179805755615,
          0.562134861946106,
          1.231371521949768
         ],
         "y": [
          2.3973350524902344,
          1.3023333549499512,
          0.5264036655426025,
          0.24164290726184845,
          -0.07745103538036346
         ]
        }
       ],
       "layout": {
        "font": {
         "family": "serif",
         "size": 32
        },
        "height": 450,
        "margin": {
         "b": 0,
         "l": 0,
         "r": 0,
         "t": 0
        },
        "plot_bgcolor": "rgba(0, 0, 0, 0)",
        "showlegend": false,
        "template": {
         "data": {
          "bar": [
           {
            "error_x": {
             "color": "#2a3f5f"
            },
            "error_y": {
             "color": "#2a3f5f"
            },
            "marker": {
             "line": {
              "color": "#E5ECF6",
              "width": 0.5
             },
             "pattern": {
              "fillmode": "overlay",
              "size": 10,
              "solidity": 0.2
             }
            },
            "type": "bar"
           }
          ],
          "barpolar": [
           {
            "marker": {
             "line": {
              "color": "#E5ECF6",
              "width": 0.5
             },
             "pattern": {
              "fillmode": "overlay",
              "size": 10,
              "solidity": 0.2
             }
            },
            "type": "barpolar"
           }
          ],
          "carpet": [
           {
            "aaxis": {
             "endlinecolor": "#2a3f5f",
             "gridcolor": "white",
             "linecolor": "white",
             "minorgridcolor": "white",
             "startlinecolor": "#2a3f5f"
            },
            "baxis": {
             "endlinecolor": "#2a3f5f",
             "gridcolor": "white",
             "linecolor": "white",
             "minorgridcolor": "white",
             "startlinecolor": "#2a3f5f"
            },
            "type": "carpet"
           }
          ],
          "choropleth": [
           {
            "colorbar": {
             "outlinewidth": 0,
             "ticks": ""
            },
            "type": "choropleth"
           }
          ],
          "contour": [
           {
            "colorbar": {
             "outlinewidth": 0,
             "ticks": ""
            },
            "colorscale": [
             [
              0,
              "#0d0887"
             ],
             [
              0.1111111111111111,
              "#46039f"
             ],
             [
              0.2222222222222222,
              "#7201a8"
             ],
             [
              0.3333333333333333,
              "#9c179e"
             ],
             [
              0.4444444444444444,
              "#bd3786"
             ],
             [
              0.5555555555555556,
              "#d8576b"
             ],
             [
              0.6666666666666666,
              "#ed7953"
             ],
             [
              0.7777777777777778,
              "#fb9f3a"
             ],
             [
              0.8888888888888888,
              "#fdca26"
             ],
             [
              1,
              "#f0f921"
             ]
            ],
            "type": "contour"
           }
          ],
          "contourcarpet": [
           {
            "colorbar": {
             "outlinewidth": 0,
             "ticks": ""
            },
            "type": "contourcarpet"
           }
          ],
          "heatmap": [
           {
            "colorbar": {
             "outlinewidth": 0,
             "ticks": ""
            },
            "colorscale": [
             [
              0,
              "#0d0887"
             ],
             [
              0.1111111111111111,
              "#46039f"
             ],
             [
              0.2222222222222222,
              "#7201a8"
             ],
             [
              0.3333333333333333,
              "#9c179e"
             ],
             [
              0.4444444444444444,
              "#bd3786"
             ],
             [
              0.5555555555555556,
              "#d8576b"
             ],
             [
              0.6666666666666666,
              "#ed7953"
             ],
             [
              0.7777777777777778,
              "#fb9f3a"
             ],
             [
              0.8888888888888888,
              "#fdca26"
             ],
             [
              1,
              "#f0f921"
             ]
            ],
            "type": "heatmap"
           }
          ],
          "heatmapgl": [
           {
            "colorbar": {
             "outlinewidth": 0,
             "ticks": ""
            },
            "colorscale": [
             [
              0,
              "#0d0887"
             ],
             [
              0.1111111111111111,
              "#46039f"
             ],
             [
              0.2222222222222222,
              "#7201a8"
             ],
             [
              0.3333333333333333,
              "#9c179e"
             ],
             [
              0.4444444444444444,
              "#bd3786"
             ],
             [
              0.5555555555555556,
              "#d8576b"
             ],
             [
              0.6666666666666666,
              "#ed7953"
             ],
             [
              0.7777777777777778,
              "#fb9f3a"
             ],
             [
              0.8888888888888888,
              "#fdca26"
             ],
             [
              1,
              "#f0f921"
             ]
            ],
            "type": "heatmapgl"
           }
          ],
          "histogram": [
           {
            "marker": {
             "pattern": {
              "fillmode": "overlay",
              "size": 10,
              "solidity": 0.2
             }
            },
            "type": "histogram"
           }
          ],
          "histogram2d": [
           {
            "colorbar": {
             "outlinewidth": 0,
             "ticks": ""
            },
            "colorscale": [
             [
              0,
              "#0d0887"
             ],
             [
              0.1111111111111111,
              "#46039f"
             ],
             [
              0.2222222222222222,
              "#7201a8"
             ],
             [
              0.3333333333333333,
              "#9c179e"
             ],
             [
              0.4444444444444444,
              "#bd3786"
             ],
             [
              0.5555555555555556,
              "#d8576b"
             ],
             [
              0.6666666666666666,
              "#ed7953"
             ],
             [
              0.7777777777777778,
              "#fb9f3a"
             ],
             [
              0.8888888888888888,
              "#fdca26"
             ],
             [
              1,
              "#f0f921"
             ]
            ],
            "type": "histogram2d"
           }
          ],
          "histogram2dcontour": [
           {
            "colorbar": {
             "outlinewidth": 0,
             "ticks": ""
            },
            "colorscale": [
             [
              0,
              "#0d0887"
             ],
             [
              0.1111111111111111,
              "#46039f"
             ],
             [
              0.2222222222222222,
              "#7201a8"
             ],
             [
              0.3333333333333333,
              "#9c179e"
             ],
             [
              0.4444444444444444,
              "#bd3786"
             ],
             [
              0.5555555555555556,
              "#d8576b"
             ],
             [
              0.6666666666666666,
              "#ed7953"
             ],
             [
              0.7777777777777778,
              "#fb9f3a"
             ],
             [
              0.8888888888888888,
              "#fdca26"
             ],
             [
              1,
              "#f0f921"
             ]
            ],
            "type": "histogram2dcontour"
           }
          ],
          "mesh3d": [
           {
            "colorbar": {
             "outlinewidth": 0,
             "ticks": ""
            },
            "type": "mesh3d"
           }
          ],
          "parcoords": [
           {
            "line": {
             "colorbar": {
              "outlinewidth": 0,
              "ticks": ""
             }
            },
            "type": "parcoords"
           }
          ],
          "pie": [
           {
            "automargin": true,
            "type": "pie"
           }
          ],
          "scatter": [
           {
            "fillpattern": {
             "fillmode": "overlay",
             "size": 10,
             "solidity": 0.2
            },
            "type": "scatter"
           }
          ],
          "scatter3d": [
           {
            "line": {
             "colorbar": {
              "outlinewidth": 0,
              "ticks": ""
             }
            },
            "marker": {
             "colorbar": {
              "outlinewidth": 0,
              "ticks": ""
             }
            },
            "type": "scatter3d"
           }
          ],
          "scattercarpet": [
           {
            "marker": {
             "colorbar": {
              "outlinewidth": 0,
              "ticks": ""
             }
            },
            "type": "scattercarpet"
           }
          ],
          "scattergeo": [
           {
            "marker": {
             "colorbar": {
              "outlinewidth": 0,
              "ticks": ""
             }
            },
            "type": "scattergeo"
           }
          ],
          "scattergl": [
           {
            "marker": {
             "colorbar": {
              "outlinewidth": 0,
              "ticks": ""
             }
            },
            "type": "scattergl"
           }
          ],
          "scattermapbox": [
           {
            "marker": {
             "colorbar": {
              "outlinewidth": 0,
              "ticks": ""
             }
            },
            "type": "scattermapbox"
           }
          ],
          "scatterpolar": [
           {
            "marker": {
             "colorbar": {
              "outlinewidth": 0,
              "ticks": ""
             }
            },
            "type": "scatterpolar"
           }
          ],
          "scatterpolargl": [
           {
            "marker": {
             "colorbar": {
              "outlinewidth": 0,
              "ticks": ""
             }
            },
            "type": "scatterpolargl"
           }
          ],
          "scatterternary": [
           {
            "marker": {
             "colorbar": {
              "outlinewidth": 0,
              "ticks": ""
             }
            },
            "type": "scatterternary"
           }
          ],
          "surface": [
           {
            "colorbar": {
             "outlinewidth": 0,
             "ticks": ""
            },
            "colorscale": [
             [
              0,
              "#0d0887"
             ],
             [
              0.1111111111111111,
              "#46039f"
             ],
             [
              0.2222222222222222,
              "#7201a8"
             ],
             [
              0.3333333333333333,
              "#9c179e"
             ],
             [
              0.4444444444444444,
              "#bd3786"
             ],
             [
              0.5555555555555556,
              "#d8576b"
             ],
             [
              0.6666666666666666,
              "#ed7953"
             ],
             [
              0.7777777777777778,
              "#fb9f3a"
             ],
             [
              0.8888888888888888,
              "#fdca26"
             ],
             [
              1,
              "#f0f921"
             ]
            ],
            "type": "surface"
           }
          ],
          "table": [
           {
            "cells": {
             "fill": {
              "color": "#EBF0F8"
             },
             "line": {
              "color": "white"
             }
            },
            "header": {
             "fill": {
              "color": "#C8D4E3"
             },
             "line": {
              "color": "white"
             }
            },
            "type": "table"
           }
          ]
         },
         "layout": {
          "annotationdefaults": {
           "arrowcolor": "#2a3f5f",
           "arrowhead": 0,
           "arrowwidth": 1
          },
          "autotypenumbers": "strict",
          "coloraxis": {
           "colorbar": {
            "outlinewidth": 0,
            "ticks": ""
           }
          },
          "colorscale": {
           "diverging": [
            [
             0,
             "#8e0152"
            ],
            [
             0.1,
             "#c51b7d"
            ],
            [
             0.2,
             "#de77ae"
            ],
            [
             0.3,
             "#f1b6da"
            ],
            [
             0.4,
             "#fde0ef"
            ],
            [
             0.5,
             "#f7f7f7"
            ],
            [
             0.6,
             "#e6f5d0"
            ],
            [
             0.7,
             "#b8e186"
            ],
            [
             0.8,
             "#7fbc41"
            ],
            [
             0.9,
             "#4d9221"
            ],
            [
             1,
             "#276419"
            ]
           ],
           "sequential": [
            [
             0,
             "#0d0887"
            ],
            [
             0.1111111111111111,
             "#46039f"
            ],
            [
             0.2222222222222222,
             "#7201a8"
            ],
            [
             0.3333333333333333,
             "#9c179e"
            ],
            [
             0.4444444444444444,
             "#bd3786"
            ],
            [
             0.5555555555555556,
             "#d8576b"
            ],
            [
             0.6666666666666666,
             "#ed7953"
            ],
            [
             0.7777777777777778,
             "#fb9f3a"
            ],
            [
             0.8888888888888888,
             "#fdca26"
            ],
            [
             1,
             "#f0f921"
            ]
           ],
           "sequentialminus": [
            [
             0,
             "#0d0887"
            ],
            [
             0.1111111111111111,
             "#46039f"
            ],
            [
             0.2222222222222222,
             "#7201a8"
            ],
            [
             0.3333333333333333,
             "#9c179e"
            ],
            [
             0.4444444444444444,
             "#bd3786"
            ],
            [
             0.5555555555555556,
             "#d8576b"
            ],
            [
             0.6666666666666666,
             "#ed7953"
            ],
            [
             0.7777777777777778,
             "#fb9f3a"
            ],
            [
             0.8888888888888888,
             "#fdca26"
            ],
            [
             1,
             "#f0f921"
            ]
           ]
          },
          "colorway": [
           "#636efa",
           "#EF553B",
           "#00cc96",
           "#ab63fa",
           "#FFA15A",
           "#19d3f3",
           "#FF6692",
           "#B6E880",
           "#FF97FF",
           "#FECB52"
          ],
          "font": {
           "color": "#2a3f5f"
          },
          "geo": {
           "bgcolor": "white",
           "lakecolor": "white",
           "landcolor": "#E5ECF6",
           "showlakes": true,
           "showland": true,
           "subunitcolor": "white"
          },
          "hoverlabel": {
           "align": "left"
          },
          "hovermode": "closest",
          "mapbox": {
           "style": "light"
          },
          "paper_bgcolor": "white",
          "plot_bgcolor": "#E5ECF6",
          "polar": {
           "angularaxis": {
            "gridcolor": "white",
            "linecolor": "white",
            "ticks": ""
           },
           "bgcolor": "#E5ECF6",
           "radialaxis": {
            "gridcolor": "white",
            "linecolor": "white",
            "ticks": ""
           }
          },
          "scene": {
           "xaxis": {
            "backgroundcolor": "#E5ECF6",
            "gridcolor": "white",
            "gridwidth": 2,
            "linecolor": "white",
            "showbackground": true,
            "ticks": "",
            "zerolinecolor": "white"
           },
           "yaxis": {
            "backgroundcolor": "#E5ECF6",
            "gridcolor": "white",
            "gridwidth": 2,
            "linecolor": "white",
            "showbackground": true,
            "ticks": "",
            "zerolinecolor": "white"
           },
           "zaxis": {
            "backgroundcolor": "#E5ECF6",
            "gridcolor": "white",
            "gridwidth": 2,
            "linecolor": "white",
            "showbackground": true,
            "ticks": "",
            "zerolinecolor": "white"
           }
          },
          "shapedefaults": {
           "line": {
            "color": "#2a3f5f"
           }
          },
          "ternary": {
           "aaxis": {
            "gridcolor": "white",
            "linecolor": "white",
            "ticks": ""
           },
           "baxis": {
            "gridcolor": "white",
            "linecolor": "white",
            "ticks": ""
           },
           "bgcolor": "#E5ECF6",
           "caxis": {
            "gridcolor": "white",
            "linecolor": "white",
            "ticks": ""
           }
          },
          "title": {
           "x": 0.05
          },
          "xaxis": {
           "automargin": true,
           "gridcolor": "white",
           "linecolor": "white",
           "ticks": "",
           "title": {
            "standoff": 15
           },
           "zerolinecolor": "white",
           "zerolinewidth": 2
          },
          "yaxis": {
           "automargin": true,
           "gridcolor": "white",
           "linecolor": "white",
           "ticks": "",
           "title": {
            "standoff": 15
           },
           "zerolinecolor": "white",
           "zerolinewidth": 2
          }
         }
        },
        "width": 1000,
        "xaxis": {
         "linecolor": "black",
         "linewidth": 2,
         "range": [
          -2.2,
          2.2
         ],
         "showline": true,
         "title": {
          "text": "Diversity (standardized)"
         },
         "type": "linear"
        },
        "yaxis": {
         "linecolor": "black",
         "linewidth": 2,
         "range": [
          -2.2,
          2.2
         ],
         "showline": true,
         "title": {
          "text": "Weight (standardized)"
         },
         "type": "linear"
        }
       }
      },
      "image/png": "[encoded data removed]",
      "text/html": [
       "<div>                            <div id=\"f2cb95ad-be9d-45d4-b676-85811b892657\" class=\"plotly-graph-div\" style=\"height:450px; width:1000px;\"></div>            <script type=\"text/javascript\">                require([\"plotly\"], function(Plotly) {                    window.PLOTLYENV=window.PLOTLYENV || {};                                    if (document.getElementById(\"f2cb95ad-be9d-45d4-b676-85811b892657\")) {                    Plotly.newPlot(                        \"f2cb95ad-be9d-45d4-b676-85811b892657\",                        [{\"marker\":{\"color\":\"black\",\"symbol\":\"x-thin\",\"line\":{\"width\":2},\"size\":5},\"mode\":\"markers\",\"name\":\"Data\",\"x\":[0.6290639406779998,1.3594114392411687,-0.6279465908647315,0.6745836118257993,-0.31649464803071553,-0.14423929566232238,-1.7151289249697894,1.5653310187081932,-0.9874539047061393,-1.0323113161319752,0.5421344796690107,0.06659500094725573,-0.47402909427563966,0.3982128361537129,-0.3328704573291416,-0.06471446646878952,0.3643543773115962,-1.624456955648346,1.1689185314373096,-0.2778193759579705,0.38219767027555474,0.01738193225733072,-0.3425191973198992,-0.3807752013132517,0.6066011372796498,0.013265077866644406,0.10598796597253268,0.7820007069557998,-1.9559800002288974,1.325051909204542,0.7500115298415847,0.19991179025854855,0.6755429941065777,0.965591965333681,1.7380535871326295,-0.41390335771631115,-0.6991820440827935,-2.361949236187187,-1.3446976109657183,-0.4845854395220616,-2.4764915613436638,-0.5818986873106466,-0.7642852183838466,1.1544796520024088,1.026862063598163,1.510445418558231,1.8291313687396455,1.160189103819448,-0.1481373295663671,-0.26797503204699946,0.022964085036261166,0.3890228787733651,-0.10351462242790142,-0.1463189077753056,0.7511624137813475,-1.596891345682175,-0.5078906648474154],\"y\":[0.7205298751600169,1.150906252688231,0.1671888183380292,-0.6935639367183977,0.44385934674902305,0.9357180639241245,-0.10948171007296573,0.5360828562193547,0.04422413904425332,0.2286711579849166,-1.1546814840700548,0.41311817692557884,0.5668240260427979,1.027941573394455,-0.10948171007296573,0.25941232780835977,1.3353532716288932,0.9972004035710119,-1.8617283900092627,-1.9846930693030376,-0.10948171007296573,-1.6465402012451562,-1.6465402012451562,-0.5705992574246229,-2.5072929563015833,-0.9702344651293926,-1.9846930693030376,-0.1402228798964089,0.44385934674902305,-1.7080225408920435,0.07496530886769756,-0.41689340830740385,-0.23244638936674053,0.6283063656896863,-0.07874054024952148,0.6283063656896863,0.9972004035710119,0.6283063656896863,0.6897887053365738,0.3823770071021357,1.1201650828647867,1.2123885923351183,1.3968356112757816,-0.878010955659061,0.32089466745524825,0.9664592337475676,0.8127533846303485,0.8434945544537928,0.7205298751600169,0.874235724277236,0.5360828562193547,1.0586827432178993,-1.7387637107154879,-0.4783757479542912,-0.7243051065418419,-1.2776461633638307,-0.1402228798964089],\"type\":\"scatter\",\"line\":{\"width\":4}},{\"line\":{\"color\":\"#EF553B\",\"dash\":\"dot\",\"width\":4},\"mode\":\"lines\",\"name\":\"OLS\",\"x\":[-2.4764914512634277,-2.328021764755249,-2.1795520782470703,-2.0310821533203125,-1.8826124668121338,-1.734142780303955,-1.5856729745864868,-1.4372031688690186,-1.2887333631515503,-1.1402636766433716,-0.9917939305305481,-0.8433241248130798,-0.6948544383049011,-0.5463846921920776,-0.3979148864746094,-0.24944519996643066,-0.10097544640302658,0.04749429598450661,0.19596411287784576,0.3444337546825409,0.49290356040000916,0.6413732767105103,0.7898430228233337,0.938312828540802,1.0867825746536255,1.2352522611618042,1.3837220668792725,1.5321917533874512,1.6806615591049194,1.8291313648223877],\"y\":[0.36387899518013,0.342063844203949,0.32024872303009033,0.2984335422515869,0.27661842107772827,0.25480327010154724,0.2329881191253662,0.21117296814918518,0.18935781717300415,0.16754266619682312,0.14572753012180328,0.12391237169504166,0.10209723562002182,0.08028209209442139,0.05846693739295006,0.03665180131793022,0.014836653135716915,-0.0069784922525286674,-0.02879364788532257,-0.05060878023505211,-0.07242393493652344,-0.09423907101154327,-0.1160542219877243,-0.13786937296390533,-0.15968452394008636,-0.1814996600151062,-0.20331481099128723,-0.22512994706630707,-0.2469450980424881,-0.2687602639198303],\"type\":\"scatter\",\"marker\":{\"line\":{\"width\":2},\"size\":5}},{\"line\":{\"color\":\"#00CC96\",\"dash\":\"dash\",\"width\":4},\"mode\":\"lines\",\"name\":\"2SLS\",\"x\":[-2.4764914512634277,-2.328021764755249,-2.1795520782470703,-2.0310821533203125,-1.8826124668121338,-1.734142780303955,-1.5856729745864868,-1.4372031688690186,-1.2887333631515503,-1.1402636766433716,-0.9917939305305481,-0.8433241248130798,-0.6948544383049011,-0.5463846921920776,-0.3979148864746094,-0.24944519996643066,-0.10097544640302658,0.04749429598450661,0.19596411287784576,0.3444337546825409,0.49290356040000916,0.6413732767105103,0.7898430228233337,0.938312828540802,1.0867825746536255,1.2352522611618042,1.3837220668792725,1.5321917533874512,1.6806615591049194,1.8291313648223877],\"y\":[4.690805912017822,4.4095845222473145,4.128363132476807,3.8471410274505615,3.5659196376800537,3.284698247909546,3.003476619720459,2.722254991531372,2.441033363342285,2.1598117351531982,1.8785903453826904,1.597368597984314,1.3161472082138062,1.0349256992340088,0.7537040114402771,0.4724825620651245,0.19126099348068237,-0.08996054530143738,-0.37118223309516907,-0.6524035930633545,-0.9336252212524414,-1.2148467302322388,-1.4960682392120361,-1.7772899866104126,-2.05851149559021,-2.3397328853607178,-2.6209545135498047,-2.9021759033203125,-3.1833977699279785,-3.4646193981170654],\"type\":\"scatter\",\"marker\":{\"line\":{\"width\":2},\"size\":5}},{\"line\":{\"color\":\"#AB63FA\",\"dash\":\"dashdot\",\"width\":4},\"mode\":\"lines\",\"name\":\"KIV\",\"x\":[-2.4764914512634277,-2.328021764755249,-2.1795520782470703,-2.0310821533203125,-1.8826124668121338,-1.734142780303955,-1.5856729745864868,-1.4372031688690186,-1.2887333631515503,-1.1402636766433716,-0.9917939305305481,-0.8433241248130798,-0.6948544383049011,-0.5463846921920776,-0.3979148864746094,-0.24944519996643066,-0.10097544640302658,0.04749429598450661,0.19596411287784576,0.3444337546825409,0.49290356040000916,0.6413732767105103,0.7898430228233337,0.938312828540802,1.0867825746536255,1.2352522611618042,1.3837220668792725,1.5321917533874512,1.6806615591049194,1.8291313648223877],\"y\":[1.1446318602974342e-05,1.179338206425032e-05,1.2192857297883719e-05,1.2643658298427284e-05,1.3142149249454833e-05,1.3681871708676193e-05,1.4253409714853282e-05,1.4844437410315222e-05,1.5439978651160784e-05,1.6022883237116633e-05,1.6574525765598824e-05,1.707569576432407e-05,1.7507635313381957e-05,1.7853159409823266e-05,1.809776603453858e-05,1.8230643011918037e-05,1.8245476074607822e-05,1.814096550666604e-05,1.7920994885840097e-05,1.759442120454474e-05,1.7174494698766176e-05,1.6677968167217512e-05,1.6123971280999708e-05,1.553276591281775e-05,1.4924500361348759e-05,1.431806823730824e-05,1.3730169292847308e-05,1.3174631510357126e-05,1.2662017524012957e-05,1.2199519254501851e-05],\"type\":\"scatter\",\"marker\":{\"line\":{\"width\":2},\"size\":5}},{\"line\":{\"color\":\"#FFA15A\",\"width\":4},\"marker\":{\"color\":\"#FFA15A\",\"line\":{\"color\":\"#FFA15A\",\"width\":2},\"size\":5},\"name\":\"GB lower\",\"x\":[-1.4455751180648804,-0.7763384580612183,-0.10710179805755615,0.562134861946106,1.231371521949768],\"y\":[-1.628676176071167,-1.168984055519104,-0.7458212971687317,-1.032953143119812,-1.8155659437179565],\"type\":\"scatter\"},{\"line\":{\"color\":\"#19D3F3\",\"width\":4},\"marker\":{\"color\":\"#19D3F3\",\"line\":{\"color\":\"#19D3F3\",\"width\":2},\"size\":5},\"name\":\"GB upper\",\"x\":[-1.4455751180648804,-0.7763384580612183,-0.10710179805755615,0.562134861946106,1.231371521949768],\"y\":[2.3973350524902344,1.3023333549499512,0.5264036655426025,0.24164290726184845,-0.07745103538036346],\"type\":\"scatter\"}],                        {\"template\":{\"data\":{\"histogram2dcontour\":[{\"type\":\"histogram2dcontour\",\"colorbar\":{\"outlinewidth\":0,\"ticks\":\"\"},\"colorscale\":[[0.0,\"#0d0887\"],[0.1111111111111111,\"#46039f\"],[0.2222222222222222,\"#7201a8\"],[0.3333333333333333,\"#9c179e\"],[0.4444444444444444,\"#bd3786\"],[0.5555555555555556,\"#d8576b\"],[0.6666666666666666,\"#ed7953\"],[0.7777777777777778,\"#fb9f3a\"],[0.8888888888888888,\"#fdca26\"],[1.0,\"#f0f921\"]]}],\"choropleth\":[{\"type\":\"choropleth\",\"colorbar\":{\"outlinewidth\":0,\"ticks\":\"\"}}],\"histogram2d\":[{\"type\":\"histogram2d\",\"colorbar\":{\"outlinewidth\":0,\"ticks\":\"\"},\"colorscale\":[[0.0,\"#0d0887\"],[0.1111111111111111,\"#46039f\"],[0.2222222222222222,\"#7201a8\"],[0.3333333333333333,\"#9c179e\"],[0.4444444444444444,\"#bd3786\"],[0.5555555555555556,\"#d8576b\"],[0.6666666666666666,\"#ed7953\"],[0.7777777777777778,\"#fb9f3a\"],[0.8888888888888888,\"#fdca26\"],[1.0,\"#f0f921\"]]}],\"heatmap\":[{\"type\":\"heatmap\",\"colorbar\":{\"outlinewidth\":0,\"ticks\":\"\"},\"colorscale\":[[0.0,\"#0d0887\"],[0.1111111111111111,\"#46039f\"],[0.2222222222222222,\"#7201a8\"],[0.3333333333333333,\"#9c179e\"],[0.4444444444444444,\"#bd3786\"],[0.5555555555555556,\"#d8576b\"],[0.6666666666666666,\"#ed7953\"],[0.7777777777777778,\"#fb9f3a\"],[0.8888888888888888,\"#fdca26\"],[1.0,\"#f0f921\"]]}],\"heatmapgl\":[{\"type\":\"heatmapgl\",\"colorbar\":{\"outlinewidth\":0,\"ticks\":\"\"},\"colorscale\":[[0.0,\"#0d0887\"],[0.1111111111111111,\"#46039f\"],[0.2222222222222222,\"#7201a8\"],[0.3333333333333333,\"#9c179e\"],[0.4444444444444444,\"#bd3786\"],[0.5555555555555556,\"#d8576b\"],[0.6666666666666666,\"#ed7953\"],[0.7777777777777778,\"#fb9f3a\"],[0.8888888888888888,\"#fdca26\"],[1.0,\"#f0f921\"]]}],\"contourcarpet\":[{\"type\":\"contourcarpet\",\"colorbar\":{\"outlinewidth\":0,\"ticks\":\"\"}}],\"contour\":[{\"type\":\"contour\",\"colorbar\":{\"outlinewidth\":0,\"ticks\":\"\"},\"colorscale\":[[0.0,\"#0d0887\"],[0.1111111111111111,\"#46039f\"],[0.2222222222222222,\"#7201a8\"],[0.3333333333333333,\"#9c179e\"],[0.4444444444444444,\"#bd3786\"],[0.5555555555555556,\"#d8576b\"],[0.6666666666666666,\"#ed7953\"],[0.7777777777777778,\"#fb9f3a\"],[0.8888888888888888,\"#fdca26\"],[1.0,\"#f0f921\"]]}],\"surface\":[{\"type\":\"surface\",\"colorbar\":{\"outlinewidth\":0,\"ticks\":\"\"},\"colorscale\":[[0.0,\"#0d0887\"],[0.1111111111111111,\"#46039f\"],[0.2222222222222222,\"#7201a8\"],[0.3333333333333333,\"#9c179e\"],[0.4444444444444444,\"#bd3786\"],[0.5555555555555556,\"#d8576b\"],[0.6666666666666666,\"#ed7953\"],[0.7777777777777778,\"#fb9f3a\"],[0.8888888888888888,\"#fdca26\"],[1.0,\"#f0f921\"]]}],\"mesh3d\":[{\"type\":\"mesh3d\",\"colorbar\":{\"outlinewidth\":0,\"ticks\":\"\"}}],\"scatter\":[{\"fillpattern\":{\"fillmode\":\"overlay\",\"size\":10,\"solidity\":0.2},\"type\":\"scatter\"}],\"parcoords\":[{\"type\":\"parcoords\",\"line\":{\"colorbar\":{\"outlinewidth\":0,\"ticks\":\"\"}}}],\"scatterpolargl\":[{\"type\":\"scatterpolargl\",\"marker\":{\"colorbar\":{\"outlinewidth\":0,\"ticks\":\"\"}}}],\"bar\":[{\"error_x\":{\"color\":\"#2a3f5f\"},\"error_y\":{\"color\":\"#2a3f5f\"},\"marker\":{\"line\":{\"color\":\"#E5ECF6\",\"width\":0.5},\"pattern\":{\"fillmode\":\"overlay\",\"size\":10,\"solidity\":0.2}},\"type\":\"bar\"}],\"scattergeo\":[{\"type\":\"scattergeo\",\"marker\":{\"colorbar\":{\"outlinewidth\":0,\"ticks\":\"\"}}}],\"scatterpolar\":[{\"type\":\"scatterpolar\",\"marker\":{\"colorbar\":{\"outlinewidth\":0,\"ticks\":\"\"}}}],\"histogram\":[{\"marker\":{\"pattern\":{\"fillmode\":\"overlay\",\"size\":10,\"solidity\":0.2}},\"type\":\"histogram\"}],\"scattergl\":[{\"type\":\"scattergl\",\"marker\":{\"colorbar\":{\"outlinewidth\":0,\"ticks\":\"\"}}}],\"scatter3d\":[{\"type\":\"scatter3d\",\"line\":{\"colorbar\":{\"outlinewidth\":0,\"ticks\":\"\"}},\"marker\":{\"colorbar\":{\"outlinewidth\":0,\"ticks\":\"\"}}}],\"scattermapbox\":[{\"type\":\"scattermapbox\",\"marker\":{\"colorbar\":{\"outlinewidth\":0,\"ticks\":\"\"}}}],\"scatterternary\":[{\"type\":\"scatterternary\",\"marker\":{\"colorbar\":{\"outlinewidth\":0,\"ticks\":\"\"}}}],\"scattercarpet\":[{\"type\":\"scattercarpet\",\"marker\":{\"colorbar\":{\"outlinewidth\":0,\"ticks\":\"\"}}}],\"carpet\":[{\"aaxis\":{\"endlinecolor\":\"#2a3f5f\",\"gridcolor\":\"white\",\"linecolor\":\"white\",\"minorgridcolor\":\"white\",\"startlinecolor\":\"#2a3f5f\"},\"baxis\":{\"endlinecolor\":\"#2a3f5f\",\"gridcolor\":\"white\",\"linecolor\":\"white\",\"minorgridcolor\":\"white\",\"startlinecolor\":\"#2a3f5f\"},\"type\":\"carpet\"}],\"table\":[{\"cells\":{\"fill\":{\"color\":\"#EBF0F8\"},\"line\":{\"color\":\"white\"}},\"header\":{\"fill\":{\"color\":\"#C8D4E3\"},\"line\":{\"color\":\"white\"}},\"type\":\"table\"}],\"barpolar\":[{\"marker\":{\"line\":{\"color\":\"#E5ECF6\",\"width\":0.5},\"pattern\":{\"fillmode\":\"overlay\",\"size\":10,\"solidity\":0.2}},\"type\":\"barpolar\"}],\"pie\":[{\"automargin\":true,\"type\":\"pie\"}]},\"layout\":{\"autotypenumbers\":\"strict\",\"colorway\":[\"#636efa\",\"#EF553B\",\"#00cc96\",\"#ab63fa\",\"#FFA15A\",\"#19d3f3\",\"#FF6692\",\"#B6E880\",\"#FF97FF\",\"#FECB52\"],\"font\":{\"color\":\"#2a3f5f\"},\"hovermode\":\"closest\",\"hoverlabel\":{\"align\":\"left\"},\"paper_bgcolor\":\"white\",\"plot_bgcolor\":\"#E5ECF6\",\"polar\":{\"bgcolor\":\"#E5ECF6\",\"angularaxis\":{\"gridcolor\":\"white\",\"linecolor\":\"white\",\"ticks\":\"\"},\"radialaxis\":{\"gridcolor\":\"white\",\"linecolor\":\"white\",\"ticks\":\"\"}},\"ternary\":{\"bgcolor\":\"#E5ECF6\",\"aaxis\":{\"gridcolor\":\"white\",\"linecolor\":\"white\",\"ticks\":\"\"},\"baxis\":{\"gridcolor\":\"white\",\"linecolor\":\"white\",\"ticks\":\"\"},\"caxis\":{\"gridcolor\":\"white\",\"linecolor\":\"white\",\"ticks\":\"\"}},\"coloraxis\":{\"colorbar\":{\"outlinewidth\":0,\"ticks\":\"\"}},\"colorscale\":{\"sequential\":[[0.0,\"#0d0887\"],[0.1111111111111111,\"#46039f\"],[0.2222222222222222,\"#7201a8\"],[0.3333333333333333,\"#9c179e\"],[0.4444444444444444,\"#bd3786\"],[0.5555555555555556,\"#d8576b\"],[0.6666666666666666,\"#ed7953\"],[0.7777777777777778,\"#fb9f3a\"],[0.8888888888888888,\"#fdca26\"],[1.0,\"#f0f921\"]],\"sequentialminus\":[[0.0,\"#0d0887\"],[0.1111111111111111,\"#46039f\"],[0.2222222222222222,\"#7201a8\"],[0.3333333333333333,\"#9c179e\"],[0.4444444444444444,\"#bd3786\"],[0.5555555555555556,\"#d8576b\"],[0.6666666666666666,\"#ed7953\"],[0.7777777777777778,\"#fb9f3a\"],[0.8888888888888888,\"#fdca26\"],[1.0,\"#f0f921\"]],\"diverging\":[[0,\"#8e0152\"],[0.1,\"#c51b7d\"],[0.2,\"#de77ae\"],[0.3,\"#f1b6da\"],[0.4,\"#fde0ef\"],[0.5,\"#f7f7f7\"],[0.6,\"#e6f5d0\"],[0.7,\"#b8e186\"],[0.8,\"#7fbc41\"],[0.9,\"#4d9221\"],[1,\"#276419\"]]},\"xaxis\":{\"gridcolor\":\"white\",\"linecolor\":\"white\",\"ticks\":\"\",\"title\":{\"standoff\":15},\"zerolinecolor\":\"white\",\"automargin\":true,\"zerolinewidth\":2},\"yaxis\":{\"gridcolor\":\"white\",\"linecolor\":\"white\",\"ticks\":\"\",\"title\":{\"standoff\":15},\"zerolinecolor\":\"white\",\"automargin\":true,\"zerolinewidth\":2},\"scene\":{\"xaxis\":{\"backgroundcolor\":\"#E5ECF6\",\"gridcolor\":\"white\",\"linecolor\":\"white\",\"showbackground\":true,\"ticks\":\"\",\"zerolinecolor\":\"white\",\"gridwidth\":2},\"yaxis\":{\"backgroundcolor\":\"#E5ECF6\",\"gridcolor\":\"white\",\"linecolor\":\"white\",\"showbackground\":true,\"ticks\":\"\",\"zerolinecolor\":\"white\",\"gridwidth\":2},\"zaxis\":{\"backgroundcolor\":\"#E5ECF6\",\"gridcolor\":\"white\",\"linecolor\":\"white\",\"showbackground\":true,\"ticks\":\"\",\"zerolinecolor\":\"white\",\"gridwidth\":2}},\"shapedefaults\":{\"line\":{\"color\":\"#2a3f5f\"}},\"annotationdefaults\":{\"arrowcolor\":\"#2a3f5f\",\"arrowhead\":0,\"arrowwidth\":1},\"geo\":{\"bgcolor\":\"white\",\"landcolor\":\"#E5ECF6\",\"subunitcolor\":\"white\",\"showland\":true,\"showlakes\":true,\"lakecolor\":\"white\"},\"title\":{\"x\":0.05},\"mapbox\":{\"style\":\"light\"}}},\"yaxis\":{\"title\":{\"text\":\"Weight (standardized)\"},\"linecolor\":\"black\",\"linewidth\":2,\"showline\":true,\"range\":[-2.2,2.2]},\"xaxis\":{\"title\":{\"text\":\"Diversity (standardized)\"},\"linecolor\":\"black\",\"linewidth\":2,\"showline\":true,\"range\":[-2.2,2.2]},\"font\":{\"family\":\"serif\",\"size\":32},\"margin\":{\"b\":0,\"l\":0,\"r\":0,\"t\":0},\"plot_bgcolor\":\"rgba(0,0,0,0)\",\"width\":1000,\"height\":450,\"showlegend\":false},                        {\"responsive\": true}                    ).then(function(){\n",
       "                            \n",
       "var gd = document.getElementById('f2cb95ad-be9d-45d4-b676-85811b892657');\n",
       "var x = new MutationObserver(function (mutations, observer) {{\n",
       "        var display = window.getComputedStyle(gd).display;\n",
       "        if (!display || display === 'none') {{\n",
       "            console.log([gd, 'removed!']);\n",
       "            Plotly.purge(gd);\n",
       "            observer.disconnect();\n",
       "        }}\n",
       "}});\n",
       "\n",
       "// Listen for the removal of the full notebook cells\n",
       "var notebookContainer = gd.closest('#notebook-container');\n",
       "if (notebookContainer) {{\n",
       "    x.observe(notebookContainer, {childList: true});\n",
       "}}\n",
       "\n",
       "// Listen for the clearing of the current output cell\n",
       "var outputEl = gd.closest('.output');\n",
       "if (outputEl) {{\n",
       "    x.observe(outputEl, {childList: true});\n",
       "}}\n",
       "\n",
       "                        })                };                });            </script>        </div>"
      ]
     },
     "metadata": {},
     "output_type": "display_data"
    }
   ],
   "source": [
    "# Shannon\n",
    "\n",
    "plot = res[\"shannon\"]\n",
    "fig = plot_diversity_methods(plot[\"x\"], plot[\"y\"], plot[\"xstar\"], plot[\"xstar_bound\"], plot[\"ystar_ols\"], \n",
    "                             plot[\"ystar_2sls\"], plot[\"ystar_kiv\"], plot[\"results\"])\n",
    "fig.update_xaxes(range=[-2.2, 2.2])\n",
    "fig.update_yaxes(range=[-2.2, 2.2])\n",
    "fig.update_layout(width=1000, height=450, showlegend=False)\n",
    "fig.write_image(os.path.join(save_path, agg_level + \"_\" + filter + \"_shannon.pdf\"))\n",
    "fig.show()"
   ]
  },
  {
   "cell_type": "code",
   "execution_count": 61,
   "metadata": {},
   "outputs": [
    {
     "data": {
      "application/vnd.plotly.v1+json": {
       "config": {
        "plotlyServerURL": "https://plot.ly"
       },
       "data": [
        {
         "line": {
          "width": 4
         },
         "marker": {
          "color": "black",
          "line": {
           "width": 2
          },
          "size": 5,
          "symbol": "x-thin"
         },
         "mode": "markers",
         "name": "Data",
         "type": "scatter",
         "x": [
          0.5840477351363734,
          1.019315769988293,
          -0.9078454609894977,
          0.6598621680808895,
          -0.24880697478229216,
          -0.015770578025853386,
          -1.9635781755983257,
          1.0008423799035595,
          -0.3197042607432952,
          -0.3806514760662581,
          0.5067464876332599,
          0.257839979379733,
          -0.27572222437453675,
          0.6752359613854344,
          -0.22625685369853638,
          0.28127367907074174,
          0.5217286148059614,
          -1.6443812830588567,
          0.8941420208544295,
          0.2240210624093101,
          0.2467790048156336,
          -0.02148993431819044,
          -0.5193678262130165,
          -0.07266481067697798,
          0.36261988842491766,
          0.4908882047326824,
          0.46634273005717214,
          0.8423424745057139,
          -1.547858320920752,
          0.9911580672265039,
          0.6767389112043183,
          0.20971399942985075,
          0.47995004882016673,
          0.6244977135845005,
          0.9248191587356747,
          0.04855086134172117,
          -0.17731479142015005,
          -3.6110267824384112,
          -0.9033801841314006,
          -0.5954313339137307,
          -3.9039710439596194,
          -0.6094576895936494,
          -0.3616585628866034,
          0.5094207776513621,
          0.9113061876752947,
          1.0123169306715025,
          1.127629509660693,
          0.9438042313446496,
          0.22950623057369224,
          0.2372857556746325,
          0.16500782480540963,
          0.6239037791460825,
          0.1359163044586806,
          -0.14576433187239995,
          0.686021654427449,
          -1.041341085064116,
          -0.07813212286985319
         ],
         "y": [
          0.7205298751600169,
          1.150906252688231,
          0.1671888183380292,
          -0.6935639367183977,
          0.44385934674902305,
          0.9357180639241245,
          -0.10948171007296573,
          0.5360828562193547,
          0.04422413904425332,
          0.2286711579849166,
          -1.1546814840700548,
          0.41311817692557884,
          0.5668240260427979,
          1.027941573394455,
          -0.10948171007296573,
          0.25941232780835977,
          1.3353532716288932,
          0.9972004035710119,
          -1.8617283900092627,
          -1.9846930693030376,
          -0.10948171007296573,
          -1.6465402012451562,
          -1.6465402012451562,
          -0.5705992574246229,
          -2.5072929563015833,
          -0.9702344651293926,
          -1.9846930693030376,
          -0.1402228798964089,
          0.44385934674902305,
          -1.7080225408920435,
          0.07496530886769756,
          -0.41689340830740385,
          -0.23244638936674053,
          0.6283063656896863,
          -0.07874054024952148,
          0.6283063656896863,
          0.9972004035710119,
          0.6283063656896863,
          0.6897887053365738,
          0.3823770071021357,
          1.1201650828647867,
          1.2123885923351183,
          1.3968356112757816,
          -0.878010955659061,
          0.32089466745524825,
          0.9664592337475676,
          0.8127533846303485,
          0.8434945544537928,
          0.7205298751600169,
          0.874235724277236,
          0.5360828562193547,
          1.0586827432178993,
          -1.7387637107154879,
          -0.4783757479542912,
          -0.7243051065418419,
          -1.2776461633638307,
          -0.1402228798964089
         ]
        },
        {
         "line": {
          "color": "#EF553B",
          "dash": "dot",
          "width": 4
         },
         "marker": {
          "line": {
           "width": 2
          },
          "size": 5
         },
         "mode": "lines",
         "name": "OLS",
         "type": "scatter",
         "x": [
          -3.903970956802368,
          -3.7304673194885254,
          -3.556964159011841,
          -3.383460521697998,
          -3.2099571228027344,
          -3.0364537239074707,
          -2.862950325012207,
          -2.6894466876983643,
          -2.5159430503845215,
          -2.342439889907837,
          -2.168936252593994,
          -1.995432734489441,
          -1.8219294548034668,
          -1.6484259366989136,
          -1.4749224185943604,
          -1.3014190196990967,
          -1.1279155015945435,
          -0.9544121026992798,
          -0.7809085845947266,
          -0.6074051856994629,
          -0.4339016377925873,
          -0.26039817929267883,
          -0.08689479529857635,
          0.0866086483001709,
          0.2601121664047241,
          0.43361565470695496,
          0.6071191430091858,
          0.7806224822998047,
          0.9541260004043579,
          1.1276295185089111
         ],
         "y": [
          0.6738439202308655,
          0.6438964009284973,
          0.6139489412307739,
          0.584001362323761,
          0.5540538430213928,
          0.5241063237190247,
          0.4941588342189789,
          0.46421128511428833,
          0.4342637360095978,
          0.4043162763118744,
          0.37436869740486145,
          0.3444211781024933,
          0.3144736886024475,
          0.28452613949775696,
          0.2545786201953888,
          0.22463111579418182,
          0.19468358159065247,
          0.1647360622882843,
          0.13478852808475494,
          0.10484102368354797,
          0.07489348202943802,
          0.044945962727069855,
          0.014998454600572586,
          -0.014949064701795578,
          -0.04489659518003464,
          -0.0748441219329834,
          -0.10479164868593216,
          -0.13473914563655853,
          -0.1646866798400879,
          -0.19463421404361725
         ]
        },
        {
         "line": {
          "color": "#00CC96",
          "dash": "dash",
          "width": 4
         },
         "marker": {
          "line": {
           "width": 2
          },
          "size": 5
         },
         "mode": "lines",
         "name": "2SLS",
         "type": "scatter",
         "x": [
          -3.903970956802368,
          -3.7304673194885254,
          -3.556964159011841,
          -3.383460521697998,
          -3.2099571228027344,
          -3.0364537239074707,
          -2.862950325012207,
          -2.6894466876983643,
          -2.5159430503845215,
          -2.342439889907837,
          -2.168936252593994,
          -1.995432734489441,
          -1.8219294548034668,
          -1.6484259366989136,
          -1.4749224185943604,
          -1.3014190196990967,
          -1.1279155015945435,
          -0.9544121026992798,
          -0.7809085845947266,
          -0.6074051856994629,
          -0.4339016377925873,
          -0.26039817929267883,
          -0.08689479529857635,
          0.0866086483001709,
          0.2601121664047241,
          0.43361565470695496,
          0.6071191430091858,
          0.7806224822998047,
          0.9541260004043579,
          1.1276295185089111
         ],
         "y": [
          10.094097137451172,
          9.645486831665039,
          9.196877479553223,
          8.74826717376709,
          8.299656867980957,
          7.851047039031982,
          7.402437210083008,
          6.953826904296875,
          6.505216121673584,
          6.056606769561768,
          5.607995986938477,
          5.159386157989502,
          4.710776329040527,
          4.2621660232543945,
          3.8135557174682617,
          3.364945888519287,
          2.9163355827331543,
          2.4677255153656006,
          2.0191152095794678,
          1.5705053806304932,
          1.1218949556350708,
          0.6732848882675171,
          0.22467496991157532,
          -0.2239351123571396,
          -0.6725453734397888,
          -1.1211555004119873,
          -1.5697658061981201,
          -2.0183756351470947,
          -2.4669857025146484,
          -2.9155960083007812
         ]
        },
        {
         "line": {
          "color": "#AB63FA",
          "dash": "dashdot",
          "width": 4
         },
         "marker": {
          "line": {
           "width": 2
          },
          "size": 5
         },
         "mode": "lines",
         "name": "KIV",
         "type": "scatter",
         "x": [
          -3.903970956802368,
          -3.7304673194885254,
          -3.556964159011841,
          -3.383460521697998,
          -3.2099571228027344,
          -3.0364537239074707,
          -2.862950325012207,
          -2.6894466876983643,
          -2.5159430503845215,
          -2.342439889907837,
          -2.168936252593994,
          -1.995432734489441,
          -1.8219294548034668,
          -1.6484259366989136,
          -1.4749224185943604,
          -1.3014190196990967,
          -1.1279155015945435,
          -0.9544121026992798,
          -0.7809085845947266,
          -0.6074051856994629,
          -0.4339016377925873,
          -0.26039817929267883,
          -0.08689479529857635,
          0.0866086483001709,
          0.2601121664047241,
          0.43361565470695496,
          0.6071191430091858,
          0.7806224822998047,
          0.9541260004043579,
          1.1276295185089111
         ],
         "y": [
          0.11412338170043726,
          0.1041955269853372,
          0.09384693423534334,
          0.08428160406820229,
          0.07716635963583134,
          0.07454299722791655,
          0.0786313687775307,
          0.09152496842978403,
          0.1148091682875024,
          0.14915577477087152,
          0.1939745763553451,
          0.24720295475886944,
          0.30531074235831873,
          0.36356188148030977,
          0.41652681851725554,
          0.45878826447108234,
          0.4857290145620497,
          0.4942603050246402,
          0.4833475621043419,
          0.45421688043703246,
          0.4101900015462754,
          0.3561682638509786,
          0.29786452239906797,
          0.2409338911403322,
          0.1901772961868695,
          0.14896329458099147,
          0.11895946750869803,
          0.10018896498150152,
          0.09135420962139676,
          0.09031976873677505
         ]
        },
        {
         "line": {
          "color": "#FFA15A",
          "width": 4
         },
         "marker": {
          "color": "#FFA15A",
          "line": {
           "color": "#FFA15A",
           "width": 2
          },
          "size": 5
         },
         "name": "GB lower",
         "type": "scatter",
         "x": [
          -0.9612436890602112,
          -0.4878294765949249,
          -0.014415264129638672,
          0.45899897813796997,
          0.9324131608009338
         ],
         "y": [
          -1.789427638053894,
          -1.0569634437561035,
          -0.6380137205123901,
          -0.6502094864845276,
          -1.0463337898254395
         ]
        },
        {
         "line": {
          "color": "#19D3F3",
          "width": 4
         },
         "marker": {
          "color": "#19D3F3",
          "line": {
           "color": "#19D3F3",
           "width": 2
          },
          "size": 5
         },
         "name": "GB upper",
         "type": "scatter",
         "x": [
          -0.9612436890602112,
          -0.4878294765949249,
          -0.014415264129638672,
          0.45899897813796997,
          0.9324131608009338
         ],
         "y": [
          1.770573616027832,
          0.9167372584342957,
          0.27614039182662964,
          0.12515579164028168,
          0.2946747839450836
         ]
        }
       ],
       "layout": {
        "font": {
         "family": "serif",
         "size": 32
        },
        "height": 450,
        "margin": {
         "b": 0,
         "l": 0,
         "r": 0,
         "t": 0
        },
        "plot_bgcolor": "rgba(0, 0, 0, 0)",
        "showlegend": false,
        "template": {
         "data": {
          "bar": [
           {
            "error_x": {
             "color": "#2a3f5f"
            },
            "error_y": {
             "color": "#2a3f5f"
            },
            "marker": {
             "line": {
              "color": "#E5ECF6",
              "width": 0.5
             },
             "pattern": {
              "fillmode": "overlay",
              "size": 10,
              "solidity": 0.2
             }
            },
            "type": "bar"
           }
          ],
          "barpolar": [
           {
            "marker": {
             "line": {
              "color": "#E5ECF6",
              "width": 0.5
             },
             "pattern": {
              "fillmode": "overlay",
              "size": 10,
              "solidity": 0.2
             }
            },
            "type": "barpolar"
           }
          ],
          "carpet": [
           {
            "aaxis": {
             "endlinecolor": "#2a3f5f",
             "gridcolor": "white",
             "linecolor": "white",
             "minorgridcolor": "white",
             "startlinecolor": "#2a3f5f"
            },
            "baxis": {
             "endlinecolor": "#2a3f5f",
             "gridcolor": "white",
             "linecolor": "white",
             "minorgridcolor": "white",
             "startlinecolor": "#2a3f5f"
            },
            "type": "carpet"
           }
          ],
          "choropleth": [
           {
            "colorbar": {
             "outlinewidth": 0,
             "ticks": ""
            },
            "type": "choropleth"
           }
          ],
          "contour": [
           {
            "colorbar": {
             "outlinewidth": 0,
             "ticks": ""
            },
            "colorscale": [
             [
              0,
              "#0d0887"
             ],
             [
              0.1111111111111111,
              "#46039f"
             ],
             [
              0.2222222222222222,
              "#7201a8"
             ],
             [
              0.3333333333333333,
              "#9c179e"
             ],
             [
              0.4444444444444444,
              "#bd3786"
             ],
             [
              0.5555555555555556,
              "#d8576b"
             ],
             [
              0.6666666666666666,
              "#ed7953"
             ],
             [
              0.7777777777777778,
              "#fb9f3a"
             ],
             [
              0.8888888888888888,
              "#fdca26"
             ],
             [
              1,
              "#f0f921"
             ]
            ],
            "type": "contour"
           }
          ],
          "contourcarpet": [
           {
            "colorbar": {
             "outlinewidth": 0,
             "ticks": ""
            },
            "type": "contourcarpet"
           }
          ],
          "heatmap": [
           {
            "colorbar": {
             "outlinewidth": 0,
             "ticks": ""
            },
            "colorscale": [
             [
              0,
              "#0d0887"
             ],
             [
              0.1111111111111111,
              "#46039f"
             ],
             [
              0.2222222222222222,
              "#7201a8"
             ],
             [
              0.3333333333333333,
              "#9c179e"
             ],
             [
              0.4444444444444444,
              "#bd3786"
             ],
             [
              0.5555555555555556,
              "#d8576b"
             ],
             [
              0.6666666666666666,
              "#ed7953"
             ],
             [
              0.7777777777777778,
              "#fb9f3a"
             ],
             [
              0.8888888888888888,
              "#fdca26"
             ],
             [
              1,
              "#f0f921"
             ]
            ],
            "type": "heatmap"
           }
          ],
          "heatmapgl": [
           {
            "colorbar": {
             "outlinewidth": 0,
             "ticks": ""
            },
            "colorscale": [
             [
              0,
              "#0d0887"
             ],
             [
              0.1111111111111111,
              "#46039f"
             ],
             [
              0.2222222222222222,
              "#7201a8"
             ],
             [
              0.3333333333333333,
              "#9c179e"
             ],
             [
              0.4444444444444444,
              "#bd3786"
             ],
             [
              0.5555555555555556,
              "#d8576b"
             ],
             [
              0.6666666666666666,
              "#ed7953"
             ],
             [
              0.7777777777777778,
              "#fb9f3a"
             ],
             [
              0.8888888888888888,
              "#fdca26"
             ],
             [
              1,
              "#f0f921"
             ]
            ],
            "type": "heatmapgl"
           }
          ],
          "histogram": [
           {
            "marker": {
             "pattern": {
              "fillmode": "overlay",
              "size": 10,
              "solidity": 0.2
             }
            },
            "type": "histogram"
           }
          ],
          "histogram2d": [
           {
            "colorbar": {
             "outlinewidth": 0,
             "ticks": ""
            },
            "colorscale": [
             [
              0,
              "#0d0887"
             ],
             [
              0.1111111111111111,
              "#46039f"
             ],
             [
              0.2222222222222222,
              "#7201a8"
             ],
             [
              0.3333333333333333,
              "#9c179e"
             ],
             [
              0.4444444444444444,
              "#bd3786"
             ],
             [
              0.5555555555555556,
              "#d8576b"
             ],
             [
              0.6666666666666666,
              "#ed7953"
             ],
             [
              0.7777777777777778,
              "#fb9f3a"
             ],
             [
              0.8888888888888888,
              "#fdca26"
             ],
             [
              1,
              "#f0f921"
             ]
            ],
            "type": "histogram2d"
           }
          ],
          "histogram2dcontour": [
           {
            "colorbar": {
             "outlinewidth": 0,
             "ticks": ""
            },
            "colorscale": [
             [
              0,
              "#0d0887"
             ],
             [
              0.1111111111111111,
              "#46039f"
             ],
             [
              0.2222222222222222,
              "#7201a8"
             ],
             [
              0.3333333333333333,
              "#9c179e"
             ],
             [
              0.4444444444444444,
              "#bd3786"
             ],
             [
              0.5555555555555556,
              "#d8576b"
             ],
             [
              0.6666666666666666,
              "#ed7953"
             ],
             [
              0.7777777777777778,
              "#fb9f3a"
             ],
             [
              0.8888888888888888,
              "#fdca26"
             ],
             [
              1,
              "#f0f921"
             ]
            ],
            "type": "histogram2dcontour"
           }
          ],
          "mesh3d": [
           {
            "colorbar": {
             "outlinewidth": 0,
             "ticks": ""
            },
            "type": "mesh3d"
           }
          ],
          "parcoords": [
           {
            "line": {
             "colorbar": {
              "outlinewidth": 0,
              "ticks": ""
             }
            },
            "type": "parcoords"
           }
          ],
          "pie": [
           {
            "automargin": true,
            "type": "pie"
           }
          ],
          "scatter": [
           {
            "fillpattern": {
             "fillmode": "overlay",
             "size": 10,
             "solidity": 0.2
            },
            "type": "scatter"
           }
          ],
          "scatter3d": [
           {
            "line": {
             "colorbar": {
              "outlinewidth": 0,
              "ticks": ""
             }
            },
            "marker": {
             "colorbar": {
              "outlinewidth": 0,
              "ticks": ""
             }
            },
            "type": "scatter3d"
           }
          ],
          "scattercarpet": [
           {
            "marker": {
             "colorbar": {
              "outlinewidth": 0,
              "ticks": ""
             }
            },
            "type": "scattercarpet"
           }
          ],
          "scattergeo": [
           {
            "marker": {
             "colorbar": {
              "outlinewidth": 0,
              "ticks": ""
             }
            },
            "type": "scattergeo"
           }
          ],
          "scattergl": [
           {
            "marker": {
             "colorbar": {
              "outlinewidth": 0,
              "ticks": ""
             }
            },
            "type": "scattergl"
           }
          ],
          "scattermapbox": [
           {
            "marker": {
             "colorbar": {
              "outlinewidth": 0,
              "ticks": ""
             }
            },
            "type": "scattermapbox"
           }
          ],
          "scatterpolar": [
           {
            "marker": {
             "colorbar": {
              "outlinewidth": 0,
              "ticks": ""
             }
            },
            "type": "scatterpolar"
           }
          ],
          "scatterpolargl": [
           {
            "marker": {
             "colorbar": {
              "outlinewidth": 0,
              "ticks": ""
             }
            },
            "type": "scatterpolargl"
           }
          ],
          "scatterternary": [
           {
            "marker": {
             "colorbar": {
              "outlinewidth": 0,
              "ticks": ""
             }
            },
            "type": "scatterternary"
           }
          ],
          "surface": [
           {
            "colorbar": {
             "outlinewidth": 0,
             "ticks": ""
            },
            "colorscale": [
             [
              0,
              "#0d0887"
             ],
             [
              0.1111111111111111,
              "#46039f"
             ],
             [
              0.2222222222222222,
              "#7201a8"
             ],
             [
              0.3333333333333333,
              "#9c179e"
             ],
             [
              0.4444444444444444,
              "#bd3786"
             ],
             [
              0.5555555555555556,
              "#d8576b"
             ],
             [
              0.6666666666666666,
              "#ed7953"
             ],
             [
              0.7777777777777778,
              "#fb9f3a"
             ],
             [
              0.8888888888888888,
              "#fdca26"
             ],
             [
              1,
              "#f0f921"
             ]
            ],
            "type": "surface"
           }
          ],
          "table": [
           {
            "cells": {
             "fill": {
              "color": "#EBF0F8"
             },
             "line": {
              "color": "white"
             }
            },
            "header": {
             "fill": {
              "color": "#C8D4E3"
             },
             "line": {
              "color": "white"
             }
            },
            "type": "table"
           }
          ]
         },
         "layout": {
          "annotationdefaults": {
           "arrowcolor": "#2a3f5f",
           "arrowhead": 0,
           "arrowwidth": 1
          },
          "autotypenumbers": "strict",
          "coloraxis": {
           "colorbar": {
            "outlinewidth": 0,
            "ticks": ""
           }
          },
          "colorscale": {
           "diverging": [
            [
             0,
             "#8e0152"
            ],
            [
             0.1,
             "#c51b7d"
            ],
            [
             0.2,
             "#de77ae"
            ],
            [
             0.3,
             "#f1b6da"
            ],
            [
             0.4,
             "#fde0ef"
            ],
            [
             0.5,
             "#f7f7f7"
            ],
            [
             0.6,
             "#e6f5d0"
            ],
            [
             0.7,
             "#b8e186"
            ],
            [
             0.8,
             "#7fbc41"
            ],
            [
             0.9,
             "#4d9221"
            ],
            [
             1,
             "#276419"
            ]
           ],
           "sequential": [
            [
             0,
             "#0d0887"
            ],
            [
             0.1111111111111111,
             "#46039f"
            ],
            [
             0.2222222222222222,
             "#7201a8"
            ],
            [
             0.3333333333333333,
             "#9c179e"
            ],
            [
             0.4444444444444444,
             "#bd3786"
            ],
            [
             0.5555555555555556,
             "#d8576b"
            ],
            [
             0.6666666666666666,
             "#ed7953"
            ],
            [
             0.7777777777777778,
             "#fb9f3a"
            ],
            [
             0.8888888888888888,
             "#fdca26"
            ],
            [
             1,
             "#f0f921"
            ]
           ],
           "sequentialminus": [
            [
             0,
             "#0d0887"
            ],
            [
             0.1111111111111111,
             "#46039f"
            ],
            [
             0.2222222222222222,
             "#7201a8"
            ],
            [
             0.3333333333333333,
             "#9c179e"
            ],
            [
             0.4444444444444444,
             "#bd3786"
            ],
            [
             0.5555555555555556,
             "#d8576b"
            ],
            [
             0.6666666666666666,
             "#ed7953"
            ],
            [
             0.7777777777777778,
             "#fb9f3a"
            ],
            [
             0.8888888888888888,
             "#fdca26"
            ],
            [
             1,
             "#f0f921"
            ]
           ]
          },
          "colorway": [
           "#636efa",
           "#EF553B",
           "#00cc96",
           "#ab63fa",
           "#FFA15A",
           "#19d3f3",
           "#FF6692",
           "#B6E880",
           "#FF97FF",
           "#FECB52"
          ],
          "font": {
           "color": "#2a3f5f"
          },
          "geo": {
           "bgcolor": "white",
           "lakecolor": "white",
           "landcolor": "#E5ECF6",
           "showlakes": true,
           "showland": true,
           "subunitcolor": "white"
          },
          "hoverlabel": {
           "align": "left"
          },
          "hovermode": "closest",
          "mapbox": {
           "style": "light"
          },
          "paper_bgcolor": "white",
          "plot_bgcolor": "#E5ECF6",
          "polar": {
           "angularaxis": {
            "gridcolor": "white",
            "linecolor": "white",
            "ticks": ""
           },
           "bgcolor": "#E5ECF6",
           "radialaxis": {
            "gridcolor": "white",
            "linecolor": "white",
            "ticks": ""
           }
          },
          "scene": {
           "xaxis": {
            "backgroundcolor": "#E5ECF6",
            "gridcolor": "white",
            "gridwidth": 2,
            "linecolor": "white",
            "showbackground": true,
            "ticks": "",
            "zerolinecolor": "white"
           },
           "yaxis": {
            "backgroundcolor": "#E5ECF6",
            "gridcolor": "white",
            "gridwidth": 2,
            "linecolor": "white",
            "showbackground": true,
            "ticks": "",
            "zerolinecolor": "white"
           },
           "zaxis": {
            "backgroundcolor": "#E5ECF6",
            "gridcolor": "white",
            "gridwidth": 2,
            "linecolor": "white",
            "showbackground": true,
            "ticks": "",
            "zerolinecolor": "white"
           }
          },
          "shapedefaults": {
           "line": {
            "color": "#2a3f5f"
           }
          },
          "ternary": {
           "aaxis": {
            "gridcolor": "white",
            "linecolor": "white",
            "ticks": ""
           },
           "baxis": {
            "gridcolor": "white",
            "linecolor": "white",
            "ticks": ""
           },
           "bgcolor": "#E5ECF6",
           "caxis": {
            "gridcolor": "white",
            "linecolor": "white",
            "ticks": ""
           }
          },
          "title": {
           "x": 0.05
          },
          "xaxis": {
           "automargin": true,
           "gridcolor": "white",
           "linecolor": "white",
           "ticks": "",
           "title": {
            "standoff": 15
           },
           "zerolinecolor": "white",
           "zerolinewidth": 2
          },
          "yaxis": {
           "automargin": true,
           "gridcolor": "white",
           "linecolor": "white",
           "ticks": "",
           "title": {
            "standoff": 15
           },
           "zerolinecolor": "white",
           "zerolinewidth": 2
          }
         }
        },
        "width": 1000,
        "xaxis": {
         "linecolor": "black",
         "linewidth": 2,
         "range": [
          -2.2,
          2.2
         ],
         "showline": true,
         "title": {
          "text": "Diversity (standardized)"
         },
         "type": "linear"
        },
        "yaxis": {
         "linecolor": "black",
         "linewidth": 2,
         "range": [
          -2.2,
          2.2
         ],
         "showline": true,
         "title": {
          "text": "Weight (standardized)"
         },
         "type": "linear"
        }
       }
      },
      "image/png": "[encoded data removed]",
      "text/html": [
       "<div>                            <div id=\"c4f925ed-cc5f-40eb-b929-1a1e3b15567b\" class=\"plotly-graph-div\" style=\"height:450px; width:1000px;\"></div>            <script type=\"text/javascript\">                require([\"plotly\"], function(Plotly) {                    window.PLOTLYENV=window.PLOTLYENV || {};                                    if (document.getElementById(\"c4f925ed-cc5f-40eb-b929-1a1e3b15567b\")) {                    Plotly.newPlot(                        \"c4f925ed-cc5f-40eb-b929-1a1e3b15567b\",                        [{\"marker\":{\"color\":\"black\",\"symbol\":\"x-thin\",\"line\":{\"width\":2},\"size\":5},\"mode\":\"markers\",\"name\":\"Data\",\"x\":[0.5840477351363734,1.019315769988293,-0.9078454609894977,0.6598621680808895,-0.24880697478229216,-0.015770578025853386,-1.9635781755983257,1.0008423799035595,-0.3197042607432952,-0.3806514760662581,0.5067464876332599,0.257839979379733,-0.27572222437453675,0.6752359613854344,-0.22625685369853638,0.28127367907074174,0.5217286148059614,-1.6443812830588567,0.8941420208544295,0.2240210624093101,0.2467790048156336,-0.02148993431819044,-0.5193678262130165,-0.07266481067697798,0.36261988842491766,0.4908882047326824,0.46634273005717214,0.8423424745057139,-1.547858320920752,0.9911580672265039,0.6767389112043183,0.20971399942985075,0.47995004882016673,0.6244977135845005,0.9248191587356747,0.04855086134172117,-0.17731479142015005,-3.6110267824384112,-0.9033801841314006,-0.5954313339137307,-3.9039710439596194,-0.6094576895936494,-0.3616585628866034,0.5094207776513621,0.9113061876752947,1.0123169306715025,1.127629509660693,0.9438042313446496,0.22950623057369224,0.2372857556746325,0.16500782480540963,0.6239037791460825,0.1359163044586806,-0.14576433187239995,0.686021654427449,-1.041341085064116,-0.07813212286985319],\"y\":[0.7205298751600169,1.150906252688231,0.1671888183380292,-0.6935639367183977,0.44385934674902305,0.9357180639241245,-0.10948171007296573,0.5360828562193547,0.04422413904425332,0.2286711579849166,-1.1546814840700548,0.41311817692557884,0.5668240260427979,1.027941573394455,-0.10948171007296573,0.25941232780835977,1.3353532716288932,0.9972004035710119,-1.8617283900092627,-1.9846930693030376,-0.10948171007296573,-1.6465402012451562,-1.6465402012451562,-0.5705992574246229,-2.5072929563015833,-0.9702344651293926,-1.9846930693030376,-0.1402228798964089,0.44385934674902305,-1.7080225408920435,0.07496530886769756,-0.41689340830740385,-0.23244638936674053,0.6283063656896863,-0.07874054024952148,0.6283063656896863,0.9972004035710119,0.6283063656896863,0.6897887053365738,0.3823770071021357,1.1201650828647867,1.2123885923351183,1.3968356112757816,-0.878010955659061,0.32089466745524825,0.9664592337475676,0.8127533846303485,0.8434945544537928,0.7205298751600169,0.874235724277236,0.5360828562193547,1.0586827432178993,-1.7387637107154879,-0.4783757479542912,-0.7243051065418419,-1.2776461633638307,-0.1402228798964089],\"type\":\"scatter\",\"line\":{\"width\":4}},{\"line\":{\"color\":\"#EF553B\",\"dash\":\"dot\",\"width\":4},\"mode\":\"lines\",\"name\":\"OLS\",\"x\":[-3.903970956802368,-3.7304673194885254,-3.556964159011841,-3.383460521697998,-3.2099571228027344,-3.0364537239074707,-2.862950325012207,-2.6894466876983643,-2.5159430503845215,-2.342439889907837,-2.168936252593994,-1.995432734489441,-1.8219294548034668,-1.6484259366989136,-1.4749224185943604,-1.3014190196990967,-1.1279155015945435,-0.9544121026992798,-0.7809085845947266,-0.6074051856994629,-0.4339016377925873,-0.26039817929267883,-0.08689479529857635,0.0866086483001709,0.2601121664047241,0.43361565470695496,0.6071191430091858,0.7806224822998047,0.9541260004043579,1.1276295185089111],\"y\":[0.6738439202308655,0.6438964009284973,0.6139489412307739,0.584001362323761,0.5540538430213928,0.5241063237190247,0.4941588342189789,0.46421128511428833,0.4342637360095978,0.4043162763118744,0.37436869740486145,0.3444211781024933,0.3144736886024475,0.28452613949775696,0.2545786201953888,0.22463111579418182,0.19468358159065247,0.1647360622882843,0.13478852808475494,0.10484102368354797,0.07489348202943802,0.044945962727069855,0.014998454600572586,-0.014949064701795578,-0.04489659518003464,-0.0748441219329834,-0.10479164868593216,-0.13473914563655853,-0.1646866798400879,-0.19463421404361725],\"type\":\"scatter\",\"marker\":{\"line\":{\"width\":2},\"size\":5}},{\"line\":{\"color\":\"#00CC96\",\"dash\":\"dash\",\"width\":4},\"mode\":\"lines\",\"name\":\"2SLS\",\"x\":[-3.903970956802368,-3.7304673194885254,-3.556964159011841,-3.383460521697998,-3.2099571228027344,-3.0364537239074707,-2.862950325012207,-2.6894466876983643,-2.5159430503845215,-2.342439889907837,-2.168936252593994,-1.995432734489441,-1.8219294548034668,-1.6484259366989136,-1.4749224185943604,-1.3014190196990967,-1.1279155015945435,-0.9544121026992798,-0.7809085845947266,-0.6074051856994629,-0.4339016377925873,-0.26039817929267883,-0.08689479529857635,0.0866086483001709,0.2601121664047241,0.43361565470695496,0.6071191430091858,0.7806224822998047,0.9541260004043579,1.1276295185089111],\"y\":[10.094097137451172,9.645486831665039,9.196877479553223,8.74826717376709,8.299656867980957,7.851047039031982,7.402437210083008,6.953826904296875,6.505216121673584,6.056606769561768,5.607995986938477,5.159386157989502,4.710776329040527,4.2621660232543945,3.8135557174682617,3.364945888519287,2.9163355827331543,2.4677255153656006,2.0191152095794678,1.5705053806304932,1.1218949556350708,0.6732848882675171,0.22467496991157532,-0.2239351123571396,-0.6725453734397888,-1.1211555004119873,-1.5697658061981201,-2.0183756351470947,-2.4669857025146484,-2.9155960083007812],\"type\":\"scatter\",\"marker\":{\"line\":{\"width\":2},\"size\":5}},{\"line\":{\"color\":\"#AB63FA\",\"dash\":\"dashdot\",\"width\":4},\"mode\":\"lines\",\"name\":\"KIV\",\"x\":[-3.903970956802368,-3.7304673194885254,-3.556964159011841,-3.383460521697998,-3.2099571228027344,-3.0364537239074707,-2.862950325012207,-2.6894466876983643,-2.5159430503845215,-2.342439889907837,-2.168936252593994,-1.995432734489441,-1.8219294548034668,-1.6484259366989136,-1.4749224185943604,-1.3014190196990967,-1.1279155015945435,-0.9544121026992798,-0.7809085845947266,-0.6074051856994629,-0.4339016377925873,-0.26039817929267883,-0.08689479529857635,0.0866086483001709,0.2601121664047241,0.43361565470695496,0.6071191430091858,0.7806224822998047,0.9541260004043579,1.1276295185089111],\"y\":[0.11412338170043726,0.1041955269853372,0.09384693423534334,0.08428160406820229,0.07716635963583134,0.07454299722791655,0.0786313687775307,0.09152496842978403,0.1148091682875024,0.14915577477087152,0.1939745763553451,0.24720295475886944,0.30531074235831873,0.36356188148030977,0.41652681851725554,0.45878826447108234,0.4857290145620497,0.4942603050246402,0.4833475621043419,0.45421688043703246,0.4101900015462754,0.3561682638509786,0.29786452239906797,0.2409338911403322,0.1901772961868695,0.14896329458099147,0.11895946750869803,0.10018896498150152,0.09135420962139676,0.09031976873677505],\"type\":\"scatter\",\"marker\":{\"line\":{\"width\":2},\"size\":5}},{\"line\":{\"color\":\"#FFA15A\",\"width\":4},\"marker\":{\"color\":\"#FFA15A\",\"line\":{\"color\":\"#FFA15A\",\"width\":2},\"size\":5},\"name\":\"GB lower\",\"x\":[-0.9612436890602112,-0.4878294765949249,-0.014415264129638672,0.45899897813796997,0.9324131608009338],\"y\":[-1.789427638053894,-1.0569634437561035,-0.6380137205123901,-0.6502094864845276,-1.0463337898254395],\"type\":\"scatter\"},{\"line\":{\"color\":\"#19D3F3\",\"width\":4},\"marker\":{\"color\":\"#19D3F3\",\"line\":{\"color\":\"#19D3F3\",\"width\":2},\"size\":5},\"name\":\"GB upper\",\"x\":[-0.9612436890602112,-0.4878294765949249,-0.014415264129638672,0.45899897813796997,0.9324131608009338],\"y\":[1.770573616027832,0.9167372584342957,0.27614039182662964,0.12515579164028168,0.2946747839450836],\"type\":\"scatter\"}],                        {\"template\":{\"data\":{\"histogram2dcontour\":[{\"type\":\"histogram2dcontour\",\"colorbar\":{\"outlinewidth\":0,\"ticks\":\"\"},\"colorscale\":[[0.0,\"#0d0887\"],[0.1111111111111111,\"#46039f\"],[0.2222222222222222,\"#7201a8\"],[0.3333333333333333,\"#9c179e\"],[0.4444444444444444,\"#bd3786\"],[0.5555555555555556,\"#d8576b\"],[0.6666666666666666,\"#ed7953\"],[0.7777777777777778,\"#fb9f3a\"],[0.8888888888888888,\"#fdca26\"],[1.0,\"#f0f921\"]]}],\"choropleth\":[{\"type\":\"choropleth\",\"colorbar\":{\"outlinewidth\":0,\"ticks\":\"\"}}],\"histogram2d\":[{\"type\":\"histogram2d\",\"colorbar\":{\"outlinewidth\":0,\"ticks\":\"\"},\"colorscale\":[[0.0,\"#0d0887\"],[0.1111111111111111,\"#46039f\"],[0.2222222222222222,\"#7201a8\"],[0.3333333333333333,\"#9c179e\"],[0.4444444444444444,\"#bd3786\"],[0.5555555555555556,\"#d8576b\"],[0.6666666666666666,\"#ed7953\"],[0.7777777777777778,\"#fb9f3a\"],[0.8888888888888888,\"#fdca26\"],[1.0,\"#f0f921\"]]}],\"heatmap\":[{\"type\":\"heatmap\",\"colorbar\":{\"outlinewidth\":0,\"ticks\":\"\"},\"colorscale\":[[0.0,\"#0d0887\"],[0.1111111111111111,\"#46039f\"],[0.2222222222222222,\"#7201a8\"],[0.3333333333333333,\"#9c179e\"],[0.4444444444444444,\"#bd3786\"],[0.5555555555555556,\"#d8576b\"],[0.6666666666666666,\"#ed7953\"],[0.7777777777777778,\"#fb9f3a\"],[0.8888888888888888,\"#fdca26\"],[1.0,\"#f0f921\"]]}],\"heatmapgl\":[{\"type\":\"heatmapgl\",\"colorbar\":{\"outlinewidth\":0,\"ticks\":\"\"},\"colorscale\":[[0.0,\"#0d0887\"],[0.1111111111111111,\"#46039f\"],[0.2222222222222222,\"#7201a8\"],[0.3333333333333333,\"#9c179e\"],[0.4444444444444444,\"#bd3786\"],[0.5555555555555556,\"#d8576b\"],[0.6666666666666666,\"#ed7953\"],[0.7777777777777778,\"#fb9f3a\"],[0.8888888888888888,\"#fdca26\"],[1.0,\"#f0f921\"]]}],\"contourcarpet\":[{\"type\":\"contourcarpet\",\"colorbar\":{\"outlinewidth\":0,\"ticks\":\"\"}}],\"contour\":[{\"type\":\"contour\",\"colorbar\":{\"outlinewidth\":0,\"ticks\":\"\"},\"colorscale\":[[0.0,\"#0d0887\"],[0.1111111111111111,\"#46039f\"],[0.2222222222222222,\"#7201a8\"],[0.3333333333333333,\"#9c179e\"],[0.4444444444444444,\"#bd3786\"],[0.5555555555555556,\"#d8576b\"],[0.6666666666666666,\"#ed7953\"],[0.7777777777777778,\"#fb9f3a\"],[0.8888888888888888,\"#fdca26\"],[1.0,\"#f0f921\"]]}],\"surface\":[{\"type\":\"surface\",\"colorbar\":{\"outlinewidth\":0,\"ticks\":\"\"},\"colorscale\":[[0.0,\"#0d0887\"],[0.1111111111111111,\"#46039f\"],[0.2222222222222222,\"#7201a8\"],[0.3333333333333333,\"#9c179e\"],[0.4444444444444444,\"#bd3786\"],[0.5555555555555556,\"#d8576b\"],[0.6666666666666666,\"#ed7953\"],[0.7777777777777778,\"#fb9f3a\"],[0.8888888888888888,\"#fdca26\"],[1.0,\"#f0f921\"]]}],\"mesh3d\":[{\"type\":\"mesh3d\",\"colorbar\":{\"outlinewidth\":0,\"ticks\":\"\"}}],\"scatter\":[{\"fillpattern\":{\"fillmode\":\"overlay\",\"size\":10,\"solidity\":0.2},\"type\":\"scatter\"}],\"parcoords\":[{\"type\":\"parcoords\",\"line\":{\"colorbar\":{\"outlinewidth\":0,\"ticks\":\"\"}}}],\"scatterpolargl\":[{\"type\":\"scatterpolargl\",\"marker\":{\"colorbar\":{\"outlinewidth\":0,\"ticks\":\"\"}}}],\"bar\":[{\"error_x\":{\"color\":\"#2a3f5f\"},\"error_y\":{\"color\":\"#2a3f5f\"},\"marker\":{\"line\":{\"color\":\"#E5ECF6\",\"width\":0.5},\"pattern\":{\"fillmode\":\"overlay\",\"size\":10,\"solidity\":0.2}},\"type\":\"bar\"}],\"scattergeo\":[{\"type\":\"scattergeo\",\"marker\":{\"colorbar\":{\"outlinewidth\":0,\"ticks\":\"\"}}}],\"scatterpolar\":[{\"type\":\"scatterpolar\",\"marker\":{\"colorbar\":{\"outlinewidth\":0,\"ticks\":\"\"}}}],\"histogram\":[{\"marker\":{\"pattern\":{\"fillmode\":\"overlay\",\"size\":10,\"solidity\":0.2}},\"type\":\"histogram\"}],\"scattergl\":[{\"type\":\"scattergl\",\"marker\":{\"colorbar\":{\"outlinewidth\":0,\"ticks\":\"\"}}}],\"scatter3d\":[{\"type\":\"scatter3d\",\"line\":{\"colorbar\":{\"outlinewidth\":0,\"ticks\":\"\"}},\"marker\":{\"colorbar\":{\"outlinewidth\":0,\"ticks\":\"\"}}}],\"scattermapbox\":[{\"type\":\"scattermapbox\",\"marker\":{\"colorbar\":{\"outlinewidth\":0,\"ticks\":\"\"}}}],\"scatterternary\":[{\"type\":\"scatterternary\",\"marker\":{\"colorbar\":{\"outlinewidth\":0,\"ticks\":\"\"}}}],\"scattercarpet\":[{\"type\":\"scattercarpet\",\"marker\":{\"colorbar\":{\"outlinewidth\":0,\"ticks\":\"\"}}}],\"carpet\":[{\"aaxis\":{\"endlinecolor\":\"#2a3f5f\",\"gridcolor\":\"white\",\"linecolor\":\"white\",\"minorgridcolor\":\"white\",\"startlinecolor\":\"#2a3f5f\"},\"baxis\":{\"endlinecolor\":\"#2a3f5f\",\"gridcolor\":\"white\",\"linecolor\":\"white\",\"minorgridcolor\":\"white\",\"startlinecolor\":\"#2a3f5f\"},\"type\":\"carpet\"}],\"table\":[{\"cells\":{\"fill\":{\"color\":\"#EBF0F8\"},\"line\":{\"color\":\"white\"}},\"header\":{\"fill\":{\"color\":\"#C8D4E3\"},\"line\":{\"color\":\"white\"}},\"type\":\"table\"}],\"barpolar\":[{\"marker\":{\"line\":{\"color\":\"#E5ECF6\",\"width\":0.5},\"pattern\":{\"fillmode\":\"overlay\",\"size\":10,\"solidity\":0.2}},\"type\":\"barpolar\"}],\"pie\":[{\"automargin\":true,\"type\":\"pie\"}]},\"layout\":{\"autotypenumbers\":\"strict\",\"colorway\":[\"#636efa\",\"#EF553B\",\"#00cc96\",\"#ab63fa\",\"#FFA15A\",\"#19d3f3\",\"#FF6692\",\"#B6E880\",\"#FF97FF\",\"#FECB52\"],\"font\":{\"color\":\"#2a3f5f\"},\"hovermode\":\"closest\",\"hoverlabel\":{\"align\":\"left\"},\"paper_bgcolor\":\"white\",\"plot_bgcolor\":\"#E5ECF6\",\"polar\":{\"bgcolor\":\"#E5ECF6\",\"angularaxis\":{\"gridcolor\":\"white\",\"linecolor\":\"white\",\"ticks\":\"\"},\"radialaxis\":{\"gridcolor\":\"white\",\"linecolor\":\"white\",\"ticks\":\"\"}},\"ternary\":{\"bgcolor\":\"#E5ECF6\",\"aaxis\":{\"gridcolor\":\"white\",\"linecolor\":\"white\",\"ticks\":\"\"},\"baxis\":{\"gridcolor\":\"white\",\"linecolor\":\"white\",\"ticks\":\"\"},\"caxis\":{\"gridcolor\":\"white\",\"linecolor\":\"white\",\"ticks\":\"\"}},\"coloraxis\":{\"colorbar\":{\"outlinewidth\":0,\"ticks\":\"\"}},\"colorscale\":{\"sequential\":[[0.0,\"#0d0887\"],[0.1111111111111111,\"#46039f\"],[0.2222222222222222,\"#7201a8\"],[0.3333333333333333,\"#9c179e\"],[0.4444444444444444,\"#bd3786\"],[0.5555555555555556,\"#d8576b\"],[0.6666666666666666,\"#ed7953\"],[0.7777777777777778,\"#fb9f3a\"],[0.8888888888888888,\"#fdca26\"],[1.0,\"#f0f921\"]],\"sequentialminus\":[[0.0,\"#0d0887\"],[0.1111111111111111,\"#46039f\"],[0.2222222222222222,\"#7201a8\"],[0.3333333333333333,\"#9c179e\"],[0.4444444444444444,\"#bd3786\"],[0.5555555555555556,\"#d8576b\"],[0.6666666666666666,\"#ed7953\"],[0.7777777777777778,\"#fb9f3a\"],[0.8888888888888888,\"#fdca26\"],[1.0,\"#f0f921\"]],\"diverging\":[[0,\"#8e0152\"],[0.1,\"#c51b7d\"],[0.2,\"#de77ae\"],[0.3,\"#f1b6da\"],[0.4,\"#fde0ef\"],[0.5,\"#f7f7f7\"],[0.6,\"#e6f5d0\"],[0.7,\"#b8e186\"],[0.8,\"#7fbc41\"],[0.9,\"#4d9221\"],[1,\"#276419\"]]},\"xaxis\":{\"gridcolor\":\"white\",\"linecolor\":\"white\",\"ticks\":\"\",\"title\":{\"standoff\":15},\"zerolinecolor\":\"white\",\"automargin\":true,\"zerolinewidth\":2},\"yaxis\":{\"gridcolor\":\"white\",\"linecolor\":\"white\",\"ticks\":\"\",\"title\":{\"standoff\":15},\"zerolinecolor\":\"white\",\"automargin\":true,\"zerolinewidth\":2},\"scene\":{\"xaxis\":{\"backgroundcolor\":\"#E5ECF6\",\"gridcolor\":\"white\",\"linecolor\":\"white\",\"showbackground\":true,\"ticks\":\"\",\"zerolinecolor\":\"white\",\"gridwidth\":2},\"yaxis\":{\"backgroundcolor\":\"#E5ECF6\",\"gridcolor\":\"white\",\"linecolor\":\"white\",\"showbackground\":true,\"ticks\":\"\",\"zerolinecolor\":\"white\",\"gridwidth\":2},\"zaxis\":{\"backgroundcolor\":\"#E5ECF6\",\"gridcolor\":\"white\",\"linecolor\":\"white\",\"showbackground\":true,\"ticks\":\"\",\"zerolinecolor\":\"white\",\"gridwidth\":2}},\"shapedefaults\":{\"line\":{\"color\":\"#2a3f5f\"}},\"annotationdefaults\":{\"arrowcolor\":\"#2a3f5f\",\"arrowhead\":0,\"arrowwidth\":1},\"geo\":{\"bgcolor\":\"white\",\"landcolor\":\"#E5ECF6\",\"subunitcolor\":\"white\",\"showland\":true,\"showlakes\":true,\"lakecolor\":\"white\"},\"title\":{\"x\":0.05},\"mapbox\":{\"style\":\"light\"}}},\"yaxis\":{\"title\":{\"text\":\"Weight (standardized)\"},\"linecolor\":\"black\",\"linewidth\":2,\"showline\":true,\"range\":[-2.2,2.2]},\"xaxis\":{\"title\":{\"text\":\"Diversity (standardized)\"},\"linecolor\":\"black\",\"linewidth\":2,\"showline\":true,\"range\":[-2.2,2.2]},\"font\":{\"family\":\"serif\",\"size\":32},\"margin\":{\"b\":0,\"l\":0,\"r\":0,\"t\":0},\"plot_bgcolor\":\"rgba(0,0,0,0)\",\"width\":1000,\"height\":450,\"showlegend\":false},                        {\"responsive\": true}                    ).then(function(){\n",
       "                            \n",
       "var gd = document.getElementById('c4f925ed-cc5f-40eb-b929-1a1e3b15567b');\n",
       "var x = new MutationObserver(function (mutations, observer) {{\n",
       "        var display = window.getComputedStyle(gd).display;\n",
       "        if (!display || display === 'none') {{\n",
       "            console.log([gd, 'removed!']);\n",
       "            Plotly.purge(gd);\n",
       "            observer.disconnect();\n",
       "        }}\n",
       "}});\n",
       "\n",
       "// Listen for the removal of the full notebook cells\n",
       "var notebookContainer = gd.closest('#notebook-container');\n",
       "if (notebookContainer) {{\n",
       "    x.observe(notebookContainer, {childList: true});\n",
       "}}\n",
       "\n",
       "// Listen for the clearing of the current output cell\n",
       "var outputEl = gd.closest('.output');\n",
       "if (outputEl) {{\n",
       "    x.observe(outputEl, {childList: true});\n",
       "}}\n",
       "\n",
       "                        })                };                });            </script>        </div>"
      ]
     },
     "metadata": {},
     "output_type": "display_data"
    }
   ],
   "source": [
    "# Simpson\n",
    "\n",
    "plot = res[\"simpson\"]\n",
    "fig = plot_diversity_methods(plot[\"x\"], plot[\"y\"], plot[\"xstar\"], plot[\"xstar_bound\"], plot[\"ystar_ols\"], \n",
    "                             plot[\"ystar_2sls\"], plot[\"ystar_kiv\"], plot[\"results\"])\n",
    "fig.update_xaxes(range=[-2.2, 2.2])\n",
    "fig.update_yaxes(range=[-2.2, 2.2])\n",
    "fig.update_layout(width=1000, height=450, showlegend=False)\n",
    "fig.write_image(os.path.join(save_path, agg_level + \"_\" + filter + \"_simpson.pdf\"))\n",
    "fig.show()"
   ]
  },
  {
   "cell_type": "code",
   "execution_count": null,
   "metadata": {},
   "outputs": [],
   "source": []
  }
 ],
 "metadata": {
  "kernelspec": {
   "display_name": "Python 3 (ipykernel)",
   "language": "python",
   "name": "python3"
  },
  "language_info": {
   "codemirror_mode": {
    "name": "ipython",
    "version": 3
   },
   "file_extension": ".py",
   "mimetype": "text/x-python",
   "name": "python",
   "nbconvert_exporter": "python",
   "pygments_lexer": "ipython3",
   "version": "3.9.18"
  },
  "toc": {
   "base_numbering": 1,
   "nav_menu": {
    "height": "310.733px",
    "width": "376.6px"
   },
   "number_sections": true,
   "sideBar": true,
   "skip_h1_title": false,
   "title_cell": "Table of Contents",
   "title_sidebar": "Contents",
   "toc_cell": false,
   "toc_position": {},
   "toc_section_display": true,
   "toc_window_display": false
  }
 },
 "nbformat": 4,
 "nbformat_minor": 4
}
