{
 "cells": [
  {
   "cell_type": "markdown",
   "metadata": {},
   "source": [
    "# Real Data Experiments - Tree Visualization"
   ]
  },
  {
   "cell_type": "markdown",
   "metadata": {},
   "source": [
    "## Import Statements"
   ]
  },
  {
   "cell_type": "code",
   "execution_count": 12,
   "metadata": {},
   "outputs": [],
   "source": [
    "import os\n",
    "import sys\n",
    "sys.path.append(os.path.join(os.getcwd(), \"../src\"))\n",
    "\n",
    "import pandas as pd\n",
    "import numpy as np\n",
    "import skbio.stats.composition as cmp\n",
    "import plotly.express as px\n",
    "import matplotlib.pyplot as plt\n",
    "import pandas as pd\n",
    "import statsmodels.api as sm\n",
    "\n",
    "import dirichlet\n",
    "from classo import classo_problem\n",
    "\n",
    "from method_fct import LinearInstrumentModel\n",
    "from utils_real import *\n",
    "import ibis_util_functions as util\n",
    "import toyplot\n",
    "import toyplot.pdf, toyplot.png\n",
    "from visualization import draw_tree"
   ]
  },
  {
   "cell_type": "code",
   "execution_count": 13,
   "metadata": {},
   "outputs": [
    {
     "name": "stdout",
     "output_type": "stream",
     "text": [
      "The autoreload extension is already loaded. To reload it, use:\n",
      "  %reload_ext autoreload\n"
     ]
    }
   ],
   "source": [
    "%load_ext autoreload\n",
    "%autoreload 2"
   ]
  },
  {
   "cell_type": "markdown",
   "metadata": {},
   "source": [
    "## Load in Data"
   ]
  },
  {
   "cell_type": "markdown",
   "metadata": {},
   "source": [
    "Different aggregation levels:\n",
    "- Pylum\n",
    "- Class\n",
    "- Order\n",
    "- Family\n",
    "- Genus\n",
    "- Species"
   ]
  },
  {
   "cell_type": "markdown",
   "metadata": {},
   "source": [
    "\n",
    "## Preprocess the Data"
   ]
  },
  {
   "cell_type": "code",
   "execution_count": 14,
   "metadata": {},
   "outputs": [],
   "source": [
    "agg_level = \"Genus\"\n",
    "\n",
    "\n",
    "tax_levels = [\"Kingdom\", \"Phylum\", \"Class\", \"Order\", \"Family\", \"Genus\"]\n",
    "input_path = \"/Users/elisabeth.ailer/Projects/P1_Microbiom/Code/input/data/orgData_Day21_\"+agg_level+\"_231228.csv\"\n",
    "save_path = \"/Users/elisabeth.ailer/Projects/P1_Microbiom/Code/Figures/RealData\""
   ]
  },
  {
   "cell_type": "code",
   "execution_count": 15,
   "metadata": {},
   "outputs": [],
   "source": [
    "# load real data on different aggregation levels\n",
    "\n",
    "data = pd.read_csv(input_path, index_col=0)\n",
    "\n",
    "Y = data.iloc[-1, :].values\n",
    "X_count = data[data.sum(axis=1)!=0].iloc[:-1, :].T.values\n",
    "\n",
    "X_count = add_pseudo_count(X_count)\n",
    "n, p = X_count.shape\n",
    "num_inst = 1  # number of instruments, here only 1\n",
    "X = np.array([X_count[i, :]/X_count[i, :].sum() for i in range(n)])\n",
    "Z = np.array([data.columns.values[i].find(\"control\") for i in range(n)])*(-1)\n",
    "\n",
    "bac_names = list(data[data.sum(axis=1)!=0].iloc[:-1, :].index)"
   ]
  },
  {
   "cell_type": "markdown",
   "metadata": {},
   "source": [
    "## Results of `Biostats_RealData_Analysis`"
   ]
  },
  {
   "cell_type": "code",
   "execution_count": 16,
   "metadata": {},
   "outputs": [],
   "source": [
    "# put results here\n",
    "\n",
    "def intersection(lst1, lst2):\n",
    "    return list(set(lst1) & set(lst2))\n",
    " \n",
    "if agg_level==\"Phylum\":\n",
    "    bac_onestage = [\"Proteobacteria\", \"Bacteroidetes\", \"Actinobacteria\"]\n",
    "    bac_twostage = [\"Proteobacteria\", \"Bacteroidetes\"]\n",
    "    bac_dirlc = [\"Proteobacteria\", \"Cyanobacteria\", \"Bacteroidetes\"]  # be aware that the direction is different than the two stage method\n",
    "    \n",
    "if agg_level==\"Class\":\n",
    "    bac_onestage = [\"Gammaproteobacteria\", \"Actinobacteria\"]\n",
    "    bac_twostage = [\"Bacteroidia\", \"Bacilli\"]\n",
    "    bac_dirlc = [\"Chloroplast\", \"Verrucomicrobiae\", \"Bacilli\"]\n",
    "\n",
    "if agg_level==\"Order\":\n",
    "    bac_onestage = [\"Enterobacteriales\", \"RF39\"]\n",
    "    bac_twostage = [\"Lactobacillales\", \"Bacteroidales\"]\n",
    "    bac_dirlc = [\"Xanthomonadales\", \"Pseudomonadales\"]\n",
    "    \n",
    "if agg_level==\"Family\":\n",
    "    bac_onestage = [\"Enterobacteriaceae\", \"Lactobacillaceae\", \"Peptococcaceae\", \"Clostridiaceae\"]\n",
    "    bac_twostage = [\"S24-7\", \"Enterococcaceae\"]\n",
    "    bac_dirlc = [\"Burkholderiaceae\", \"Erysipelotrichaceae\", \"Turicibacteraceae\"]\n",
    "    \n",
    "if agg_level==\"Genus\":\n",
    "    bac_onestage = [\"Ent.|unclassified\", \"Lactobacillus\"]\n",
    "    bac_twostage = [\"Blautia\", \"Anaerostipes\"]\n",
    "    bac_dirlc = [\"Clostridium\", \"Candidatus Arthromitus\", \"Geobacillus\"]\n",
    "\n",
    "bac_agreed = intersection(bac_onestage, bac_twostage)"
   ]
  },
  {
   "cell_type": "code",
   "execution_count": 17,
   "metadata": {},
   "outputs": [],
   "source": [
    "# setup input for visualization\n",
    "node_df = util.get_phylo_levels(pd.DataFrame(data=bac_names, columns=[\"Cell Type\"]), agg_level)\n",
    "node_df.index = bac_names\n",
    "node_df.loc[(node_df[\"Family\"] == \"Enterobacteriaceae\")&(node_df[\"Genus\"]==\"\"), \"Genus\"]=\"Ent.|unclassified\"\n",
    "node_df[\"Final Parameter\"] = \"lightgray\"\n",
    "node_df.loc[node_df[agg_level].isin(bac_onestage), \"Final Parameter\"]= \"blue\"\n",
    "node_df.loc[node_df[agg_level].isin(bac_twostage), \"Final Parameter\"]= \"orange\"\n",
    "node_df.loc[node_df[agg_level].isin(bac_agreed), \"Final Parameter\"]= \"black\"\n",
    "node_df[agg_level].replace('', np.nan, inplace=True)\n",
    "node_df.dropna(subset=[agg_level], inplace=True)\n",
    "#node_df = node_df.iloc[: -3, :]\n",
    "node_df[\"Cell Type\"] = node_df.index"
   ]
  },
  {
   "cell_type": "markdown",
   "metadata": {},
   "source": [
    "## Visualization of Microbiome Data and Results"
   ]
  },
  {
   "cell_type": "code",
   "execution_count": 18,
   "metadata": {},
   "outputs": [
    {
     "data": {
      "text/html": [
       "<div>\n",
       "<style scoped>\n",
       "    .dataframe tbody tr th:only-of-type {\n",
       "        vertical-align: middle;\n",
       "    }\n",
       "\n",
       "    .dataframe tbody tr th {\n",
       "        vertical-align: top;\n",
       "    }\n",
       "\n",
       "    .dataframe thead th {\n",
       "        text-align: right;\n",
       "    }\n",
       "</style>\n",
       "<table border=\"1\" class=\"dataframe\">\n",
       "  <thead>\n",
       "    <tr style=\"text-align: right;\">\n",
       "      <th></th>\n",
       "      <th>Kingdom</th>\n",
       "      <th>Phylum</th>\n",
       "      <th>Class</th>\n",
       "      <th>Order</th>\n",
       "      <th>Family</th>\n",
       "      <th>Genus</th>\n",
       "      <th>Final Parameter</th>\n",
       "      <th>Cell Type</th>\n",
       "    </tr>\n",
       "  </thead>\n",
       "  <tbody>\n",
       "    <tr>\n",
       "      <th>Bacteria*Firmicutes*Erysipelotrichi*Erysipelotrichales*Erysipelotrichaceae*Clostridium</th>\n",
       "      <td>Bacteria</td>\n",
       "      <td>Firmicutes</td>\n",
       "      <td>Erysipelotrichi</td>\n",
       "      <td>Erysipelotrichales</td>\n",
       "      <td>Erysipelotrichaceae</td>\n",
       "      <td>Clostridium</td>\n",
       "      <td>lightgray</td>\n",
       "      <td>Bacteria*Firmicutes*Erysipelotrichi*Erysipelot...</td>\n",
       "    </tr>\n",
       "    <tr>\n",
       "      <th>Bacteria*Actinobacteria*Coriobacteriia*Coriobacteriales*Coriobacteriaceae*Adlercreutzia</th>\n",
       "      <td>Bacteria</td>\n",
       "      <td>Actinobacteria</td>\n",
       "      <td>Coriobacteriia</td>\n",
       "      <td>Coriobacteriales</td>\n",
       "      <td>Coriobacteriaceae</td>\n",
       "      <td>Adlercreutzia</td>\n",
       "      <td>lightgray</td>\n",
       "      <td>Bacteria*Actinobacteria*Coriobacteriia*Corioba...</td>\n",
       "    </tr>\n",
       "    <tr>\n",
       "      <th>Bacteria*Firmicutes*Clostridia*Clostridiales*Clostridiaceae*Candidatus Arthromitus</th>\n",
       "      <td>Bacteria</td>\n",
       "      <td>Firmicutes</td>\n",
       "      <td>Clostridia</td>\n",
       "      <td>Clostridiales</td>\n",
       "      <td>Clostridiaceae</td>\n",
       "      <td>Candidatus Arthromitus</td>\n",
       "      <td>lightgray</td>\n",
       "      <td>Bacteria*Firmicutes*Clostridia*Clostridiales*C...</td>\n",
       "    </tr>\n",
       "    <tr>\n",
       "      <th>Bacteria*Proteobacteria*Gammaproteobacteria*Pseudomonadales*Pseudomonadaceae*Pseudomonas</th>\n",
       "      <td>Bacteria</td>\n",
       "      <td>Proteobacteria</td>\n",
       "      <td>Gammaproteobacteria</td>\n",
       "      <td>Pseudomonadales</td>\n",
       "      <td>Pseudomonadaceae</td>\n",
       "      <td>Pseudomonas</td>\n",
       "      <td>lightgray</td>\n",
       "      <td>Bacteria*Proteobacteria*Gammaproteobacteria*Ps...</td>\n",
       "    </tr>\n",
       "    <tr>\n",
       "      <th>Bacteria*Proteobacteria*Gammaproteobacteria*Pseudomonadales*Moraxellaceae*Acinetobacter</th>\n",
       "      <td>Bacteria</td>\n",
       "      <td>Proteobacteria</td>\n",
       "      <td>Gammaproteobacteria</td>\n",
       "      <td>Pseudomonadales</td>\n",
       "      <td>Moraxellaceae</td>\n",
       "      <td>Acinetobacter</td>\n",
       "      <td>lightgray</td>\n",
       "      <td>Bacteria*Proteobacteria*Gammaproteobacteria*Ps...</td>\n",
       "    </tr>\n",
       "  </tbody>\n",
       "</table>\n",
       "</div>"
      ],
      "text/plain": [
       "                                                     Kingdom          Phylum  \\\n",
       "Bacteria*Firmicutes*Erysipelotrichi*Erysipelotr...  Bacteria      Firmicutes   \n",
       "Bacteria*Actinobacteria*Coriobacteriia*Coriobac...  Bacteria  Actinobacteria   \n",
       "Bacteria*Firmicutes*Clostridia*Clostridiales*Cl...  Bacteria      Firmicutes   \n",
       "Bacteria*Proteobacteria*Gammaproteobacteria*Pse...  Bacteria  Proteobacteria   \n",
       "Bacteria*Proteobacteria*Gammaproteobacteria*Pse...  Bacteria  Proteobacteria   \n",
       "\n",
       "                                                                  Class  \\\n",
       "Bacteria*Firmicutes*Erysipelotrichi*Erysipelotr...      Erysipelotrichi   \n",
       "Bacteria*Actinobacteria*Coriobacteriia*Coriobac...       Coriobacteriia   \n",
       "Bacteria*Firmicutes*Clostridia*Clostridiales*Cl...           Clostridia   \n",
       "Bacteria*Proteobacteria*Gammaproteobacteria*Pse...  Gammaproteobacteria   \n",
       "Bacteria*Proteobacteria*Gammaproteobacteria*Pse...  Gammaproteobacteria   \n",
       "\n",
       "                                                                 Order  \\\n",
       "Bacteria*Firmicutes*Erysipelotrichi*Erysipelotr...  Erysipelotrichales   \n",
       "Bacteria*Actinobacteria*Coriobacteriia*Coriobac...    Coriobacteriales   \n",
       "Bacteria*Firmicutes*Clostridia*Clostridiales*Cl...       Clostridiales   \n",
       "Bacteria*Proteobacteria*Gammaproteobacteria*Pse...     Pseudomonadales   \n",
       "Bacteria*Proteobacteria*Gammaproteobacteria*Pse...     Pseudomonadales   \n",
       "\n",
       "                                                                 Family  \\\n",
       "Bacteria*Firmicutes*Erysipelotrichi*Erysipelotr...  Erysipelotrichaceae   \n",
       "Bacteria*Actinobacteria*Coriobacteriia*Coriobac...    Coriobacteriaceae   \n",
       "Bacteria*Firmicutes*Clostridia*Clostridiales*Cl...       Clostridiaceae   \n",
       "Bacteria*Proteobacteria*Gammaproteobacteria*Pse...     Pseudomonadaceae   \n",
       "Bacteria*Proteobacteria*Gammaproteobacteria*Pse...        Moraxellaceae   \n",
       "\n",
       "                                                                     Genus  \\\n",
       "Bacteria*Firmicutes*Erysipelotrichi*Erysipelotr...             Clostridium   \n",
       "Bacteria*Actinobacteria*Coriobacteriia*Coriobac...           Adlercreutzia   \n",
       "Bacteria*Firmicutes*Clostridia*Clostridiales*Cl...  Candidatus Arthromitus   \n",
       "Bacteria*Proteobacteria*Gammaproteobacteria*Pse...             Pseudomonas   \n",
       "Bacteria*Proteobacteria*Gammaproteobacteria*Pse...           Acinetobacter   \n",
       "\n",
       "                                                   Final Parameter  \\\n",
       "Bacteria*Firmicutes*Erysipelotrichi*Erysipelotr...       lightgray   \n",
       "Bacteria*Actinobacteria*Coriobacteriia*Coriobac...       lightgray   \n",
       "Bacteria*Firmicutes*Clostridia*Clostridiales*Cl...       lightgray   \n",
       "Bacteria*Proteobacteria*Gammaproteobacteria*Pse...       lightgray   \n",
       "Bacteria*Proteobacteria*Gammaproteobacteria*Pse...       lightgray   \n",
       "\n",
       "                                                                                            Cell Type  \n",
       "Bacteria*Firmicutes*Erysipelotrichi*Erysipelotr...  Bacteria*Firmicutes*Erysipelotrichi*Erysipelot...  \n",
       "Bacteria*Actinobacteria*Coriobacteriia*Coriobac...  Bacteria*Actinobacteria*Coriobacteriia*Corioba...  \n",
       "Bacteria*Firmicutes*Clostridia*Clostridiales*Cl...  Bacteria*Firmicutes*Clostridia*Clostridiales*C...  \n",
       "Bacteria*Proteobacteria*Gammaproteobacteria*Pse...  Bacteria*Proteobacteria*Gammaproteobacteria*Ps...  \n",
       "Bacteria*Proteobacteria*Gammaproteobacteria*Pse...  Bacteria*Proteobacteria*Gammaproteobacteria*Ps...  "
      ]
     },
     "execution_count": 18,
     "metadata": {},
     "output_type": "execute_result"
    }
   ],
   "source": [
    "# input for visualization\n",
    "node_df.head()"
   ]
  },
  {
   "cell_type": "code",
   "execution_count": 19,
   "metadata": {},
   "outputs": [
    {
     "data": {
      "text/html": [
       "<div class=\"toyplot\" id=\"t08bf5b2646824e9992619eefeebf6a1c\" style=\"text-align:center\"><svg class=\"toyplot-canvas-Canvas\" xmlns:toyplot=\"http://www.sandia.gov/toyplot\" xmlns:xlink=\"http://www.w3.org/1999/xlink\" xmlns=\"http://www.w3.org/2000/svg\" width=\"1000.0px\" height=\"1000.0px\" viewBox=\"0 0 1000.0 1000.0\" preserveAspectRatio=\"xMidYMid meet\" style=\"background-color:transparent;border-color:#292724;border-style:none;border-width:1.0;fill:rgb(16.1%,15.3%,14.1%);fill-opacity:1.0;font-family:Helvetica;font-size:12px;opacity:1.0;stroke:rgb(16.1%,15.3%,14.1%);stroke-opacity:1.0;stroke-width:1.0\" id=\"t572bf3789f364968bb1ca45a6bd2fc4d\"><g class=\"toyplot-coordinates-Cartesian\" id=\"t9ddd23b623644e22afc9eb5b36fda030\"><clipPath id=\"te1ac3b5e197c4c5887fceef587484631\"><rect x=\"-20.0\" y=\"-20.0\" width=\"1040.0\" height=\"1040.0\"></rect></clipPath><g clip-path=\"url(#te1ac3b5e197c4c5887fceef587484631)\"><g class=\"toytree-mark-Toytree\" id=\"te17acb9c24ed433ba119c52c11cfcbe1\"><g class=\"toytree-Edges\" style=\"fill:none;stroke:rgb(14.9%,14.9%,14.9%);stroke-linecap:round;stroke-opacity:1;stroke-width:3\"><path d=\"M 512.4 541.0 L 500.0 500.0 A -0.0 -0.0 0 0 0 500.0 500.0\" id=\"116,115\" style=\"stroke:rgb(0%,0%,0%);stroke-opacity:1.0\"></path><path d=\"M 585.0 510.7 L 542.5 505.4 A 42.8 42.8 0 0 1 512.4 541.0\" id=\"115,114\" style=\"stroke:rgb(60%,60%,60%);stroke-opacity:1.0\"></path><path d=\"M 583.0 521.3 L 541.5 510.7 A 42.8 42.8 0 0 1 512.4 541.0\" id=\"115,113\" style=\"stroke:rgb(100%,49.8%,0%);stroke-opacity:1.0\"></path><path d=\"M 572.3 546.0 L 536.2 523.0 A 42.8 42.8 0 0 1 512.4 541.0\" id=\"115,112\" style=\"stroke:rgb(55.3%,82.7%,78%);stroke-opacity:1.0\"></path><path d=\"M 544.8 573.1 L 522.4 536.5 A 42.8 42.8 0 0 1 512.4 541.0\" id=\"115,111\" style=\"stroke:rgb(59.6%,30.6%,63.9%);stroke-opacity:1.0\"></path><path d=\"M 468.5 579.7 L 484.2 539.8 A 42.8 42.8 0 0 0 512.4 541.0\" id=\"115,110\" style=\"stroke:rgb(99.2%,70.6%,38.4%);stroke-opacity:1.0\"></path><path d=\"M 429.4 451.4 L 464.7 475.7 A 42.8 42.8 0 0 0 512.4 541.0\" id=\"115,109\" style=\"stroke:rgb(74.5%,72.9%,85.5%);stroke-opacity:1.0\"></path><path d=\"M 627.5 516.1 L 585.0 510.7 A 85.7 85.7 0 0 0 585.0 510.7\" id=\"114,108\" style=\"stroke:rgb(60%,60%,60%);stroke-opacity:1.0\"></path><path d=\"M 624.5 532.0 L 583.0 521.3 A 85.7 85.7 0 0 0 583.0 521.3\" id=\"113,107\" style=\"stroke:rgb(100%,49.8%,0%);stroke-opacity:1.0\"></path><path d=\"M 616.3 554.8 L 577.5 536.5 A 85.7 85.7 0 0 1 572.3 546.0\" id=\"112,106\" style=\"stroke:rgb(55.3%,82.7%,78%);stroke-opacity:1.0\"></path><path d=\"M 599.0 582.0 L 566.0 554.6 A 85.7 85.7 0 0 0 572.3 546.0\" id=\"112,105\" style=\"stroke:rgb(55.3%,82.7%,78%);stroke-opacity:1.0\"></path><path d=\"M 581.9 599.1 L 554.6 566.0 A 85.7 85.7 0 0 1 544.8 573.1\" id=\"111,104\" style=\"stroke:rgb(59.6%,30.6%,63.9%);stroke-opacity:1.0\"></path><path d=\"M 551.0 618.1 L 534.0 578.6 A 85.7 85.7 0 0 0 544.8 573.1\" id=\"111,103\" style=\"stroke:rgb(59.6%,30.6%,63.9%);stroke-opacity:1.0\"></path><path d=\"M 491.9 628.4 L 494.6 585.5 A 85.7 85.7 0 0 1 468.5 579.7\" id=\"110,102\" style=\"stroke:rgb(99.2%,70.6%,38.4%);stroke-opacity:1.0\"></path><path d=\"M 464.1 623.5 L 476.1 582.3 A 85.7 85.7 0 0 1 468.5 579.7\" id=\"110,101\" style=\"stroke:rgb(99.2%,70.6%,38.4%);stroke-opacity:1.0\"></path><path d=\"M 409.1 591.0 L 439.4 560.6 A 85.7 85.7 0 0 0 468.5 579.7\" id=\"110,100\" style=\"stroke:rgb(99.2%,70.6%,38.4%);stroke-opacity:1.0\"></path><path d=\"M 373.8 524.1 L 415.8 516.1 A 85.7 85.7 0 0 1 429.4 451.4\" id=\"109,99\" style=\"stroke:rgb(74.5%,72.9%,85.5%);stroke-opacity:1.0\"></path><path d=\"M 382.1 448.9 L 421.4 465.9 A 85.7 85.7 0 0 1 429.4 451.4\" id=\"109,98\" style=\"stroke:rgb(74.5%,72.9%,85.5%);stroke-opacity:1.0\"></path><path d=\"M 502.3 371.4 L 501.5 414.3 A 85.7 85.7 0 0 0 429.4 451.4\" id=\"109,97\" style=\"stroke:rgb(74.5%,72.9%,85.5%);stroke-opacity:1.0\"></path><path d=\"M 670.0 521.5 L 627.5 516.1 A 128.5 128.5 0 0 0 627.5 516.1\" id=\"108,96\" style=\"stroke:rgb(60%,60%,60%);stroke-opacity:1.0\"></path><path d=\"M 666.0 542.7 L 624.5 532.0 A 128.5 128.5 0 0 0 624.5 532.0\" id=\"107,95\" style=\"stroke:rgb(100%,49.8%,0%);stroke-opacity:1.0\"></path><path d=\"M 655.0 573.0 L 616.3 554.8 A 128.5 128.5 0 0 0 616.3 554.8\" id=\"106,94\" style=\"stroke:rgb(55.3%,82.7%,78%);stroke-opacity:1.0\"></path><path d=\"M 632.0 609.3 L 599.0 582.0 A 128.5 128.5 0 0 0 599.0 582.0\" id=\"105,93\" style=\"stroke:rgb(55.3%,82.7%,78%);stroke-opacity:1.0\"></path><path d=\"M 609.2 632.2 L 581.9 599.1 A 128.5 128.5 0 0 0 581.9 599.1\" id=\"104,92\" style=\"stroke:rgb(59.6%,30.6%,63.9%);stroke-opacity:1.0\"></path><path d=\"M 591.8 644.8 L 568.8 608.5 A 128.5 128.5 0 0 1 551.0 618.1\" id=\"103,91\" style=\"stroke:rgb(59.6%,30.6%,63.9%);stroke-opacity:1.0\"></path><path d=\"M 542.6 666.1 L 531.9 624.5 A 128.5 128.5 0 0 0 551.0 618.1\" id=\"103,90\" style=\"stroke:rgb(59.6%,30.6%,63.9%);stroke-opacity:1.0\"></path><path d=\"M 489.2 671.2 L 491.9 628.3 A 128.5 128.5 0 0 1 491.9 628.4\" id=\"102,89\" style=\"stroke:rgb(99.2%,70.6%,38.4%);stroke-opacity:1.0\"></path><path d=\"M 452.2 664.7 L 464.2 623.4 A 128.5 128.5 0 0 1 464.1 623.5\" id=\"101,88\" style=\"stroke:rgb(99.2%,70.6%,38.4%);stroke-opacity:1.0\"></path><path d=\"M 399.3 638.8 L 424.5 604.0 A 128.5 128.5 0 0 1 409.1 591.0\" id=\"100,87\" style=\"stroke:rgb(99.2%,70.6%,38.4%);stroke-opacity:1.0\"></path><path d=\"M 361.4 600.8 L 396.1 575.6 A 128.5 128.5 0 0 0 409.1 591.0\" id=\"100,86\" style=\"stroke:rgb(99.2%,70.6%,38.4%);stroke-opacity:1.0\"></path><path d=\"M 331.7 532.1 L 373.8 524.1 A 128.5 128.5 0 0 1 373.8 524.1\" id=\"99,85\" style=\"stroke:rgb(74.5%,72.9%,85.5%);stroke-opacity:1.0\"></path><path d=\"M 330.0 478.5 L 372.5 483.9 A 128.5 128.5 0 0 1 382.1 448.9\" id=\"98,84\" style=\"stroke:rgb(74.5%,72.9%,85.5%);stroke-opacity:1.0\"></path><path d=\"M 338.8 441.9 L 379.1 456.4 A 128.5 128.5 0 0 1 382.1 448.9\" id=\"98,83\" style=\"stroke:rgb(74.5%,72.9%,85.5%);stroke-opacity:1.0\"></path><path d=\"M 375.1 382.6 L 406.4 412.0 A 128.5 128.5 0 0 0 382.1 448.9\" id=\"98,82\" style=\"stroke:rgb(74.5%,72.9%,85.5%);stroke-opacity:1.0\"></path><path d=\"M 503.1 328.5 L 502.3 371.5 A 128.5 128.5 0 0 1 502.3 371.4\" id=\"97,81\" style=\"stroke:rgb(74.5%,72.9%,85.5%);stroke-opacity:1.0\"></path><path d=\"M 712.5 526.9 L 670.0 521.5 A 171.4 171.4 0 0 0 670.0 521.5\" id=\"96,80\" style=\"stroke:rgb(60%,60%,60%);stroke-opacity:1.0\"></path><path d=\"M 707.5 553.3 L 666.0 542.7 A 171.4 171.4 0 0 0 666.0 542.7\" id=\"95,79\" style=\"stroke:rgb(100%,49.8%,0%);stroke-opacity:1.0\"></path><path d=\"M 693.8 591.3 L 655.0 573.0 A 171.4 171.4 0 0 0 655.0 573.0\" id=\"94,78\" style=\"stroke:rgb(55.3%,82.7%,78%);stroke-opacity:1.0\"></path><path d=\"M 673.3 626.0 L 638.6 600.8 A 171.4 171.4 0 0 1 632.0 609.3\" id=\"93,77\" style=\"stroke:rgb(55.3%,82.7%,78%);stroke-opacity:1.0\"></path><path d=\"M 656.1 646.8 L 624.9 617.4 A 171.4 171.4 0 0 0 632.0 609.3\" id=\"93,76\" style=\"stroke:rgb(55.3%,82.7%,78%);stroke-opacity:1.0\"></path><path d=\"M 636.5 665.2 L 609.2 632.1 A 171.4 171.4 0 0 0 609.2 632.2\" id=\"92,75\" style=\"stroke:rgb(59.6%,30.6%,63.9%);stroke-opacity:1.0\"></path><path d=\"M 614.8 681.0 L 591.8 644.7 A 171.4 171.4 0 0 0 591.8 644.8\" id=\"91,74\" style=\"stroke:rgb(59.6%,30.6%,63.9%);stroke-opacity:1.0\"></path><path d=\"M 591.2 694.0 L 572.9 655.1 A 171.4 171.4 0 0 1 542.6 666.1\" id=\"90,73\" style=\"stroke:rgb(59.6%,30.6%,63.9%);stroke-opacity:1.0\"></path><path d=\"M 566.2 703.9 L 552.9 663.0 A 171.4 171.4 0 0 1 542.6 666.1\" id=\"90,72\" style=\"stroke:rgb(59.6%,30.6%,63.9%);stroke-opacity:1.0\"></path><path d=\"M 540.1 710.6 L 532.1 668.3 A 171.4 171.4 0 0 0 542.6 666.1\" id=\"90,71\" style=\"stroke:rgb(59.6%,30.6%,63.9%);stroke-opacity:1.0\"></path><path d=\"M 513.4 714.0 L 510.7 671.0 A 171.4 171.4 0 0 0 542.6 666.1\" id=\"90,70\" style=\"stroke:rgb(59.6%,30.6%,63.9%);stroke-opacity:1.0\"></path><path d=\"M 486.6 714.0 L 489.3 671.0 A 171.4 171.4 0 0 1 489.2 671.2\" id=\"89,69\" style=\"stroke:rgb(99.2%,70.6%,38.4%);stroke-opacity:1.0\"></path><path d=\"M 459.9 710.6 L 467.9 668.3 A 171.4 171.4 0 0 1 452.2 664.7\" id=\"88,68\" style=\"stroke:rgb(99.2%,70.6%,38.4%);stroke-opacity:1.0\"></path><path d=\"M 421.2 699.3 L 437.0 659.3 A 171.4 171.4 0 0 0 452.2 664.7\" id=\"88,67\" style=\"stroke:rgb(99.2%,70.6%,38.4%);stroke-opacity:1.0\"></path><path d=\"M 385.2 681.0 L 408.2 644.7 A 171.4 171.4 0 0 1 399.3 638.8\" id=\"87,66\" style=\"stroke:rgb(99.2%,70.6%,38.4%);stroke-opacity:1.0\"></path><path d=\"M 363.5 665.2 L 390.8 632.1 A 171.4 171.4 0 0 0 399.3 638.8\" id=\"87,65\" style=\"stroke:rgb(99.2%,70.6%,38.4%);stroke-opacity:1.0\"></path><path d=\"M 326.7 626.0 L 361.4 600.8 A 171.4 171.4 0 0 1 361.4 600.8\" id=\"86,64\" style=\"stroke:rgb(99.2%,70.6%,38.4%);stroke-opacity:1.0\"></path><path d=\"M 289.6 540.2 L 331.7 532.1 A 171.4 171.4 0 0 1 331.7 532.1\" id=\"85,63\" style=\"stroke:rgb(74.5%,72.9%,85.5%);stroke-opacity:1.0\"></path><path d=\"M 287.5 473.1 L 330.0 478.5 A 171.4 171.4 0 0 0 330.0 478.5\" id=\"84,62\" style=\"stroke:rgb(74.5%,72.9%,85.5%);stroke-opacity:1.0\"></path><path d=\"M 292.5 446.7 L 334.0 457.3 A 171.4 171.4 0 0 1 338.8 441.9\" id=\"83,61\" style=\"stroke:rgb(74.5%,72.9%,85.5%);stroke-opacity:1.0\"></path><path d=\"M 306.2 408.7 L 345.0 427.0 A 171.4 171.4 0 0 0 338.8 441.9\" id=\"83,60\" style=\"stroke:rgb(74.5%,72.9%,85.5%);stroke-opacity:1.0\"></path><path d=\"M 326.7 374.0 L 361.4 399.2 A 171.4 171.4 0 0 1 375.1 382.6\" id=\"82,59\" style=\"stroke:rgb(74.5%,72.9%,85.5%);stroke-opacity:1.0\"></path><path d=\"M 343.9 353.2 L 375.1 382.6 A 171.4 171.4 0 0 0 375.1 382.6\" id=\"82,58\" style=\"stroke:rgb(74.5%,72.9%,85.5%);stroke-opacity:1.0\"></path><path d=\"M 363.5 334.8 L 390.8 367.9 A 171.4 171.4 0 0 0 375.1 382.6\" id=\"82,57\" style=\"stroke:rgb(74.5%,72.9%,85.5%);stroke-opacity:1.0\"></path><path d=\"M 385.2 319.0 L 408.2 355.3 A 171.4 171.4 0 0 1 503.1 328.5\" id=\"81,56\" style=\"stroke:rgb(74.5%,72.9%,85.5%);stroke-opacity:1.0\"></path><path d=\"M 408.8 306.0 L 427.1 344.9 A 171.4 171.4 0 0 1 503.1 328.5\" id=\"81,55\" style=\"stroke:rgb(74.5%,72.9%,85.5%);stroke-opacity:1.0\"></path><path d=\"M 433.8 296.1 L 447.1 337.0 A 171.4 171.4 0 0 1 503.1 328.5\" id=\"81,54\" style=\"stroke:rgb(74.5%,72.9%,85.5%);stroke-opacity:1.0\"></path><path d=\"M 459.9 289.4 L 467.9 331.7 A 171.4 171.4 0 0 1 503.1 328.5\" id=\"81,53\" style=\"stroke:rgb(74.5%,72.9%,85.5%);stroke-opacity:1.0\"></path><path d=\"M 513.4 286.0 L 510.7 329.0 A 171.4 171.4 0 0 0 503.1 328.5\" id=\"81,52\" style=\"stroke:rgb(74.5%,72.9%,85.5%);stroke-opacity:1.0\"></path><path d=\"M 591.2 306.0 L 572.9 344.9 A 171.4 171.4 0 0 0 503.1 328.5\" id=\"81,51\" style=\"stroke:rgb(74.5%,72.9%,85.5%);stroke-opacity:1.0\"></path><path d=\"M 693.8 408.7 L 655.0 427.0 A 171.4 171.4 0 0 0 503.1 328.5\" id=\"81,50\" style=\"stroke:rgb(74.5%,72.9%,85.5%);stroke-opacity:1.0\"></path><path d=\"M 755.0 532.2 L 712.5 526.9 A 214.2 214.2 0 0 0 712.5 526.9\" id=\"80,49\" style=\"stroke:rgb(60%,60%,60%);stroke-opacity:1.0\"></path><path d=\"M 749.0 564.0 L 707.4 553.3 A 214.2 214.2 0 0 0 707.5 553.3\" id=\"79,48\" style=\"stroke:rgb(100%,49.8%,0%);stroke-opacity:1.0\"></path><path d=\"M 739.0 594.7 L 699.1 578.9 A 214.2 214.2 0 0 1 693.8 591.3\" id=\"78,47\" style=\"stroke:rgb(55.3%,82.7%,78%);stroke-opacity:1.0\"></path><path d=\"M 725.2 623.9 L 687.7 603.3 A 214.2 214.2 0 0 0 693.8 591.3\" id=\"78,46\" style=\"stroke:rgb(55.3%,82.7%,78%);stroke-opacity:1.0\"></path><path d=\"M 707.9 651.2 L 673.2 626.0 A 214.2 214.2 0 0 0 673.3 626.0\" id=\"77,45\" style=\"stroke:rgb(55.3%,82.7%,78%);stroke-opacity:1.0\"></path><path d=\"M 687.4 676.1 L 656.1 646.7 A 214.2 214.2 0 0 0 656.1 646.8\" id=\"76,44\" style=\"stroke:rgb(55.3%,82.7%,78%);stroke-opacity:1.0\"></path><path d=\"M 663.8 698.2 L 636.5 665.1 A 214.2 214.2 0 0 0 636.5 665.2\" id=\"75,43\" style=\"stroke:rgb(59.6%,30.6%,63.9%);stroke-opacity:1.0\"></path><path d=\"M 637.7 717.2 L 614.7 680.9 A 214.2 214.2 0 0 0 614.8 681.0\" id=\"74,42\" style=\"stroke:rgb(59.6%,30.6%,63.9%);stroke-opacity:1.0\"></path><path d=\"M 609.4 732.8 L 591.1 693.8 A 214.2 214.2 0 0 0 591.2 694.0\" id=\"73,41\" style=\"stroke:rgb(59.6%,30.6%,63.9%);stroke-opacity:1.0\"></path><path d=\"M 579.4 744.7 L 566.1 703.7 A 214.2 214.2 0 0 0 566.2 703.9\" id=\"72,40\" style=\"stroke:rgb(59.6%,30.6%,63.9%);stroke-opacity:1.0\"></path><path d=\"M 548.2 752.7 L 540.1 710.4 A 214.2 214.2 0 0 0 540.1 710.6\" id=\"71,39\" style=\"stroke:rgb(59.6%,30.6%,63.9%);stroke-opacity:1.0\"></path><path d=\"M 516.1 756.8 L 513.4 713.8 A 214.2 214.2 0 0 0 513.4 714.0\" id=\"70,38\" style=\"stroke:rgb(59.6%,30.6%,63.9%);stroke-opacity:1.0\"></path><path d=\"M 483.9 756.8 L 486.6 713.8 A 214.2 214.2 0 0 1 486.6 714.0\" id=\"69,37\" style=\"stroke:rgb(99.2%,70.6%,38.4%);stroke-opacity:1.0\"></path><path d=\"M 451.8 752.7 L 459.9 710.4 A 214.2 214.2 0 0 1 459.9 710.6\" id=\"68,36\" style=\"stroke:rgb(99.2%,70.6%,38.4%);stroke-opacity:1.0\"></path><path d=\"M 420.6 744.7 L 433.9 703.7 A 214.2 214.2 0 0 1 421.2 699.3\" id=\"67,35\" style=\"stroke:rgb(99.2%,70.6%,38.4%);stroke-opacity:1.0\"></path><path d=\"M 390.6 732.8 L 408.9 693.8 A 214.2 214.2 0 0 0 421.2 699.3\" id=\"67,34\" style=\"stroke:rgb(99.2%,70.6%,38.4%);stroke-opacity:1.0\"></path><path d=\"M 362.3 717.2 L 385.3 680.9 A 214.2 214.2 0 0 1 385.2 681.0\" id=\"66,33\" style=\"stroke:rgb(99.2%,70.6%,38.4%);stroke-opacity:1.0\"></path><path d=\"M 336.2 698.2 L 363.5 665.1 A 214.2 214.2 0 0 1 363.5 665.2\" id=\"65,32\" style=\"stroke:rgb(99.2%,70.6%,38.4%);stroke-opacity:1.0\"></path><path d=\"M 312.6 676.1 L 343.9 646.7 A 214.2 214.2 0 0 1 326.7 626.0\" id=\"64,31\" style=\"stroke:rgb(99.2%,70.6%,38.4%);stroke-opacity:1.0\"></path><path d=\"M 292.1 651.2 L 326.8 626.0 A 214.2 214.2 0 0 1 326.7 626.0\" id=\"64,30\" style=\"stroke:rgb(99.2%,70.6%,38.4%);stroke-opacity:1.0\"></path><path d=\"M 274.8 623.9 L 312.3 603.3 A 214.2 214.2 0 0 0 326.7 626.0\" id=\"64,29\" style=\"stroke:rgb(99.2%,70.6%,38.4%);stroke-opacity:1.0\"></path><path d=\"M 261.0 594.7 L 300.9 578.9 A 214.2 214.2 0 0 1 289.6 540.2\" id=\"63,28\" style=\"stroke:rgb(74.5%,72.9%,85.5%);stroke-opacity:1.0\"></path><path d=\"M 251.0 564.0 L 292.6 553.3 A 214.2 214.2 0 0 1 289.6 540.2\" id=\"63,27\" style=\"stroke:rgb(74.5%,72.9%,85.5%);stroke-opacity:1.0\"></path><path d=\"M 245.0 532.2 L 287.5 526.9 A 214.2 214.2 0 0 0 289.6 540.2\" id=\"63,26\" style=\"stroke:rgb(74.5%,72.9%,85.5%);stroke-opacity:1.0\"></path><path d=\"M 243.0 500.0 L 285.8 500.0 A 214.2 214.2 0 0 0 289.6 540.2\" id=\"63,25\" style=\"stroke:rgb(74.5%,72.9%,85.5%);stroke-opacity:1.0\"></path><path d=\"M 245.0 467.8 L 287.5 473.1 A 214.2 214.2 0 0 0 287.5 473.1\" id=\"62,24\" style=\"stroke:rgb(74.5%,72.9%,85.5%);stroke-opacity:1.0\"></path><path d=\"M 251.0 436.0 L 292.6 446.7 A 214.2 214.2 0 0 0 292.5 446.7\" id=\"61,23\" style=\"stroke:rgb(74.5%,72.9%,85.5%);stroke-opacity:1.0\"></path><path d=\"M 261.0 405.3 L 300.9 421.1 A 214.2 214.2 0 0 1 306.2 408.7\" id=\"60,22\" style=\"stroke:rgb(74.5%,72.9%,85.5%);stroke-opacity:1.0\"></path><path d=\"M 274.8 376.1 L 312.3 396.7 A 214.2 214.2 0 0 0 306.2 408.7\" id=\"60,21\" style=\"stroke:rgb(74.5%,72.9%,85.5%);stroke-opacity:1.0\"></path><path d=\"M 292.1 348.8 L 326.8 374.0 A 214.2 214.2 0 0 0 326.7 374.0\" id=\"59,20\" style=\"stroke:rgb(74.5%,72.9%,85.5%);stroke-opacity:1.0\"></path><path d=\"M 312.6 323.9 L 343.9 353.3 A 214.2 214.2 0 0 0 343.9 353.2\" id=\"58,19\" style=\"stroke:rgb(74.5%,72.9%,85.5%);stroke-opacity:1.0\"></path><path d=\"M 336.2 301.8 L 363.5 334.9 A 214.2 214.2 0 0 0 363.5 334.8\" id=\"57,18\" style=\"stroke:rgb(74.5%,72.9%,85.5%);stroke-opacity:1.0\"></path><path d=\"M 362.3 282.8 L 385.3 319.1 A 214.2 214.2 0 0 0 385.2 319.0\" id=\"56,17\" style=\"stroke:rgb(74.5%,72.9%,85.5%);stroke-opacity:1.0\"></path><path d=\"M 390.6 267.2 L 408.9 306.2 A 214.2 214.2 0 0 0 408.8 306.0\" id=\"55,16\" style=\"stroke:rgb(74.5%,72.9%,85.5%);stroke-opacity:1.0\"></path><path d=\"M 420.6 255.3 L 433.9 296.3 A 214.2 214.2 0 0 0 433.8 296.1\" id=\"54,15\" style=\"stroke:rgb(74.5%,72.9%,85.5%);stroke-opacity:1.0\"></path><path d=\"M 451.8 247.3 L 459.9 289.6 A 214.2 214.2 0 0 0 459.9 289.4\" id=\"53,14\" style=\"stroke:rgb(74.5%,72.9%,85.5%);stroke-opacity:1.0\"></path><path d=\"M 483.9 243.2 L 486.6 286.2 A 214.2 214.2 0 0 1 513.4 286.0\" id=\"52,13\" style=\"stroke:rgb(74.5%,72.9%,85.5%);stroke-opacity:1.0\"></path><path d=\"M 516.1 243.2 L 513.4 286.2 A 214.2 214.2 0 0 1 513.4 286.0\" id=\"52,12\" style=\"stroke:rgb(74.5%,72.9%,85.5%);stroke-opacity:1.0\"></path><path d=\"M 548.2 247.3 L 540.1 289.6 A 214.2 214.2 0 0 0 513.4 286.0\" id=\"52,11\" style=\"stroke:rgb(74.5%,72.9%,85.5%);stroke-opacity:1.0\"></path><path d=\"M 579.4 255.3 L 566.1 296.3 A 214.2 214.2 0 0 1 591.2 306.0\" id=\"51,10\" style=\"stroke:rgb(74.5%,72.9%,85.5%);stroke-opacity:1.0\"></path><path d=\"M 609.4 267.2 L 591.1 306.2 A 214.2 214.2 0 0 1 591.2 306.0\" id=\"51,9\" style=\"stroke:rgb(74.5%,72.9%,85.5%);stroke-opacity:1.0\"></path><path d=\"M 637.7 282.8 L 614.7 319.1 A 214.2 214.2 0 0 0 591.2 306.0\" id=\"51,8\" style=\"stroke:rgb(74.5%,72.9%,85.5%);stroke-opacity:1.0\"></path><path d=\"M 663.8 301.8 L 636.5 334.9 A 214.2 214.2 0 0 1 693.8 408.7\" id=\"50,7\" style=\"stroke:rgb(74.5%,72.9%,85.5%);stroke-opacity:1.0\"></path><path d=\"M 687.4 323.9 L 656.1 353.3 A 214.2 214.2 0 0 1 693.8 408.7\" id=\"50,6\" style=\"stroke:rgb(74.5%,72.9%,85.5%);stroke-opacity:1.0\"></path><path d=\"M 707.9 348.8 L 673.2 374.0 A 214.2 214.2 0 0 1 693.8 408.7\" id=\"50,5\" style=\"stroke:rgb(74.5%,72.9%,85.5%);stroke-opacity:1.0\"></path><path d=\"M 725.2 376.1 L 687.7 396.7 A 214.2 214.2 0 0 1 693.8 408.7\" id=\"50,4\" style=\"stroke:rgb(74.5%,72.9%,85.5%);stroke-opacity:1.0\"></path><path d=\"M 739.0 405.3 L 699.1 421.1 A 214.2 214.2 0 0 0 693.8 408.7\" id=\"50,3\" style=\"stroke:rgb(74.5%,72.9%,85.5%);stroke-opacity:1.0\"></path><path d=\"M 749.0 436.0 L 707.4 446.7 A 214.2 214.2 0 0 0 693.8 408.7\" id=\"50,2\" style=\"stroke:rgb(74.5%,72.9%,85.5%);stroke-opacity:1.0\"></path><path d=\"M 755.0 467.8 L 712.5 473.1 A 214.2 214.2 0 0 0 693.8 408.7\" id=\"50,1\" style=\"stroke:rgb(74.5%,72.9%,85.5%);stroke-opacity:1.0\"></path><path d=\"M 757.0 500.0 L 714.2 500.0 A 214.2 214.2 0 0 0 693.8 408.7\" id=\"50,0\" style=\"stroke:rgb(74.5%,72.9%,85.5%);stroke-opacity:1.0\"></path></g><g class=\"toytree-AlignEdges\" style=\"stroke:rgb(66.3%,66.3%,66.3%);stroke-dasharray:2, 4;stroke-linecap:round;stroke-opacity:1.0;stroke-width:2\"><path d=\"M 757.0 500.0 L 757.0 500.0\"></path><path d=\"M 755.0 467.8 L 755.0 467.8\"></path><path d=\"M 749.0 436.0 L 749.0 436.0\"></path><path d=\"M 739.0 405.3 L 739.0 405.3\"></path><path d=\"M 725.2 376.1 L 725.2 376.1\"></path><path d=\"M 707.9 348.8 L 707.9 348.8\"></path><path d=\"M 687.4 323.9 L 687.4 323.9\"></path><path d=\"M 663.8 301.8 L 663.8 301.8\"></path><path d=\"M 637.7 282.8 L 637.7 282.8\"></path><path d=\"M 609.4 267.2 L 609.4 267.2\"></path><path d=\"M 579.4 255.3 L 579.4 255.3\"></path><path d=\"M 548.2 247.3 L 548.2 247.3\"></path><path d=\"M 516.1 243.2 L 516.1 243.2\"></path><path d=\"M 483.9 243.2 L 483.9 243.2\"></path><path d=\"M 451.8 247.3 L 451.8 247.3\"></path><path d=\"M 420.6 255.3 L 420.6 255.3\"></path><path d=\"M 390.6 267.2 L 390.6 267.2\"></path><path d=\"M 362.3 282.8 L 362.3 282.8\"></path><path d=\"M 336.2 301.8 L 336.2 301.8\"></path><path d=\"M 312.6 323.9 L 312.6 323.9\"></path><path d=\"M 292.1 348.8 L 292.1 348.8\"></path><path d=\"M 274.8 376.1 L 274.8 376.1\"></path><path d=\"M 261.0 405.3 L 261.0 405.3\"></path><path d=\"M 251.0 436.0 L 251.0 436.0\"></path><path d=\"M 245.0 467.8 L 245.0 467.8\"></path><path d=\"M 243.0 500.0 L 243.0 500.0\"></path><path d=\"M 245.0 532.2 L 245.0 532.2\"></path><path d=\"M 251.0 564.0 L 251.0 564.0\"></path><path d=\"M 261.0 594.7 L 261.0 594.7\"></path><path d=\"M 274.8 623.9 L 274.8 623.9\"></path><path d=\"M 292.1 651.2 L 292.1 651.2\"></path><path d=\"M 312.6 676.1 L 312.6 676.1\"></path><path d=\"M 336.2 698.2 L 336.2 698.2\"></path><path d=\"M 362.3 717.2 L 362.3 717.2\"></path><path d=\"M 390.6 732.8 L 390.6 732.8\"></path><path d=\"M 420.6 744.7 L 420.6 744.7\"></path><path d=\"M 451.8 752.7 L 451.8 752.7\"></path><path d=\"M 483.9 756.8 L 483.9 756.8\"></path><path d=\"M 516.1 756.8 L 516.1 756.8\"></path><path d=\"M 548.2 752.7 L 548.2 752.7\"></path><path d=\"M 579.4 744.7 L 579.4 744.7\"></path><path d=\"M 609.4 732.8 L 609.4 732.8\"></path><path d=\"M 637.7 717.2 L 637.7 717.2\"></path><path d=\"M 663.8 698.2 L 663.8 698.2\"></path><path d=\"M 687.4 676.1 L 687.4 676.1\"></path><path d=\"M 707.9 651.2 L 707.9 651.2\"></path><path d=\"M 725.2 623.9 L 725.2 623.9\"></path><path d=\"M 739.0 594.7 L 739.0 594.7\"></path><path d=\"M 749.0 564.0 L 749.0 564.0\"></path><path d=\"M 755.0 532.2 L 755.0 532.2\"></path></g><g class=\"toytree-Nodes\" style=\"fill:rgb(40%,76.1%,64.7%);fill-opacity:1.0;stroke:rgb(0%,0%,0%);stroke-opacity:1.0;stroke-width:1\"><g fill=\"rgb(0%,0%,0%)\" fill-opacity=\"1.0\" id=\"node-0\" transform=\"translate(757.030,500.000)\"><circle r=\"7.0\"></circle></g><g fill=\"rgb(0%,0%,0%)\" fill-opacity=\"1.0\" id=\"node-1\" transform=\"translate(755.003,467.755)\"><circle r=\"7.0\"></circle></g><g fill=\"rgb(0%,0%,0%)\" fill-opacity=\"1.0\" id=\"node-2\" transform=\"translate(748.955,436.018)\"><circle r=\"7.0\"></circle></g><g fill=\"rgb(0%,0%,0%)\" fill-opacity=\"1.0\" id=\"node-3\" transform=\"translate(738.980,405.290)\"><circle r=\"7.0\"></circle></g><g fill=\"rgb(0%,0%,0%)\" fill-opacity=\"1.0\" id=\"node-4\" transform=\"translate(725.237,376.056)\"><circle r=\"7.0\"></circle></g><g fill=\"rgb(0%,0%,0%)\" fill-opacity=\"1.0\" id=\"node-5\" transform=\"translate(707.941,348.777)\"><circle r=\"7.0\"></circle></g><g fill=\"rgb(0%,0%,0%)\" fill-opacity=\"1.0\" id=\"node-6\" transform=\"translate(687.367,323.882)\"><circle r=\"7.0\"></circle></g><g fill=\"rgb(0%,0%,0%)\" fill-opacity=\"1.0\" id=\"node-7\" transform=\"translate(663.837,301.765)\"><circle r=\"7.0\"></circle></g><g fill=\"rgb(0%,0%,0%)\" fill-opacity=\"1.0\" id=\"node-8\" transform=\"translate(637.723,282.774)\"><circle r=\"7.0\"></circle></g><g fill=\"rgb(0%,0%,0%)\" fill-opacity=\"1.0\" id=\"node-9\" transform=\"translate(609.438,267.209)\"><circle r=\"7.0\"></circle></g><g fill=\"rgb(0%,0%,0%)\" fill-opacity=\"1.0\" id=\"node-10\" transform=\"translate(579.427,255.316)\"><circle r=\"7.0\"></circle></g><g fill=\"rgb(0%,0%,0%)\" fill-opacity=\"1.0\" id=\"node-11\" transform=\"translate(548.163,247.281)\"><circle r=\"7.0\"></circle></g><g fill=\"rgb(0%,0%,0%)\" fill-opacity=\"1.0\" id=\"node-12\" transform=\"translate(516.139,243.231)\"><circle r=\"7.0\"></circle></g><g fill=\"rgb(0%,100%,100%)\" fill-opacity=\"1.0\" id=\"node-13\" transform=\"translate(483.861,243.231)\"><circle r=\"0.0\"></circle></g><g fill=\"rgb(0%,0%,0%)\" fill-opacity=\"1.0\" id=\"node-14\" transform=\"translate(451.837,247.281)\"><circle r=\"7.0\"></circle></g><g fill=\"rgb(0%,0%,0%)\" fill-opacity=\"1.0\" id=\"node-15\" transform=\"translate(420.573,255.316)\"><circle r=\"7.0\"></circle></g><g fill=\"rgb(0%,0%,0%)\" fill-opacity=\"1.0\" id=\"node-16\" transform=\"translate(390.562,267.209)\"><circle r=\"7.0\"></circle></g><g fill=\"rgb(0%,0%,0%)\" fill-opacity=\"1.0\" id=\"node-17\" transform=\"translate(362.277,282.774)\"><circle r=\"7.0\"></circle></g><g fill=\"rgb(0%,0%,0%)\" fill-opacity=\"1.0\" id=\"node-18\" transform=\"translate(336.163,301.765)\"><circle r=\"7.0\"></circle></g><g fill=\"rgb(0%,0%,0%)\" fill-opacity=\"1.0\" id=\"node-19\" transform=\"translate(312.633,323.882)\"><circle r=\"7.0\"></circle></g><g fill=\"rgb(0%,0%,0%)\" fill-opacity=\"1.0\" id=\"node-20\" transform=\"translate(292.059,348.777)\"><circle r=\"7.0\"></circle></g><g fill=\"rgb(0%,0%,0%)\" fill-opacity=\"1.0\" id=\"node-21\" transform=\"translate(274.763,376.056)\"><circle r=\"7.0\"></circle></g><g fill=\"rgb(0%,0%,0%)\" fill-opacity=\"1.0\" id=\"node-22\" transform=\"translate(261.020,405.290)\"><circle r=\"7.0\"></circle></g><g fill=\"rgb(0%,0%,0%)\" fill-opacity=\"1.0\" id=\"node-23\" transform=\"translate(251.045,436.018)\"><circle r=\"7.0\"></circle></g><g fill=\"rgb(0%,0%,0%)\" fill-opacity=\"1.0\" id=\"node-24\" transform=\"translate(244.997,467.755)\"><circle r=\"7.0\"></circle></g><g fill=\"rgb(0%,0%,0%)\" fill-opacity=\"1.0\" id=\"node-25\" transform=\"translate(242.970,500.000)\"><circle r=\"7.0\"></circle></g><g fill=\"rgb(0%,0%,0%)\" fill-opacity=\"1.0\" id=\"node-26\" transform=\"translate(244.997,532.245)\"><circle r=\"7.0\"></circle></g><g fill=\"rgb(0%,0%,0%)\" fill-opacity=\"1.0\" id=\"node-27\" transform=\"translate(251.045,563.982)\"><circle r=\"7.0\"></circle></g><g fill=\"rgb(0%,0%,0%)\" fill-opacity=\"1.0\" id=\"node-28\" transform=\"translate(261.020,594.710)\"><circle r=\"7.0\"></circle></g><g fill=\"rgb(0%,0%,0%)\" fill-opacity=\"1.0\" id=\"node-29\" transform=\"translate(274.763,623.944)\"><circle r=\"7.0\"></circle></g><g fill=\"rgb(0%,0%,0%)\" fill-opacity=\"1.0\" id=\"node-30\" transform=\"translate(292.059,651.223)\"><circle r=\"7.0\"></circle></g><g fill=\"rgb(0%,0%,0%)\" fill-opacity=\"1.0\" id=\"node-31\" transform=\"translate(312.633,676.118)\"><circle r=\"7.0\"></circle></g><g fill=\"rgb(0%,0%,0%)\" fill-opacity=\"1.0\" id=\"node-32\" transform=\"translate(336.163,698.235)\"><circle r=\"7.0\"></circle></g><g fill=\"rgb(0%,0%,0%)\" fill-opacity=\"1.0\" id=\"node-33\" transform=\"translate(362.277,717.226)\"><circle r=\"7.0\"></circle></g><g fill=\"rgb(0%,0%,0%)\" fill-opacity=\"1.0\" id=\"node-34\" transform=\"translate(390.562,732.791)\"><circle r=\"7.0\"></circle></g><g fill=\"rgb(0%,0%,0%)\" fill-opacity=\"1.0\" id=\"node-35\" transform=\"translate(420.573,744.684)\"><circle r=\"7.0\"></circle></g><g fill=\"rgb(0%,0%,0%)\" fill-opacity=\"1.0\" id=\"node-36\" transform=\"translate(451.837,752.719)\"><circle r=\"7.0\"></circle></g><g fill=\"rgb(0%,0%,0%)\" fill-opacity=\"1.0\" id=\"node-37\" transform=\"translate(483.861,756.769)\"><circle r=\"7.0\"></circle></g><g fill=\"rgb(0%,0%,0%)\" fill-opacity=\"1.0\" id=\"node-38\" transform=\"translate(516.139,756.769)\"><circle r=\"7.0\"></circle></g><g fill=\"rgb(0%,0%,0%)\" fill-opacity=\"1.0\" id=\"node-39\" transform=\"translate(548.163,752.719)\"><circle r=\"7.0\"></circle></g><g fill=\"rgb(0%,0%,0%)\" fill-opacity=\"1.0\" id=\"node-40\" transform=\"translate(579.427,744.684)\"><circle r=\"7.0\"></circle></g><g fill=\"rgb(0%,0%,0%)\" fill-opacity=\"1.0\" id=\"node-41\" transform=\"translate(609.438,732.791)\"><circle r=\"7.0\"></circle></g><g fill=\"rgb(0%,0%,0%)\" fill-opacity=\"1.0\" id=\"node-42\" transform=\"translate(637.723,717.226)\"><circle r=\"7.0\"></circle></g><g fill=\"rgb(0%,0%,0%)\" fill-opacity=\"1.0\" id=\"node-43\" transform=\"translate(663.837,698.235)\"><circle r=\"7.0\"></circle></g><g fill=\"rgb(0%,0%,0%)\" fill-opacity=\"1.0\" id=\"node-44\" transform=\"translate(687.367,676.118)\"><circle r=\"7.0\"></circle></g><g fill=\"rgb(0%,0%,0%)\" fill-opacity=\"1.0\" id=\"node-45\" transform=\"translate(707.941,651.223)\"><circle r=\"7.0\"></circle></g><g fill=\"rgb(0%,0%,0%)\" fill-opacity=\"1.0\" id=\"node-46\" transform=\"translate(725.237,623.944)\"><circle r=\"7.0\"></circle></g><g fill=\"rgb(0%,0%,0%)\" fill-opacity=\"1.0\" id=\"node-47\" transform=\"translate(738.980,594.710)\"><circle r=\"7.0\"></circle></g><g fill=\"rgb(0%,0%,0%)\" fill-opacity=\"1.0\" id=\"node-48\" transform=\"translate(748.955,563.982)\"><circle r=\"7.0\"></circle></g><g fill=\"rgb(0%,0%,0%)\" fill-opacity=\"1.0\" id=\"node-49\" transform=\"translate(755.003,532.245)\"><circle r=\"7.0\"></circle></g><g fill=\"rgb(0%,100%,100%)\" fill-opacity=\"1.0\" id=\"node-50\" transform=\"translate(693.806,408.714)\"><circle r=\"0.0\"></circle></g><g fill=\"rgb(0%,100%,100%)\" fill-opacity=\"1.0\" id=\"node-51\" transform=\"translate(591.198,306.008)\"><circle r=\"0.0\"></circle></g><g fill=\"rgb(0%,100%,100%)\" fill-opacity=\"1.0\" id=\"node-52\" transform=\"translate(513.449,286.026)\"><circle r=\"0.0\"></circle></g><g fill=\"rgb(0%,100%,100%)\" fill-opacity=\"1.0\" id=\"node-53\" transform=\"translate(459.865,289.401)\"><circle r=\"0.0\"></circle></g><g fill=\"rgb(0%,100%,100%)\" fill-opacity=\"1.0\" id=\"node-54\" transform=\"translate(433.811,296.096)\"><circle r=\"0.0\"></circle></g><g fill=\"rgb(0%,100%,100%)\" fill-opacity=\"1.0\" id=\"node-55\" transform=\"translate(408.802,306.008)\"><circle r=\"0.0\"></circle></g><g fill=\"rgb(0%,100%,100%)\" fill-opacity=\"1.0\" id=\"node-56\" transform=\"translate(385.230,318.979)\"><circle r=\"0.0\"></circle></g><g fill=\"rgb(0%,100%,100%)\" fill-opacity=\"1.0\" id=\"node-57\" transform=\"translate(363.469,334.804)\"><circle r=\"0.0\"></circle></g><g fill=\"rgb(0%,100%,100%)\" fill-opacity=\"1.0\" id=\"node-58\" transform=\"translate(343.861,353.235)\"><circle r=\"0.0\"></circle></g><g fill=\"rgb(0%,100%,100%)\" fill-opacity=\"1.0\" id=\"node-59\" transform=\"translate(326.715,373.981)\"><circle r=\"0.0\"></circle></g><g fill=\"rgb(0%,100%,100%)\" fill-opacity=\"1.0\" id=\"node-60\" transform=\"translate(306.194,408.714)\"><circle r=\"0.0\"></circle></g><g fill=\"rgb(0%,100%,100%)\" fill-opacity=\"1.0\" id=\"node-61\" transform=\"translate(292.538,446.682)\"><circle r=\"0.0\"></circle></g><g fill=\"rgb(0%,100%,100%)\" fill-opacity=\"1.0\" id=\"node-62\" transform=\"translate(287.497,473.129)\"><circle r=\"0.0\"></circle></g><g fill=\"rgb(0%,100%,100%)\" fill-opacity=\"1.0\" id=\"node-63\" transform=\"translate(289.602,540.174)\"><circle r=\"0.0\"></circle></g><g fill=\"rgb(0%,100%,100%)\" fill-opacity=\"1.0\" id=\"node-64\" transform=\"translate(326.715,626.019)\"><circle r=\"0.0\"></circle></g><g fill=\"rgb(0%,100%,100%)\" fill-opacity=\"1.0\" id=\"node-65\" transform=\"translate(363.469,665.196)\"><circle r=\"0.0\"></circle></g><g fill=\"rgb(0%,100%,100%)\" fill-opacity=\"1.0\" id=\"node-66\" transform=\"translate(385.230,681.021)\"><circle r=\"0.0\"></circle></g><g fill=\"rgb(0%,100%,100%)\" fill-opacity=\"1.0\" id=\"node-67\" transform=\"translate(421.151,699.341)\"><circle r=\"0.0\"></circle></g><g fill=\"rgb(0%,100%,100%)\" fill-opacity=\"1.0\" id=\"node-68\" transform=\"translate(459.865,710.599)\"><circle r=\"0.0\"></circle></g><g fill=\"rgb(0%,100%,100%)\" fill-opacity=\"1.0\" id=\"node-69\" transform=\"translate(486.551,713.974)\"><circle r=\"0.0\"></circle></g><g fill=\"rgb(0%,100%,100%)\" fill-opacity=\"1.0\" id=\"node-70\" transform=\"translate(513.449,713.974)\"><circle r=\"0.0\"></circle></g><g fill=\"rgb(0%,100%,100%)\" fill-opacity=\"1.0\" id=\"node-71\" transform=\"translate(540.135,710.599)\"><circle r=\"0.0\"></circle></g><g fill=\"rgb(0%,100%,100%)\" fill-opacity=\"1.0\" id=\"node-72\" transform=\"translate(566.189,703.904)\"><circle r=\"0.0\"></circle></g><g fill=\"rgb(0%,100%,100%)\" fill-opacity=\"1.0\" id=\"node-73\" transform=\"translate(591.198,693.992)\"><circle r=\"0.0\"></circle></g><g fill=\"rgb(0%,100%,100%)\" fill-opacity=\"1.0\" id=\"node-74\" transform=\"translate(614.770,681.021)\"><circle r=\"0.0\"></circle></g><g fill=\"rgb(0%,100%,100%)\" fill-opacity=\"1.0\" id=\"node-75\" transform=\"translate(636.531,665.196)\"><circle r=\"0.0\"></circle></g><g fill=\"rgb(0%,100%,100%)\" fill-opacity=\"1.0\" id=\"node-76\" transform=\"translate(656.139,646.765)\"><circle r=\"0.0\"></circle></g><g fill=\"rgb(0%,100%,100%)\" fill-opacity=\"1.0\" id=\"node-77\" transform=\"translate(673.285,626.019)\"><circle r=\"0.0\"></circle></g><g fill=\"rgb(0%,100%,100%)\" fill-opacity=\"1.0\" id=\"node-78\" transform=\"translate(693.806,591.286)\"><circle r=\"0.0\"></circle></g><g fill=\"rgb(0%,100%,100%)\" fill-opacity=\"1.0\" id=\"node-79\" transform=\"translate(707.462,553.318)\"><circle r=\"0.0\"></circle></g><g fill=\"rgb(0%,100%,100%)\" fill-opacity=\"1.0\" id=\"node-80\" transform=\"translate(712.503,526.871)\"><circle r=\"0.0\"></circle></g><g fill=\"rgb(0%,100%,100%)\" fill-opacity=\"1.0\" id=\"node-81\" transform=\"translate(503.076,328.510)\"><circle r=\"0.0\"></circle></g><g fill=\"rgb(0%,100%,100%)\" fill-opacity=\"1.0\" id=\"node-82\" transform=\"translate(375.089,382.588)\"><circle r=\"0.0\"></circle></g><g fill=\"rgb(0%,100%,100%)\" fill-opacity=\"1.0\" id=\"node-83\" transform=\"translate(338.777,441.900)\"><circle r=\"0.0\"></circle></g><g fill=\"rgb(0%,100%,100%)\" fill-opacity=\"1.0\" id=\"node-84\" transform=\"translate(329.998,478.503)\"><circle r=\"0.0\"></circle></g><g fill=\"rgb(0%,100%,100%)\" fill-opacity=\"1.0\" id=\"node-85\" transform=\"translate(331.682,532.139)\"><circle r=\"0.0\"></circle></g><g fill=\"rgb(0%,100%,100%)\" fill-opacity=\"1.0\" id=\"node-86\" transform=\"translate(361.372,600.816)\"><circle r=\"0.0\"></circle></g><g fill=\"rgb(0%,100%,100%)\" fill-opacity=\"1.0\" id=\"node-87\" transform=\"translate(399.281,638.761)\"><circle r=\"0.0\"></circle></g><g fill=\"rgb(0%,100%,100%)\" fill-opacity=\"1.0\" id=\"node-88\" transform=\"translate(452.194,664.707)\"><circle r=\"0.0\"></circle></g><g fill=\"rgb(0%,100%,100%)\" fill-opacity=\"1.0\" id=\"node-89\" transform=\"translate(489.241,671.179)\"><circle r=\"0.0\"></circle></g><g fill=\"rgb(0%,100%,100%)\" fill-opacity=\"1.0\" id=\"node-90\" transform=\"translate(542.614,666.129)\"><circle r=\"0.0\"></circle></g><g fill=\"rgb(0%,100%,100%)\" fill-opacity=\"1.0\" id=\"node-91\" transform=\"translate(591.816,644.817)\"><circle r=\"0.0\"></circle></g><g fill=\"rgb(0%,100%,100%)\" fill-opacity=\"1.0\" id=\"node-92\" transform=\"translate(609.225,632.157)\"><circle r=\"0.0\"></circle></g><g fill=\"rgb(0%,100%,100%)\" fill-opacity=\"1.0\" id=\"node-93\" transform=\"translate(632.030,609.329)\"><circle r=\"0.0\"></circle></g><g fill=\"rgb(0%,100%,100%)\" fill-opacity=\"1.0\" id=\"node-94\" transform=\"translate(655.045,573.029)\"><circle r=\"0.0\"></circle></g><g fill=\"rgb(0%,100%,100%)\" fill-opacity=\"1.0\" id=\"node-95\" transform=\"translate(665.970,542.655)\"><circle r=\"0.0\"></circle></g><g fill=\"rgb(0%,100%,100%)\" fill-opacity=\"1.0\" id=\"node-96\" transform=\"translate(670.002,521.497)\"><circle r=\"0.0\"></circle></g><g fill=\"rgb(0%,100%,100%)\" fill-opacity=\"1.0\" id=\"node-97\" transform=\"translate(502.307,371.382)\"><circle r=\"0.0\"></circle></g><g fill=\"rgb(0%,100%,100%)\" fill-opacity=\"1.0\" id=\"node-98\" transform=\"translate(382.055,448.912)\"><circle r=\"0.0\"></circle></g><g fill=\"rgb(0%,100%,100%)\" fill-opacity=\"1.0\" id=\"node-99\" transform=\"translate(373.761,524.104)\"><circle r=\"0.0\"></circle></g><g fill=\"rgb(0%,100%,100%)\" fill-opacity=\"1.0\" id=\"node-100\" transform=\"translate(409.126,590.961)\"><circle r=\"0.0\"></circle></g><g fill=\"rgb(0%,100%,100%)\" fill-opacity=\"1.0\" id=\"node-101\" transform=\"translate(464.145,623.530)\"><circle r=\"0.0\"></circle></g><g fill=\"rgb(0%,100%,100%)\" fill-opacity=\"1.0\" id=\"node-102\" transform=\"translate(491.930,628.384)\"><circle r=\"0.0\"></circle></g><g fill=\"rgb(0%,100%,100%)\" fill-opacity=\"1.0\" id=\"node-103\" transform=\"translate(551.039,618.058)\"><circle r=\"0.0\"></circle></g><g fill=\"rgb(0%,100%,100%)\" fill-opacity=\"1.0\" id=\"node-104\" transform=\"translate(581.918,599.117)\"><circle r=\"0.0\"></circle></g><g fill=\"rgb(0%,100%,100%)\" fill-opacity=\"1.0\" id=\"node-105\" transform=\"translate(599.022,581.997)\"><circle r=\"0.0\"></circle></g><g fill=\"rgb(0%,100%,100%)\" fill-opacity=\"1.0\" id=\"node-106\" transform=\"translate(616.284,554.771)\"><circle r=\"0.0\"></circle></g><g fill=\"rgb(0%,100%,100%)\" fill-opacity=\"1.0\" id=\"node-107\" transform=\"translate(624.477,531.991)\"><circle r=\"0.0\"></circle></g><g fill=\"rgb(0%,100%,100%)\" fill-opacity=\"1.0\" id=\"node-108\" transform=\"translate(627.502,516.123)\"><circle r=\"0.0\"></circle></g><g fill=\"rgb(0%,100%,100%)\" fill-opacity=\"1.0\" id=\"node-109\" transform=\"translate(429.428,451.373)\"><circle r=\"0.0\"></circle></g><g fill=\"rgb(0%,100%,100%)\" fill-opacity=\"1.0\" id=\"node-110\" transform=\"translate(468.460,579.737)\"><circle r=\"0.0\"></circle></g><g fill=\"rgb(0%,100%,100%)\" fill-opacity=\"1.0\" id=\"node-111\" transform=\"translate(544.766,573.121)\"><circle r=\"0.0\"></circle></g><g fill=\"rgb(0%,100%,100%)\" fill-opacity=\"1.0\" id=\"node-112\" transform=\"translate(572.339,545.952)\"><circle r=\"0.0\"></circle></g><g fill=\"rgb(0%,100%,100%)\" fill-opacity=\"1.0\" id=\"node-113\" transform=\"translate(582.985,521.327)\"><circle r=\"0.0\"></circle></g><g fill=\"rgb(0%,100%,100%)\" fill-opacity=\"1.0\" id=\"node-114\" transform=\"translate(585.001,510.748)\"><circle r=\"0.0\"></circle></g><g fill=\"rgb(0%,100%,100%)\" fill-opacity=\"1.0\" id=\"node-115\" transform=\"translate(512.448,541.029)\"><circle r=\"0.0\"></circle></g><g fill=\"rgb(0%,100%,100%)\" fill-opacity=\"1.0\" id=\"node-116\" transform=\"translate(500.000,500.000)\"><circle r=\"0.0\"></circle></g></g><g class=\"toytree-TipLabels\" style=\"fill:rgb(14.9%,14.9%,14.9%);fill-opacity:1.0;font-family:helvetica;font-size:20px;font-weight:normal;stroke:none;white-space:pre\"><g transform=\"translate(757.03,500.00)rotate(-0)\"><text x=\"15.00\" y=\"5.11\" style=\"fill:rgb(82.7%,82.7%,82.7%);fill-opacity:1.0\">Robinsoniella</text></g><g transform=\"translate(755.00,467.75)rotate(-7)\"><text x=\"15.00\" y=\"5.11\" style=\"fill:rgb(100%,64.7%,0%);fill-opacity:1.0\">Anaerostipes</text></g><g transform=\"translate(748.95,436.02)rotate(-14)\"><text x=\"15.00\" y=\"5.11\" style=\"fill:rgb(82.7%,82.7%,82.7%);fill-opacity:1.0\">Roseburia</text></g><g transform=\"translate(738.98,405.29)rotate(-22)\"><text x=\"15.00\" y=\"5.11\" style=\"fill:rgb(82.7%,82.7%,82.7%);fill-opacity:1.0\">[Ruminococcus]</text></g><g transform=\"translate(725.24,376.06)rotate(-29)\"><text x=\"15.00\" y=\"5.11\" style=\"fill:rgb(100%,64.7%,0%);fill-opacity:1.0\">Blautia</text></g><g transform=\"translate(707.94,348.78)rotate(-36)\"><text x=\"15.00\" y=\"5.11\" style=\"fill:rgb(82.7%,82.7%,82.7%);fill-opacity:1.0\">Dorea</text></g><g transform=\"translate(687.37,323.88)rotate(-43)\"><text x=\"15.00\" y=\"5.11\" style=\"fill:rgb(82.7%,82.7%,82.7%);fill-opacity:1.0\">Coprococcus</text></g><g transform=\"translate(663.84,301.77)rotate(-50)\"><text x=\"15.00\" y=\"5.11\" style=\"fill:rgb(82.7%,82.7%,82.7%);fill-opacity:1.0\">Butyrivibrio</text></g><g transform=\"translate(637.72,282.77)rotate(-58)\"><text x=\"15.00\" y=\"5.11\" style=\"fill:rgb(82.7%,82.7%,82.7%);fill-opacity:1.0\">Oscillospira</text></g><g transform=\"translate(609.44,267.21)rotate(-65)\"><text x=\"15.00\" y=\"5.11\" style=\"fill:rgb(82.7%,82.7%,82.7%);fill-opacity:1.0\">Anaerotruncus</text></g><g transform=\"translate(579.43,255.32)rotate(-72)\"><text x=\"15.00\" y=\"5.11\" style=\"fill:rgb(82.7%,82.7%,82.7%);fill-opacity:1.0\">Ruminococcus</text></g><g transform=\"translate(548.16,247.28)rotate(-79)\"><text x=\"15.00\" y=\"5.11\" style=\"fill:rgb(82.7%,82.7%,82.7%);fill-opacity:1.0\">SMB53</text></g><g transform=\"translate(516.14,243.23)rotate(-86)\"><text x=\"15.00\" y=\"5.11\" style=\"fill:rgb(82.7%,82.7%,82.7%);fill-opacity:1.0\">Clostridium</text></g><g transform=\"translate(483.86,243.23)rotate(86)\"><text x=\"-218.40\" y=\"5.11\" style=\"fill:rgb(82.7%,82.7%,82.7%);fill-opacity:1.0\">CandidatusArthromitus</text></g><g transform=\"translate(451.84,247.28)rotate(79)\"><text x=\"-128.38\" y=\"5.11\" style=\"fill:rgb(82.7%,82.7%,82.7%);fill-opacity:1.0\">Anaerovorax</text></g><g transform=\"translate(420.57,255.32)rotate(72)\"><text x=\"-161.68\" y=\"5.11\" style=\"fill:rgb(82.7%,82.7%,82.7%);fill-opacity:1.0\">Tepidimicrobium</text></g><g transform=\"translate(390.56,267.21)rotate(65)\"><text x=\"-60.56\" y=\"5.11\" style=\"fill:rgb(82.7%,82.7%,82.7%);fill-opacity:1.0\">rc4-4</text></g><g transform=\"translate(362.28,282.77)rotate(58)\"><text x=\"-166.16\" y=\"5.11\" style=\"fill:rgb(82.7%,82.7%,82.7%);fill-opacity:1.0\">Dehalobacterium</text></g><g transform=\"translate(336.16,301.77)rotate(50)\"><text x=\"-141.72\" y=\"5.11\" style=\"fill:rgb(82.7%,82.7%,82.7%);fill-opacity:1.0\">Streptococcus</text></g><g transform=\"translate(312.63,323.88)rotate(43)\"><text x=\"-130.60\" y=\"5.11\" style=\"fill:rgb(0%,0%,100%);fill-opacity:1.0\">Lactobacillus</text></g><g transform=\"translate(292.06,348.78)rotate(36)\"><text x=\"-136.16\" y=\"5.11\" style=\"fill:rgb(82.7%,82.7%,82.7%);fill-opacity:1.0\">Enterococcus</text></g><g transform=\"translate(274.76,376.06)rotate(29)\"><text x=\"-146.16\" y=\"5.11\" style=\"fill:rgb(82.7%,82.7%,82.7%);fill-opacity:1.0\">Anaerobacillus</text></g><g transform=\"translate(261.02,405.29)rotate(22)\"><text x=\"-119.48\" y=\"5.11\" style=\"fill:rgb(82.7%,82.7%,82.7%);fill-opacity:1.0\">Geobacillus</text></g><g transform=\"translate(251.05,436.02)rotate(14)\"><text x=\"-155.06\" y=\"5.11\" style=\"fill:rgb(82.7%,82.7%,82.7%);fill-opacity:1.0\">Staphylococcus</text></g><g transform=\"translate(245.00,467.75)rotate(7)\"><text x=\"-119.46\" y=\"5.11\" style=\"fill:rgb(82.7%,82.7%,82.7%);fill-opacity:1.0\">Turicibacter</text></g><g transform=\"translate(242.97,500.00)rotate(-0)\"><text x=\"-138.38\" y=\"5.11\" style=\"fill:rgb(82.7%,82.7%,82.7%);fill-opacity:1.0\">[Eubacterium]</text></g><g transform=\"translate(245.00,532.25)rotate(-7)\"><text x=\"-136.14\" y=\"5.11\" style=\"fill:rgb(82.7%,82.7%,82.7%);fill-opacity:1.0\">Coprobacillus</text></g><g transform=\"translate(251.05,563.98)rotate(-14)\"><text x=\"-123.92\" y=\"5.11\" style=\"fill:rgb(82.7%,82.7%,82.7%);fill-opacity:1.0\">Allobaculum</text></g><g transform=\"translate(261.02,594.71)rotate(-22)\"><text x=\"-115.00\" y=\"5.11\" style=\"fill:rgb(82.7%,82.7%,82.7%);fill-opacity:1.0\">Clostridium</text></g><g transform=\"translate(274.76,623.94)rotate(-29)\"><text x=\"-160.26\" y=\"5.11\" style=\"fill:rgb(0%,0%,100%);fill-opacity:1.0\">Ent.|unclassified</text></g><g transform=\"translate(292.06,651.22)rotate(-36)\"><text x=\"-100.58\" y=\"5.11\" style=\"fill:rgb(82.7%,82.7%,82.7%);fill-opacity:1.0\">Klebsiella</text></g><g transform=\"translate(312.63,676.12)rotate(-43)\"><text x=\"-112.80\" y=\"5.11\" style=\"fill:rgb(82.7%,82.7%,82.7%);fill-opacity:1.0\">Citrobacter</text></g><g transform=\"translate(336.16,698.23)rotate(-50)\"><text x=\"-137.28\" y=\"5.11\" style=\"fill:rgb(82.7%,82.7%,82.7%);fill-opacity:1.0\">Acinetobacter</text></g><g transform=\"translate(362.28,717.23)rotate(-58)\"><text x=\"-142.84\" y=\"5.11\" style=\"fill:rgb(82.7%,82.7%,82.7%);fill-opacity:1.0\">Pseudomonas</text></g><g transform=\"translate(390.56,732.79)rotate(-65)\"><text x=\"-112.84\" y=\"5.11\" style=\"fill:rgb(82.7%,82.7%,82.7%);fill-opacity:1.0\">Pandoraea</text></g><g transform=\"translate(420.57,744.68)rotate(-72)\"><text x=\"-127.26\" y=\"5.11\" style=\"fill:rgb(82.7%,82.7%,82.7%);fill-opacity:1.0\">Burkholderia</text></g><g transform=\"translate(451.84,752.72)rotate(-79)\"><text x=\"-178.40\" y=\"5.11\" style=\"fill:rgb(82.7%,82.7%,82.7%);fill-opacity:1.0\">Janthinobacterium</text></g><g transform=\"translate(483.86,756.77)rotate(-86)\"><text x=\"-148.40\" y=\"5.11\" style=\"fill:rgb(82.7%,82.7%,82.7%);fill-opacity:1.0\">Sphingomonas</text></g><g transform=\"translate(516.14,756.77)rotate(-274)\"><text x=\"15.00\" y=\"5.11\" style=\"fill:rgb(82.7%,82.7%,82.7%);fill-opacity:1.0\">Saccharopolyspora</text></g><g transform=\"translate(548.16,752.72)rotate(-281)\"><text x=\"15.00\" y=\"5.11\" style=\"fill:rgb(82.7%,82.7%,82.7%);fill-opacity:1.0\">Actinomyces</text></g><g transform=\"translate(579.43,744.68)rotate(-288)\"><text x=\"15.00\" y=\"5.11\" style=\"fill:rgb(82.7%,82.7%,82.7%);fill-opacity:1.0\">Brachybacterium</text></g><g transform=\"translate(609.44,732.79)rotate(-295)\"><text x=\"15.00\" y=\"5.11\" style=\"fill:rgb(82.7%,82.7%,82.7%);fill-opacity:1.0\">Corynebacterium</text></g><g transform=\"translate(637.72,717.23)rotate(-302)\"><text x=\"15.00\" y=\"5.11\" style=\"fill:rgb(82.7%,82.7%,82.7%);fill-opacity:1.0\">Bifidobacterium</text></g><g transform=\"translate(663.84,698.23)rotate(-310)\"><text x=\"15.00\" y=\"5.11\" style=\"fill:rgb(82.7%,82.7%,82.7%);fill-opacity:1.0\">Adlercreutzia</text></g><g transform=\"translate(687.37,676.12)rotate(-317)\"><text x=\"15.00\" y=\"5.11\" style=\"fill:rgb(82.7%,82.7%,82.7%);fill-opacity:1.0\">Odoribacter</text></g><g transform=\"translate(707.94,651.22)rotate(-324)\"><text x=\"15.00\" y=\"5.11\" style=\"fill:rgb(82.7%,82.7%,82.7%);fill-opacity:1.0\">Prevotella</text></g><g transform=\"translate(725.24,623.94)rotate(-331)\"><text x=\"15.00\" y=\"5.11\" style=\"fill:rgb(82.7%,82.7%,82.7%);fill-opacity:1.0\">Elizabethkingia</text></g><g transform=\"translate(738.98,594.71)rotate(-338)\"><text x=\"15.00\" y=\"5.11\" style=\"fill:rgb(82.7%,82.7%,82.7%);fill-opacity:1.0\">Cloacibacterium</text></g><g transform=\"translate(748.95,563.98)rotate(-346)\"><text x=\"15.00\" y=\"5.11\" style=\"fill:rgb(82.7%,82.7%,82.7%);fill-opacity:1.0\">Akkermansia</text></g><g transform=\"translate(755.00,532.25)rotate(-353)\"><text x=\"15.00\" y=\"5.11\" style=\"fill:rgb(82.7%,82.7%,82.7%);fill-opacity:1.0\">Anaeroplasma</text></g></g></g></g></g><g class=\"toyplot-coordinates-Cartesian\" id=\"t44ee20eda3664510ac2b411f5fd4cb3f\"><clipPath id=\"te8573184e881416c80001f7e51d25643\"><rect x=\"50.0\" y=\"50.0\" width=\"750.0\" height=\"50.0\"></rect></clipPath><g clip-path=\"url(#te8573184e881416c80001f7e51d25643)\"></g></g><g class=\"toyplot-coordinates-Table\" id=\"t5a5aa71159a4426e9296bcb46352cf47\"><g transform=\"translate(50.0,50.0)\"><text x=\"-25.284000000000002\" y=\"-10.423\" style=\"fill:rgb(16.1%,15.3%,14.1%);fill-opacity:1.0;font-family:helvetica;font-size:14.0px;font-weight:bold;stroke:none;vertical-align:baseline;white-space:pre\">Phylum</text></g><g transform=\"translate(45.0,62.5)\"><g style=\"fill:rgb(60%,60%,60%);fill-opacity:1.0\" transform=\"translate(-5.55, -4.440892098500626e-16)\"><circle r=\"4.0\"></circle></g></g><g transform=\"translate(55.0,62.5)\"><text x=\"0\" y=\"3.066\" style=\"fill:rgb(16.1%,15.3%,14.1%);fill-opacity:1.0;font-family:helvetica;font-size:12.0px;font-weight:normal;stroke:none;vertical-align:baseline;white-space:pre\">Tenericutes</text></g><g transform=\"translate(45.0,87.5)\"><g style=\"fill:rgb(100%,49.8%,0%);fill-opacity:1.0\" transform=\"translate(-5.55, -4.440892098500626e-16)\"><circle r=\"4.0\"></circle></g></g><g transform=\"translate(55.0,87.5)\"><text x=\"0\" y=\"3.066\" style=\"fill:rgb(16.1%,15.3%,14.1%);fill-opacity:1.0;font-family:helvetica;font-size:12.0px;font-weight:normal;stroke:none;vertical-align:baseline;white-space:pre\">Verrucomicrobia</text></g><g transform=\"translate(45.0,112.5)\"><g style=\"fill:rgb(55.3%,82.7%,78%);fill-opacity:1.0\" transform=\"translate(-5.55, -4.440892098500626e-16)\"><circle r=\"4.0\"></circle></g></g><g transform=\"translate(55.0,112.5)\"><text x=\"0\" y=\"3.066\" style=\"fill:rgb(16.1%,15.3%,14.1%);fill-opacity:1.0;font-family:helvetica;font-size:12.0px;font-weight:normal;stroke:none;vertical-align:baseline;white-space:pre\">Bacteroidetes</text></g><g transform=\"translate(45.0,137.5)\"><g style=\"fill:rgb(59.6%,30.6%,63.9%);fill-opacity:1.0\" transform=\"translate(-5.55, -4.440892098500626e-16)\"><circle r=\"4.0\"></circle></g></g><g transform=\"translate(55.0,137.5)\"><text x=\"0\" y=\"3.066\" style=\"fill:rgb(16.1%,15.3%,14.1%);fill-opacity:1.0;font-family:helvetica;font-size:12.0px;font-weight:normal;stroke:none;vertical-align:baseline;white-space:pre\">Actinobacteria</text></g><g transform=\"translate(45.0,162.5)\"><g style=\"fill:rgb(99.2%,70.6%,38.4%);fill-opacity:1.0\" transform=\"translate(-5.55, -4.440892098500626e-16)\"><circle r=\"4.0\"></circle></g></g><g transform=\"translate(55.0,162.5)\"><text x=\"0\" y=\"3.066\" style=\"fill:rgb(16.1%,15.3%,14.1%);fill-opacity:1.0;font-family:helvetica;font-size:12.0px;font-weight:normal;stroke:none;vertical-align:baseline;white-space:pre\">Proteobacteria</text></g><g transform=\"translate(45.0,187.5)\"><g style=\"fill:rgb(74.5%,72.9%,85.5%);fill-opacity:1.0\" transform=\"translate(-5.55, -4.440892098500626e-16)\"><circle r=\"4.0\"></circle></g></g><g transform=\"translate(55.0,187.5)\"><text x=\"0\" y=\"3.066\" style=\"fill:rgb(16.1%,15.3%,14.1%);fill-opacity:1.0;font-family:helvetica;font-size:12.0px;font-weight:normal;stroke:none;vertical-align:baseline;white-space:pre\">Firmicutes</text></g></g><g class=\"toyplot-coordinates-Table\" id=\"t513b278d135d4cf48fc659bc6b40e4d2\"><g transform=\"translate(900.0,50.0)\"><text x=\"-81.676\" y=\"-10.423\" style=\"fill:rgb(16.1%,15.3%,14.1%);fill-opacity:1.0;font-family:helvetica;font-size:14.0px;font-weight:bold;stroke:none;vertical-align:baseline;white-space:pre\">Influential Compositions</text></g><g transform=\"translate(895.0,75.0)\"><g style=\"fill:rgb(0%,0%,100%);fill-opacity:1.0\" transform=\"translate(-5.55, -4.440892098500626e-16)\"><circle r=\"10.0\"></circle></g></g><g transform=\"translate(905.0,75.0)\"><text x=\"0\" y=\"3.066\" style=\"fill:rgb(16.1%,15.3%,14.1%);fill-opacity:1.0;font-family:helvetica;font-size:12.0px;font-weight:normal;stroke:none;vertical-align:baseline;white-space:pre\">Only LC</text></g><g transform=\"translate(895.0,125.0)\"><g style=\"fill:rgb(100%,64.7%,0%);fill-opacity:1.0\" transform=\"translate(-5.55, -4.440892098500626e-16)\"><circle r=\"10.0\"></circle></g></g><g transform=\"translate(905.0,125.0)\"><text x=\"0\" y=\"3.066\" style=\"fill:rgb(16.1%,15.3%,14.1%);fill-opacity:1.0;font-family:helvetica;font-size:12.0px;font-weight:normal;stroke:none;vertical-align:baseline;white-space:pre\">ILR+LC</text></g><g transform=\"translate(895.0,175.0)\"><g style=\"fill:rgb(0%,0%,0%);fill-opacity:1.0\" transform=\"translate(-5.55, -4.440892098500626e-16)\"><circle r=\"10.0\"></circle></g></g><g transform=\"translate(905.0,175.0)\"><text x=\"0\" y=\"3.066\" style=\"fill:rgb(16.1%,15.3%,14.1%);fill-opacity:1.0;font-family:helvetica;font-size:12.0px;font-weight:normal;stroke:none;vertical-align:baseline;white-space:pre\">Both Methods</text></g></g></svg><div class=\"toyplot-behavior\"><script>(function()\n",
       "{\n",
       "var modules={};\n",
       "})();</script></div></div>"
      ]
     },
     "metadata": {},
     "output_type": "display_data"
    }
   ],
   "source": [
    "tree = draw_tree(node_df, agg_level=agg_level, eff_max=5)"
   ]
  },
  {
   "cell_type": "code",
   "execution_count": 9,
   "metadata": {},
   "outputs": [
    {
     "data": {
      "text/plain": [
       "<toytree.Toytree.ToyTree at 0x7ff0cbf0bd30>"
      ]
     },
     "execution_count": 9,
     "metadata": {},
     "output_type": "execute_result"
    }
   ],
   "source": [
    "# execute this line if you want to save the image\n",
    "draw_tree(node_df, agg_level=agg_level, eff_max=5, \n",
    "          save_path=os.path.join(save_path, \"Tree\"+str(agg_level)+\".svg\"))"
   ]
  },
  {
   "cell_type": "code",
   "execution_count": null,
   "metadata": {},
   "outputs": [],
   "source": []
  }
 ],
 "metadata": {
  "kernelspec": {
   "display_name": "Python 3 (ipykernel)",
   "language": "python",
   "name": "python3"
  },
  "language_info": {
   "codemirror_mode": {
    "name": "ipython",
    "version": 3
   },
   "file_extension": ".py",
   "mimetype": "text/x-python",
   "name": "python",
   "nbconvert_exporter": "python",
   "pygments_lexer": "ipython3",
   "version": "3.9.18"
  },
  "toc": {
   "base_numbering": 1,
   "nav_menu": {},
   "number_sections": true,
   "sideBar": true,
   "skip_h1_title": false,
   "title_cell": "Table of Contents",
   "title_sidebar": "Contents",
   "toc_cell": false,
   "toc_position": {},
   "toc_section_display": true,
   "toc_window_display": false
  }
 },
 "nbformat": 4,
 "nbformat_minor": 4
}
